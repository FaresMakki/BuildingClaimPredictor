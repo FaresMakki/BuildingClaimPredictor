{
 "cells": [
  {
   "cell_type": "code",
   "execution_count": 230,
   "id": "initial_id",
   "metadata": {
    "collapsed": true,
    "ExecuteTime": {
     "end_time": "2024-11-24T00:24:46.540377100Z",
     "start_time": "2024-11-24T00:24:46.308650300Z"
    }
   },
   "outputs": [],
   "source": [
    "import pandas as pd\n",
    "import numpy as np\n",
    "from sklearn.impute import SimpleImputer\n",
    "import matplotlib.pyplot as plt\n",
    "import seaborn as sns\n",
    "from sklearn.preprocessing import OrdinalEncoder\n",
    "from sklearn.impute import KNNImputer\n",
    "\n",
    "from sklearn.preprocessing import KBinsDiscretizer\n"
   ]
  },
  {
   "cell_type": "code",
   "execution_count": 231,
   "outputs": [],
   "source": [
    "df = pd.read_csv('train_insurance.csv')\n",
    "df.head()\n",
    "#--------------------------------------------------\n",
    "df_test=pd.read_csv('test_insurance.csv')\n"
   ],
   "metadata": {
    "collapsed": false,
    "ExecuteTime": {
     "end_time": "2024-11-24T00:24:46.862353700Z",
     "start_time": "2024-11-24T00:24:46.313020100Z"
    }
   },
   "id": "d971386e36994910"
  },
  {
   "cell_type": "code",
   "execution_count": 232,
   "outputs": [
    {
     "name": "stdout",
     "output_type": "stream",
     "text": [
      "<class 'pandas.core.frame.DataFrame'>\n",
      "RangeIndex: 5012 entries, 0 to 5011\n",
      "Data columns (total 13 columns):\n",
      " #   Column              Non-Null Count  Dtype  \n",
      "---  ------              --------------  -----  \n",
      " 0   Customer Id         5012 non-null   object \n",
      " 1   YearOfObservation   5012 non-null   int64  \n",
      " 2   Insured_Period      5012 non-null   float64\n",
      " 3   Residential         5012 non-null   int64  \n",
      " 4   Building_Painted    5012 non-null   object \n",
      " 5   Building_Fenced     5012 non-null   object \n",
      " 6   Garden              5008 non-null   object \n",
      " 7   Settlement          5012 non-null   object \n",
      " 8   Building Dimension  4935 non-null   float64\n",
      " 9   Building_Type       5012 non-null   object \n",
      " 10  NumberOfWindows     5012 non-null   object \n",
      " 11  Geo_Code            4939 non-null   object \n",
      " 12  Claim               5012 non-null   object \n",
      "dtypes: float64(2), int64(2), object(9)\n",
      "memory usage: 509.2+ KB\n",
      "<class 'pandas.core.frame.DataFrame'>\n",
      "RangeIndex: 2147 entries, 0 to 2146\n",
      "Data columns (total 13 columns):\n",
      " #   Column              Non-Null Count  Dtype  \n",
      "---  ------              --------------  -----  \n",
      " 0   Customer Id         2147 non-null   object \n",
      " 1   YearOfObservation   2147 non-null   int64  \n",
      " 2   Insured_Period      2147 non-null   float64\n",
      " 3   Residential         2147 non-null   int64  \n",
      " 4   Building_Painted    2147 non-null   object \n",
      " 5   Building_Fenced     2147 non-null   object \n",
      " 6   Garden              2144 non-null   object \n",
      " 7   Settlement          2147 non-null   object \n",
      " 8   Building Dimension  2118 non-null   float64\n",
      " 9   Building_Type       2147 non-null   object \n",
      " 10  NumberOfWindows     2147 non-null   object \n",
      " 11  Geo_Code            2118 non-null   object \n",
      " 12  Claim               2147 non-null   object \n",
      "dtypes: float64(2), int64(2), object(9)\n",
      "memory usage: 218.2+ KB\n"
     ]
    }
   ],
   "source": [
    "df.info()\n",
    "#----------------------------------------------------\n",
    "df_test.info()"
   ],
   "metadata": {
    "collapsed": false,
    "ExecuteTime": {
     "end_time": "2024-11-24T00:24:46.939541200Z",
     "start_time": "2024-11-24T00:24:46.338134900Z"
    }
   },
   "id": "b03edd5252690aed"
  },
  {
   "cell_type": "code",
   "execution_count": 233,
   "outputs": [
    {
     "data": {
      "text/plain": "Customer Id            0\nYearOfObservation      0\nInsured_Period         0\nResidential            0\nBuilding_Painted       0\nBuilding_Fenced        0\nGarden                 4\nSettlement             0\nBuilding Dimension    77\nBuilding_Type          0\nNumberOfWindows        0\nGeo_Code              73\nClaim                  0\ndtype: int64"
     },
     "execution_count": 233,
     "metadata": {},
     "output_type": "execute_result"
    }
   ],
   "source": [
    "df.isnull().sum()"
   ],
   "metadata": {
    "collapsed": false,
    "ExecuteTime": {
     "end_time": "2024-11-24T00:24:46.950060200Z",
     "start_time": "2024-11-24T00:24:46.352174800Z"
    }
   },
   "id": "d1e6f28982971a75"
  },
  {
   "cell_type": "code",
   "execution_count": 234,
   "outputs": [
    {
     "data": {
      "text/plain": "       YearOfObservation  Insured_Period  Residential  Building Dimension\ncount        5012.000000     5012.000000  5012.000000         4935.000000\nmean         2013.660215        0.869713     0.301077         1876.898683\nstd             1.383134        0.219496     0.458772         2267.277397\nmin          2012.000000        0.500000     0.000000            1.000000\n25%          2012.000000        0.500000     0.000000          520.000000\n50%          2013.000000        1.000000     0.000000         1067.000000\n75%          2015.000000        1.000000     1.000000         2280.000000\nmax          2016.000000        1.000000     1.000000        20840.000000",
      "text/html": "<div>\n<style scoped>\n    .dataframe tbody tr th:only-of-type {\n        vertical-align: middle;\n    }\n\n    .dataframe tbody tr th {\n        vertical-align: top;\n    }\n\n    .dataframe thead th {\n        text-align: right;\n    }\n</style>\n<table border=\"1\" class=\"dataframe\">\n  <thead>\n    <tr style=\"text-align: right;\">\n      <th></th>\n      <th>YearOfObservation</th>\n      <th>Insured_Period</th>\n      <th>Residential</th>\n      <th>Building Dimension</th>\n    </tr>\n  </thead>\n  <tbody>\n    <tr>\n      <th>count</th>\n      <td>5012.000000</td>\n      <td>5012.000000</td>\n      <td>5012.000000</td>\n      <td>4935.000000</td>\n    </tr>\n    <tr>\n      <th>mean</th>\n      <td>2013.660215</td>\n      <td>0.869713</td>\n      <td>0.301077</td>\n      <td>1876.898683</td>\n    </tr>\n    <tr>\n      <th>std</th>\n      <td>1.383134</td>\n      <td>0.219496</td>\n      <td>0.458772</td>\n      <td>2267.277397</td>\n    </tr>\n    <tr>\n      <th>min</th>\n      <td>2012.000000</td>\n      <td>0.500000</td>\n      <td>0.000000</td>\n      <td>1.000000</td>\n    </tr>\n    <tr>\n      <th>25%</th>\n      <td>2012.000000</td>\n      <td>0.500000</td>\n      <td>0.000000</td>\n      <td>520.000000</td>\n    </tr>\n    <tr>\n      <th>50%</th>\n      <td>2013.000000</td>\n      <td>1.000000</td>\n      <td>0.000000</td>\n      <td>1067.000000</td>\n    </tr>\n    <tr>\n      <th>75%</th>\n      <td>2015.000000</td>\n      <td>1.000000</td>\n      <td>1.000000</td>\n      <td>2280.000000</td>\n    </tr>\n    <tr>\n      <th>max</th>\n      <td>2016.000000</td>\n      <td>1.000000</td>\n      <td>1.000000</td>\n      <td>20840.000000</td>\n    </tr>\n  </tbody>\n</table>\n</div>"
     },
     "execution_count": 234,
     "metadata": {},
     "output_type": "execute_result"
    }
   ],
   "source": [
    "df.describe()\n"
   ],
   "metadata": {
    "collapsed": false,
    "ExecuteTime": {
     "end_time": "2024-11-24T00:24:46.993638800Z",
     "start_time": "2024-11-24T00:24:46.365877300Z"
    }
   },
   "id": "a41d5c83b86a5f79"
  },
  {
   "cell_type": "code",
   "execution_count": 235,
   "outputs": [],
   "source": [
    "df = df.drop(columns=['Customer Id'])\n",
    "#----------------------------------------------------\n",
    "df_test = df_test.drop(columns=['Customer Id'])"
   ],
   "metadata": {
    "collapsed": false,
    "ExecuteTime": {
     "end_time": "2024-11-24T00:24:47.020250Z",
     "start_time": "2024-11-24T00:24:46.383288200Z"
    }
   },
   "id": "60f972a2fd7f719a"
  },
  {
   "cell_type": "code",
   "execution_count": 236,
   "outputs": [
    {
     "data": {
      "text/plain": "      YearOfObservation  Insured_Period  Residential Building_Painted  \\\n443                2012             1.0            1                V   \n584                2013             1.0            0                V   \n1601               2012             1.0            0                V   \n1663               2014             1.0            0                V   \n1685               2014             1.0            0                V   \n1758               2013             1.0            0                V   \n1828               2013             0.5            1                V   \n1987               2013             0.5            1                V   \n2014               2012             1.0            0                V   \n2116               2012             1.0            0                N   \n2123               2012             1.0            0                N   \n2140               2013             1.0            0                V   \n2386               2013             1.0            0                V   \n2423               2012             1.0            1                V   \n2483               2014             1.0            1                V   \n2549               2013             1.0            0                V   \n2605               2012             1.0            0                V   \n2708               2013             0.5            1                N   \n2749               2013             1.0            1                V   \n2755               2013             1.0            0                V   \n2885               2012             1.0            0                V   \n3047               2012             1.0            1                V   \n3174               2012             1.0            0                V   \n3182               2013             0.5            0                V   \n3393               2013             1.0            1                V   \n3431               2012             1.0            0                V   \n3590               2014             1.0            0                V   \n3622               2015             0.5            0                V   \n3632               2012             1.0            1                V   \n3796               2013             1.0            0                V   \n4102               2013             0.5            1                V   \n4216               2012             1.0            0                V   \n4246               2014             1.0            0                V   \n4306               2015             0.5            0                V   \n4391               2014             1.0            0                V   \n4555               2012             1.0            0                V   \n4577               2012             1.0            1                V   \n4724               2015             1.0            0                V   \n4836               2012             1.0            0                V   \n4886               2013             0.5            0                V   \n4929               2012             1.0            1                V   \n4948               2015             0.5            0                V   \n\n     Building_Fenced Garden Settlement  Building Dimension    Building_Type  \\\n443                N      O          R               999.0  Non-combustible   \n584                V      V          U                 NaN  Non-combustible   \n1601               V      V          U                 NaN  Non-combustible   \n1663               V      V          U                 NaN  Non-combustible   \n1685               V      V          U                 NaN   Fire-resistive   \n1758               V      V          U                 NaN  Non-combustible   \n1828               V      V          U                 NaN  Non-combustible   \n1987               V      V          U                 NaN  Non-combustible   \n2014               N      O          R               400.0      Wood-framed   \n2116               V      V          U               250.0  Non-combustible   \n2123               V      V          U              2208.0   Fire-resistive   \n2140               N      O          R               450.0  Non-combustible   \n2386               V      V          U                 NaN  Non-combustible   \n2423               V      V          U                 NaN  Non-combustible   \n2483               N      O          R              2200.0      Wood-framed   \n2549               V      V          U                 NaN   Fire-resistive   \n2605               V      V          U                 NaN  Non-combustible   \n2708               V      V          U               315.0  Non-combustible   \n2749               V      V          U                 NaN  Non-combustible   \n2755               V      V          U                 NaN  Non-combustible   \n2885               N      O          R              4142.0  Non-combustible   \n3047               V      V          U                 NaN         Ordinary   \n3174               V      V          U                 NaN         Ordinary   \n3182               V      V          U                 NaN   Fire-resistive   \n3393               V      V          U                 NaN  Non-combustible   \n3431               V      V          U                 NaN  Non-combustible   \n3590               V      V          U                 NaN  Non-combustible   \n3622               V      V          U                 NaN   Fire-resistive   \n3632               V      V          U                 NaN  Non-combustible   \n3796               V      V          U                 NaN   Fire-resistive   \n4102               V      V          U                 NaN  Non-combustible   \n4216               V      V          U                 NaN   Fire-resistive   \n4246               V      V          U                 NaN   Fire-resistive   \n4306               V      V          U                 NaN  Non-combustible   \n4391               V      V          U               550.0  Non-combustible   \n4555               V      V          U                 NaN  Non-combustible   \n4577               V      V          U                 NaN  Non-combustible   \n4724               V      V          U                 NaN  Non-combustible   \n4836               V      V          U                 NaN  Non-combustible   \n4886               V      V          U                 NaN  Non-combustible   \n4929               V      V          U                 NaN  Non-combustible   \n4948               N      O          R               300.0         Ordinary   \n\n     NumberOfWindows Geo_Code Claim  \n443                3    66130   non  \n584          without      NaN   non  \n1601         without      NaN   non  \n1663         without      NaN   non  \n1685         without      NaN   non  \n1758         without      NaN   non  \n1828         without      NaN   non  \n1987         without      NaN   non  \n2014               4     6069   non  \n2116         without    64122   non  \n2123         without    13071   oui  \n2140               3    34172   non  \n2386         without      NaN   non  \n2423         without      NaN   non  \n2483               7    75118   oui  \n2549         without      NaN   non  \n2605         without      NaN   non  \n2708         without    66130   non  \n2749         without      NaN   non  \n2755         without      NaN   non  \n2885            >=10    38229   non  \n3047         without      NaN   non  \n3174         without      NaN   non  \n3182         without      NaN   non  \n3393         without      NaN   non  \n3431         without      NaN   non  \n3590         without      NaN   non  \n3622         without      NaN   non  \n3632         without      NaN   non  \n3796         without      NaN   non  \n4102         without      NaN   non  \n4216         without      NaN   oui  \n4246         without      NaN   non  \n4306         without      NaN   non  \n4391         without    38931   non  \n4555         without      NaN   non  \n4577         without      NaN   oui  \n4724         without      NaN   non  \n4836         without      NaN   non  \n4886         without      NaN   non  \n4929         without      NaN   oui  \n4948               4    33063   non  ",
      "text/html": "<div>\n<style scoped>\n    .dataframe tbody tr th:only-of-type {\n        vertical-align: middle;\n    }\n\n    .dataframe tbody tr th {\n        vertical-align: top;\n    }\n\n    .dataframe thead th {\n        text-align: right;\n    }\n</style>\n<table border=\"1\" class=\"dataframe\">\n  <thead>\n    <tr style=\"text-align: right;\">\n      <th></th>\n      <th>YearOfObservation</th>\n      <th>Insured_Period</th>\n      <th>Residential</th>\n      <th>Building_Painted</th>\n      <th>Building_Fenced</th>\n      <th>Garden</th>\n      <th>Settlement</th>\n      <th>Building Dimension</th>\n      <th>Building_Type</th>\n      <th>NumberOfWindows</th>\n      <th>Geo_Code</th>\n      <th>Claim</th>\n    </tr>\n  </thead>\n  <tbody>\n    <tr>\n      <th>443</th>\n      <td>2012</td>\n      <td>1.0</td>\n      <td>1</td>\n      <td>V</td>\n      <td>N</td>\n      <td>O</td>\n      <td>R</td>\n      <td>999.0</td>\n      <td>Non-combustible</td>\n      <td>3</td>\n      <td>66130</td>\n      <td>non</td>\n    </tr>\n    <tr>\n      <th>584</th>\n      <td>2013</td>\n      <td>1.0</td>\n      <td>0</td>\n      <td>V</td>\n      <td>V</td>\n      <td>V</td>\n      <td>U</td>\n      <td>NaN</td>\n      <td>Non-combustible</td>\n      <td>without</td>\n      <td>NaN</td>\n      <td>non</td>\n    </tr>\n    <tr>\n      <th>1601</th>\n      <td>2012</td>\n      <td>1.0</td>\n      <td>0</td>\n      <td>V</td>\n      <td>V</td>\n      <td>V</td>\n      <td>U</td>\n      <td>NaN</td>\n      <td>Non-combustible</td>\n      <td>without</td>\n      <td>NaN</td>\n      <td>non</td>\n    </tr>\n    <tr>\n      <th>1663</th>\n      <td>2014</td>\n      <td>1.0</td>\n      <td>0</td>\n      <td>V</td>\n      <td>V</td>\n      <td>V</td>\n      <td>U</td>\n      <td>NaN</td>\n      <td>Non-combustible</td>\n      <td>without</td>\n      <td>NaN</td>\n      <td>non</td>\n    </tr>\n    <tr>\n      <th>1685</th>\n      <td>2014</td>\n      <td>1.0</td>\n      <td>0</td>\n      <td>V</td>\n      <td>V</td>\n      <td>V</td>\n      <td>U</td>\n      <td>NaN</td>\n      <td>Fire-resistive</td>\n      <td>without</td>\n      <td>NaN</td>\n      <td>non</td>\n    </tr>\n    <tr>\n      <th>1758</th>\n      <td>2013</td>\n      <td>1.0</td>\n      <td>0</td>\n      <td>V</td>\n      <td>V</td>\n      <td>V</td>\n      <td>U</td>\n      <td>NaN</td>\n      <td>Non-combustible</td>\n      <td>without</td>\n      <td>NaN</td>\n      <td>non</td>\n    </tr>\n    <tr>\n      <th>1828</th>\n      <td>2013</td>\n      <td>0.5</td>\n      <td>1</td>\n      <td>V</td>\n      <td>V</td>\n      <td>V</td>\n      <td>U</td>\n      <td>NaN</td>\n      <td>Non-combustible</td>\n      <td>without</td>\n      <td>NaN</td>\n      <td>non</td>\n    </tr>\n    <tr>\n      <th>1987</th>\n      <td>2013</td>\n      <td>0.5</td>\n      <td>1</td>\n      <td>V</td>\n      <td>V</td>\n      <td>V</td>\n      <td>U</td>\n      <td>NaN</td>\n      <td>Non-combustible</td>\n      <td>without</td>\n      <td>NaN</td>\n      <td>non</td>\n    </tr>\n    <tr>\n      <th>2014</th>\n      <td>2012</td>\n      <td>1.0</td>\n      <td>0</td>\n      <td>V</td>\n      <td>N</td>\n      <td>O</td>\n      <td>R</td>\n      <td>400.0</td>\n      <td>Wood-framed</td>\n      <td>4</td>\n      <td>6069</td>\n      <td>non</td>\n    </tr>\n    <tr>\n      <th>2116</th>\n      <td>2012</td>\n      <td>1.0</td>\n      <td>0</td>\n      <td>N</td>\n      <td>V</td>\n      <td>V</td>\n      <td>U</td>\n      <td>250.0</td>\n      <td>Non-combustible</td>\n      <td>without</td>\n      <td>64122</td>\n      <td>non</td>\n    </tr>\n    <tr>\n      <th>2123</th>\n      <td>2012</td>\n      <td>1.0</td>\n      <td>0</td>\n      <td>N</td>\n      <td>V</td>\n      <td>V</td>\n      <td>U</td>\n      <td>2208.0</td>\n      <td>Fire-resistive</td>\n      <td>without</td>\n      <td>13071</td>\n      <td>oui</td>\n    </tr>\n    <tr>\n      <th>2140</th>\n      <td>2013</td>\n      <td>1.0</td>\n      <td>0</td>\n      <td>V</td>\n      <td>N</td>\n      <td>O</td>\n      <td>R</td>\n      <td>450.0</td>\n      <td>Non-combustible</td>\n      <td>3</td>\n      <td>34172</td>\n      <td>non</td>\n    </tr>\n    <tr>\n      <th>2386</th>\n      <td>2013</td>\n      <td>1.0</td>\n      <td>0</td>\n      <td>V</td>\n      <td>V</td>\n      <td>V</td>\n      <td>U</td>\n      <td>NaN</td>\n      <td>Non-combustible</td>\n      <td>without</td>\n      <td>NaN</td>\n      <td>non</td>\n    </tr>\n    <tr>\n      <th>2423</th>\n      <td>2012</td>\n      <td>1.0</td>\n      <td>1</td>\n      <td>V</td>\n      <td>V</td>\n      <td>V</td>\n      <td>U</td>\n      <td>NaN</td>\n      <td>Non-combustible</td>\n      <td>without</td>\n      <td>NaN</td>\n      <td>non</td>\n    </tr>\n    <tr>\n      <th>2483</th>\n      <td>2014</td>\n      <td>1.0</td>\n      <td>1</td>\n      <td>V</td>\n      <td>N</td>\n      <td>O</td>\n      <td>R</td>\n      <td>2200.0</td>\n      <td>Wood-framed</td>\n      <td>7</td>\n      <td>75118</td>\n      <td>oui</td>\n    </tr>\n    <tr>\n      <th>2549</th>\n      <td>2013</td>\n      <td>1.0</td>\n      <td>0</td>\n      <td>V</td>\n      <td>V</td>\n      <td>V</td>\n      <td>U</td>\n      <td>NaN</td>\n      <td>Fire-resistive</td>\n      <td>without</td>\n      <td>NaN</td>\n      <td>non</td>\n    </tr>\n    <tr>\n      <th>2605</th>\n      <td>2012</td>\n      <td>1.0</td>\n      <td>0</td>\n      <td>V</td>\n      <td>V</td>\n      <td>V</td>\n      <td>U</td>\n      <td>NaN</td>\n      <td>Non-combustible</td>\n      <td>without</td>\n      <td>NaN</td>\n      <td>non</td>\n    </tr>\n    <tr>\n      <th>2708</th>\n      <td>2013</td>\n      <td>0.5</td>\n      <td>1</td>\n      <td>N</td>\n      <td>V</td>\n      <td>V</td>\n      <td>U</td>\n      <td>315.0</td>\n      <td>Non-combustible</td>\n      <td>without</td>\n      <td>66130</td>\n      <td>non</td>\n    </tr>\n    <tr>\n      <th>2749</th>\n      <td>2013</td>\n      <td>1.0</td>\n      <td>1</td>\n      <td>V</td>\n      <td>V</td>\n      <td>V</td>\n      <td>U</td>\n      <td>NaN</td>\n      <td>Non-combustible</td>\n      <td>without</td>\n      <td>NaN</td>\n      <td>non</td>\n    </tr>\n    <tr>\n      <th>2755</th>\n      <td>2013</td>\n      <td>1.0</td>\n      <td>0</td>\n      <td>V</td>\n      <td>V</td>\n      <td>V</td>\n      <td>U</td>\n      <td>NaN</td>\n      <td>Non-combustible</td>\n      <td>without</td>\n      <td>NaN</td>\n      <td>non</td>\n    </tr>\n    <tr>\n      <th>2885</th>\n      <td>2012</td>\n      <td>1.0</td>\n      <td>0</td>\n      <td>V</td>\n      <td>N</td>\n      <td>O</td>\n      <td>R</td>\n      <td>4142.0</td>\n      <td>Non-combustible</td>\n      <td>&gt;=10</td>\n      <td>38229</td>\n      <td>non</td>\n    </tr>\n    <tr>\n      <th>3047</th>\n      <td>2012</td>\n      <td>1.0</td>\n      <td>1</td>\n      <td>V</td>\n      <td>V</td>\n      <td>V</td>\n      <td>U</td>\n      <td>NaN</td>\n      <td>Ordinary</td>\n      <td>without</td>\n      <td>NaN</td>\n      <td>non</td>\n    </tr>\n    <tr>\n      <th>3174</th>\n      <td>2012</td>\n      <td>1.0</td>\n      <td>0</td>\n      <td>V</td>\n      <td>V</td>\n      <td>V</td>\n      <td>U</td>\n      <td>NaN</td>\n      <td>Ordinary</td>\n      <td>without</td>\n      <td>NaN</td>\n      <td>non</td>\n    </tr>\n    <tr>\n      <th>3182</th>\n      <td>2013</td>\n      <td>0.5</td>\n      <td>0</td>\n      <td>V</td>\n      <td>V</td>\n      <td>V</td>\n      <td>U</td>\n      <td>NaN</td>\n      <td>Fire-resistive</td>\n      <td>without</td>\n      <td>NaN</td>\n      <td>non</td>\n    </tr>\n    <tr>\n      <th>3393</th>\n      <td>2013</td>\n      <td>1.0</td>\n      <td>1</td>\n      <td>V</td>\n      <td>V</td>\n      <td>V</td>\n      <td>U</td>\n      <td>NaN</td>\n      <td>Non-combustible</td>\n      <td>without</td>\n      <td>NaN</td>\n      <td>non</td>\n    </tr>\n    <tr>\n      <th>3431</th>\n      <td>2012</td>\n      <td>1.0</td>\n      <td>0</td>\n      <td>V</td>\n      <td>V</td>\n      <td>V</td>\n      <td>U</td>\n      <td>NaN</td>\n      <td>Non-combustible</td>\n      <td>without</td>\n      <td>NaN</td>\n      <td>non</td>\n    </tr>\n    <tr>\n      <th>3590</th>\n      <td>2014</td>\n      <td>1.0</td>\n      <td>0</td>\n      <td>V</td>\n      <td>V</td>\n      <td>V</td>\n      <td>U</td>\n      <td>NaN</td>\n      <td>Non-combustible</td>\n      <td>without</td>\n      <td>NaN</td>\n      <td>non</td>\n    </tr>\n    <tr>\n      <th>3622</th>\n      <td>2015</td>\n      <td>0.5</td>\n      <td>0</td>\n      <td>V</td>\n      <td>V</td>\n      <td>V</td>\n      <td>U</td>\n      <td>NaN</td>\n      <td>Fire-resistive</td>\n      <td>without</td>\n      <td>NaN</td>\n      <td>non</td>\n    </tr>\n    <tr>\n      <th>3632</th>\n      <td>2012</td>\n      <td>1.0</td>\n      <td>1</td>\n      <td>V</td>\n      <td>V</td>\n      <td>V</td>\n      <td>U</td>\n      <td>NaN</td>\n      <td>Non-combustible</td>\n      <td>without</td>\n      <td>NaN</td>\n      <td>non</td>\n    </tr>\n    <tr>\n      <th>3796</th>\n      <td>2013</td>\n      <td>1.0</td>\n      <td>0</td>\n      <td>V</td>\n      <td>V</td>\n      <td>V</td>\n      <td>U</td>\n      <td>NaN</td>\n      <td>Fire-resistive</td>\n      <td>without</td>\n      <td>NaN</td>\n      <td>non</td>\n    </tr>\n    <tr>\n      <th>4102</th>\n      <td>2013</td>\n      <td>0.5</td>\n      <td>1</td>\n      <td>V</td>\n      <td>V</td>\n      <td>V</td>\n      <td>U</td>\n      <td>NaN</td>\n      <td>Non-combustible</td>\n      <td>without</td>\n      <td>NaN</td>\n      <td>non</td>\n    </tr>\n    <tr>\n      <th>4216</th>\n      <td>2012</td>\n      <td>1.0</td>\n      <td>0</td>\n      <td>V</td>\n      <td>V</td>\n      <td>V</td>\n      <td>U</td>\n      <td>NaN</td>\n      <td>Fire-resistive</td>\n      <td>without</td>\n      <td>NaN</td>\n      <td>oui</td>\n    </tr>\n    <tr>\n      <th>4246</th>\n      <td>2014</td>\n      <td>1.0</td>\n      <td>0</td>\n      <td>V</td>\n      <td>V</td>\n      <td>V</td>\n      <td>U</td>\n      <td>NaN</td>\n      <td>Fire-resistive</td>\n      <td>without</td>\n      <td>NaN</td>\n      <td>non</td>\n    </tr>\n    <tr>\n      <th>4306</th>\n      <td>2015</td>\n      <td>0.5</td>\n      <td>0</td>\n      <td>V</td>\n      <td>V</td>\n      <td>V</td>\n      <td>U</td>\n      <td>NaN</td>\n      <td>Non-combustible</td>\n      <td>without</td>\n      <td>NaN</td>\n      <td>non</td>\n    </tr>\n    <tr>\n      <th>4391</th>\n      <td>2014</td>\n      <td>1.0</td>\n      <td>0</td>\n      <td>V</td>\n      <td>V</td>\n      <td>V</td>\n      <td>U</td>\n      <td>550.0</td>\n      <td>Non-combustible</td>\n      <td>without</td>\n      <td>38931</td>\n      <td>non</td>\n    </tr>\n    <tr>\n      <th>4555</th>\n      <td>2012</td>\n      <td>1.0</td>\n      <td>0</td>\n      <td>V</td>\n      <td>V</td>\n      <td>V</td>\n      <td>U</td>\n      <td>NaN</td>\n      <td>Non-combustible</td>\n      <td>without</td>\n      <td>NaN</td>\n      <td>non</td>\n    </tr>\n    <tr>\n      <th>4577</th>\n      <td>2012</td>\n      <td>1.0</td>\n      <td>1</td>\n      <td>V</td>\n      <td>V</td>\n      <td>V</td>\n      <td>U</td>\n      <td>NaN</td>\n      <td>Non-combustible</td>\n      <td>without</td>\n      <td>NaN</td>\n      <td>oui</td>\n    </tr>\n    <tr>\n      <th>4724</th>\n      <td>2015</td>\n      <td>1.0</td>\n      <td>0</td>\n      <td>V</td>\n      <td>V</td>\n      <td>V</td>\n      <td>U</td>\n      <td>NaN</td>\n      <td>Non-combustible</td>\n      <td>without</td>\n      <td>NaN</td>\n      <td>non</td>\n    </tr>\n    <tr>\n      <th>4836</th>\n      <td>2012</td>\n      <td>1.0</td>\n      <td>0</td>\n      <td>V</td>\n      <td>V</td>\n      <td>V</td>\n      <td>U</td>\n      <td>NaN</td>\n      <td>Non-combustible</td>\n      <td>without</td>\n      <td>NaN</td>\n      <td>non</td>\n    </tr>\n    <tr>\n      <th>4886</th>\n      <td>2013</td>\n      <td>0.5</td>\n      <td>0</td>\n      <td>V</td>\n      <td>V</td>\n      <td>V</td>\n      <td>U</td>\n      <td>NaN</td>\n      <td>Non-combustible</td>\n      <td>without</td>\n      <td>NaN</td>\n      <td>non</td>\n    </tr>\n    <tr>\n      <th>4929</th>\n      <td>2012</td>\n      <td>1.0</td>\n      <td>1</td>\n      <td>V</td>\n      <td>V</td>\n      <td>V</td>\n      <td>U</td>\n      <td>NaN</td>\n      <td>Non-combustible</td>\n      <td>without</td>\n      <td>NaN</td>\n      <td>oui</td>\n    </tr>\n    <tr>\n      <th>4948</th>\n      <td>2015</td>\n      <td>0.5</td>\n      <td>0</td>\n      <td>V</td>\n      <td>N</td>\n      <td>O</td>\n      <td>R</td>\n      <td>300.0</td>\n      <td>Ordinary</td>\n      <td>4</td>\n      <td>33063</td>\n      <td>non</td>\n    </tr>\n  </tbody>\n</table>\n</div>"
     },
     "execution_count": 236,
     "metadata": {},
     "output_type": "execute_result"
    }
   ],
   "source": [
    "df[df.duplicated()]\n"
   ],
   "metadata": {
    "collapsed": false,
    "ExecuteTime": {
     "end_time": "2024-11-24T00:24:47.047842500Z",
     "start_time": "2024-11-24T00:24:46.385892800Z"
    }
   },
   "id": "f38482a06605373d"
  },
  {
   "cell_type": "code",
   "execution_count": 237,
   "outputs": [],
   "source": [
    "df.drop_duplicates(inplace=True)\n",
    "#----------------------------------------------------\n",
    "df_test.drop_duplicates(inplace=True)"
   ],
   "metadata": {
    "collapsed": false,
    "ExecuteTime": {
     "end_time": "2024-11-24T00:24:47.047842500Z",
     "start_time": "2024-11-24T00:24:46.410575100Z"
    }
   },
   "id": "6b6ee6504ccd39c1"
  },
  {
   "cell_type": "code",
   "execution_count": 238,
   "outputs": [
    {
     "data": {
      "text/plain": "Empty DataFrame\nColumns: [YearOfObservation, Insured_Period, Residential, Building_Painted, Building_Fenced, Garden, Settlement, Building Dimension, Building_Type, NumberOfWindows, Geo_Code, Claim]\nIndex: []",
      "text/html": "<div>\n<style scoped>\n    .dataframe tbody tr th:only-of-type {\n        vertical-align: middle;\n    }\n\n    .dataframe tbody tr th {\n        vertical-align: top;\n    }\n\n    .dataframe thead th {\n        text-align: right;\n    }\n</style>\n<table border=\"1\" class=\"dataframe\">\n  <thead>\n    <tr style=\"text-align: right;\">\n      <th></th>\n      <th>YearOfObservation</th>\n      <th>Insured_Period</th>\n      <th>Residential</th>\n      <th>Building_Painted</th>\n      <th>Building_Fenced</th>\n      <th>Garden</th>\n      <th>Settlement</th>\n      <th>Building Dimension</th>\n      <th>Building_Type</th>\n      <th>NumberOfWindows</th>\n      <th>Geo_Code</th>\n      <th>Claim</th>\n    </tr>\n  </thead>\n  <tbody>\n  </tbody>\n</table>\n</div>"
     },
     "execution_count": 238,
     "metadata": {},
     "output_type": "execute_result"
    }
   ],
   "source": [
    "df[df.duplicated()]# no duplication\n"
   ],
   "metadata": {
    "collapsed": false,
    "ExecuteTime": {
     "end_time": "2024-11-24T00:24:47.048844500Z",
     "start_time": "2024-11-24T00:24:46.419951900Z"
    }
   },
   "id": "783ff836c823a140"
  },
  {
   "cell_type": "code",
   "execution_count": 239,
   "outputs": [
    {
     "data": {
      "text/plain": "<Figure size 640x480 with 1 Axes>",
      "image/png": "[encoded data removed]"
     },
     "metadata": {},
     "output_type": "display_data"
    }
   ],
   "source": [
    "sns.countplot(x='Claim', data=df)\n",
    "plt.title('Distribution de la variable cible (Claim)')\n",
    "plt.show()"
   ],
   "metadata": {
    "collapsed": false,
    "ExecuteTime": {
     "end_time": "2024-11-24T00:24:47.077934900Z",
     "start_time": "2024-11-24T00:24:46.431153800Z"
    }
   },
   "id": "31ea21e141a56f2e"
  },
  {
   "cell_type": "code",
   "execution_count": 240,
   "outputs": [
    {
     "name": "stdout",
     "output_type": "stream",
     "text": [
      "Residential\n",
      "0    3474\n",
      "1    1496\n",
      "Name: count, dtype: int64\n"
     ]
    },
    {
     "data": {
      "text/plain": "<Figure size 640x480 with 1 Axes>",
      "image/png": "[encoded data removed]"
     },
     "metadata": {},
     "output_type": "display_data"
    },
    {
     "name": "stdout",
     "output_type": "stream",
     "text": [
      "Building_Painted\n",
      "V    3724\n",
      "N    1246\n",
      "Name: count, dtype: int64\n"
     ]
    },
    {
     "data": {
      "text/plain": "<Figure size 640x480 with 1 Axes>",
      "image/png": "[encoded data removed]"
     },
     "metadata": {},
     "output_type": "display_data"
    },
    {
     "name": "stdout",
     "output_type": "stream",
     "text": [
      "Building_Fenced\n",
      "N    2529\n",
      "V    2441\n",
      "Name: count, dtype: int64\n"
     ]
    },
    {
     "data": {
      "text/plain": "<Figure size 640x480 with 1 Axes>",
      "image/png": "[encoded data removed]"
     },
     "metadata": {},
     "output_type": "display_data"
    },
    {
     "name": "stdout",
     "output_type": "stream",
     "text": [
      "Garden\n",
      "O    2526\n",
      "V    2440\n",
      "Name: count, dtype: int64\n"
     ]
    },
    {
     "data": {
      "text/plain": "<Figure size 640x480 with 1 Axes>",
      "image/png": "[encoded data removed]"
     },
     "metadata": {},
     "output_type": "display_data"
    },
    {
     "name": "stdout",
     "output_type": "stream",
     "text": [
      "Settlement\n",
      "R    2531\n",
      "U    2439\n",
      "Name: count, dtype: int64\n"
     ]
    },
    {
     "data": {
      "text/plain": "<Figure size 640x480 with 1 Axes>",
      "image/png": "[encoded data removed]"
     },
     "metadata": {},
     "output_type": "display_data"
    },
    {
     "name": "stdout",
     "output_type": "stream",
     "text": [
      "Building_Type\n",
      "Non-combustible    2281\n",
      "Fire-resistive     1197\n",
      "Ordinary            851\n",
      "Wood-framed         641\n",
      "Name: count, dtype: int64\n"
     ]
    },
    {
     "data": {
      "text/plain": "<Figure size 640x480 with 1 Axes>",
      "image/png": "[encoded data removed]"
     },
     "metadata": {},
     "output_type": "display_data"
    },
    {
     "name": "stdout",
     "output_type": "stream",
     "text": [
      "Insured_Period\n",
      "1.0    3673\n",
      "0.5    1297\n",
      "Name: count, dtype: int64\n"
     ]
    },
    {
     "data": {
      "text/plain": "<Figure size 640x480 with 1 Axes>",
      "image/png": "[encoded data removed]"
     },
     "metadata": {},
     "output_type": "display_data"
    },
    {
     "name": "stdout",
     "output_type": "stream",
     "text": [
      "YearOfObservation\n",
      "2012    1303\n",
      "2013    1237\n",
      "2014     967\n",
      "2015     741\n",
      "2016     722\n",
      "Name: count, dtype: int64\n"
     ]
    },
    {
     "data": {
      "text/plain": "<Figure size 640x480 with 1 Axes>",
      "image/png": "[encoded data removed]"
     },
     "metadata": {},
     "output_type": "display_data"
    }
   ],
   "source": [
    "categorical_columns = ['Residential', 'Building_Painted', 'Building_Fenced', 'Garden', 'Settlement', 'Building_Type','Insured_Period',\"YearOfObservation\"]\n",
    "\n",
    "for column in categorical_columns:\n",
    "    print(df[column].value_counts())\n",
    "    sns.countplot(x=column, data=df)\n",
    "    plt.title(f'Distribution de {column}')\n",
    "    plt.show()\n"
   ],
   "metadata": {
    "collapsed": false,
    "ExecuteTime": {
     "end_time": "2024-11-24T00:24:47.475792300Z",
     "start_time": "2024-11-24T00:24:46.537380800Z"
    }
   },
   "id": "176bc22924ba884a"
  },
  {
   "cell_type": "code",
   "execution_count": 241,
   "outputs": [
    {
     "data": {
      "text/plain": "<Figure size 640x480 with 1 Axes>",
      "image/png": "[encoded data removed]"
     },
     "metadata": {},
     "output_type": "display_data"
    },
    {
     "data": {
      "text/plain": "count     4925.000000\nmean      1878.310863\nstd       2268.698000\nmin          1.000000\n25%        523.000000\n50%       1070.000000\n75%       2285.000000\nmax      20840.000000\nName: Building Dimension, dtype: float64"
     },
     "execution_count": 241,
     "metadata": {},
     "output_type": "execute_result"
    }
   ],
   "source": [
    "mean_value = df['Building Dimension'].mean()\n",
    "median_value = df['Building Dimension'].median()\n",
    "mode_value = df['Building Dimension'].mode()[0]  # Le mode peut avoir plusieurs valeurs, on prend le premier\n",
    "\n",
    "sns.histplot(x=\"Building Dimension\", data=df,bins=10, kde=True, stat='density',)\n",
    "plt.axvline(mean_value, color='r', linestyle='--', label=f'Mean: {mean_value:.2f}')\n",
    "plt.axvline(median_value, color='g', linestyle='-', label=f'Median: {median_value:.2f}')\n",
    "plt.axvline(mode_value, color='b', linestyle='-.', label=f'Mode: {mode_value:.2f}')\n",
    "# Ajouter une légende\n",
    "plt.legend()\n",
    "\n",
    "# Afficher le graphique\n",
    "plt.show()\n",
    "df[\"Building Dimension\"].describe()"
   ],
   "metadata": {
    "collapsed": false,
    "ExecuteTime": {
     "end_time": "2024-11-24T00:24:47.657977700Z",
     "start_time": "2024-11-24T00:24:47.286306Z"
    }
   },
   "id": "df7a6388b949937c"
  },
  {
   "cell_type": "markdown",
   "source": [
    "# missingvalues"
   ],
   "metadata": {
    "collapsed": false
   },
   "id": "c5114613c0651b98"
  },
  {
   "cell_type": "code",
   "execution_count": 242,
   "outputs": [
    {
     "data": {
      "text/plain": "Building Dimension    45\ndtype: int64"
     },
     "execution_count": 242,
     "metadata": {},
     "output_type": "execute_result"
    }
   ],
   "source": [
    "df[['Building Dimension']].isnull().sum()"
   ],
   "metadata": {
    "collapsed": false,
    "ExecuteTime": {
     "end_time": "2024-11-24T00:24:47.749565300Z",
     "start_time": "2024-11-24T00:24:47.430284700Z"
    }
   },
   "id": "585179c60fce44fe"
  },
  {
   "cell_type": "code",
   "execution_count": 243,
   "outputs": [],
   "source": [
    "imputer = KNNImputer(n_neighbors=5)\n",
    "\n",
    "df[['Building Dimension']] = imputer.fit_transform(df[['Building Dimension']])\n",
    "#----------------------------------------------------\n",
    "df_test[['Building Dimension']] = imputer.fit_transform(df_test[['Building Dimension']])"
   ],
   "metadata": {
    "collapsed": false,
    "ExecuteTime": {
     "end_time": "2024-11-24T00:24:47.751570600Z",
     "start_time": "2024-11-24T00:24:47.439802300Z"
    }
   },
   "id": "6985b89374c0632a"
  },
  {
   "cell_type": "code",
   "execution_count": 244,
   "outputs": [
    {
     "data": {
      "text/plain": "Building Dimension    0\ndtype: int64"
     },
     "execution_count": 244,
     "metadata": {},
     "output_type": "execute_result"
    }
   ],
   "source": [
    "df[['Building Dimension']].isnull().sum()"
   ],
   "metadata": {
    "collapsed": false,
    "ExecuteTime": {
     "end_time": "2024-11-24T00:24:47.752572800Z",
     "start_time": "2024-11-24T00:24:47.460517200Z"
    }
   },
   "id": "4eaf79ea6220536a"
  },
  {
   "cell_type": "code",
   "execution_count": 245,
   "outputs": [],
   "source": [
    "df['Geo_Code'] = pd.to_numeric(df['Geo_Code'], errors='coerce')\n",
    "#----------------------------------------------------\n",
    "df_test['Geo_Code'] = pd.to_numeric(df_test['Geo_Code'], errors='coerce')"
   ],
   "metadata": {
    "collapsed": false,
    "ExecuteTime": {
     "end_time": "2024-11-24T00:24:47.798981Z",
     "start_time": "2024-11-24T00:24:47.465781700Z"
    }
   },
   "id": "dfc2133e4e3153d4"
  },
  {
   "cell_type": "code",
   "execution_count": 246,
   "outputs": [
    {
     "data": {
      "text/plain": "Geo_Code    54\ndtype: int64"
     },
     "execution_count": 246,
     "metadata": {},
     "output_type": "execute_result"
    }
   ],
   "source": [
    "df[['Geo_Code']].isnull().sum()\n",
    "#----------------------------------------------------\n",
    "df_test[['Geo_Code']].isnull().sum()"
   ],
   "metadata": {
    "collapsed": false,
    "ExecuteTime": {
     "end_time": "2024-11-24T00:24:47.798981Z",
     "start_time": "2024-11-24T00:24:47.481325500Z"
    }
   },
   "id": "3a51be86e4550c76"
  },
  {
   "cell_type": "code",
   "execution_count": 247,
   "outputs": [],
   "source": [
    "imputer = KNNImputer(n_neighbors=5)\n",
    "\n",
    "# Apply the imputer only to the \"Building Dimension\" column\n",
    "df[['Geo_Code']] = imputer.fit_transform(df[['Geo_Code']])\n",
    "#----------------------------------------------------\n",
    "df_test[['Geo_Code']] = imputer.fit_transform(df_test[['Geo_Code']])"
   ],
   "metadata": {
    "collapsed": false,
    "ExecuteTime": {
     "end_time": "2024-11-24T00:24:47.799984200Z",
     "start_time": "2024-11-24T00:24:47.490881600Z"
    }
   },
   "id": "40c671009f2c23ff"
  },
  {
   "cell_type": "code",
   "execution_count": 248,
   "outputs": [
    {
     "data": {
      "text/plain": "Geo_Code    0\ndtype: int64"
     },
     "execution_count": 248,
     "metadata": {},
     "output_type": "execute_result"
    }
   ],
   "source": [
    "df[['Geo_Code']].isnull().sum()\n",
    "#----------------------------------------------------\n",
    "df_test[['Geo_Code']].isnull().sum()"
   ],
   "metadata": {
    "collapsed": false,
    "ExecuteTime": {
     "end_time": "2024-11-24T00:24:47.800980500Z",
     "start_time": "2024-11-24T00:24:47.518505100Z"
    }
   },
   "id": "dda2c73c38c3bf5c"
  },
  {
   "cell_type": "code",
   "execution_count": 249,
   "outputs": [
    {
     "data": {
      "text/plain": "Garden    4\ndtype: int64"
     },
     "execution_count": 249,
     "metadata": {},
     "output_type": "execute_result"
    }
   ],
   "source": [
    "df[['Garden']].isnull().sum()\n"
   ],
   "metadata": {
    "collapsed": false,
    "ExecuteTime": {
     "end_time": "2024-11-24T00:24:47.801987300Z",
     "start_time": "2024-11-24T00:24:47.524862600Z"
    }
   },
   "id": "373872a34f024f53"
  },
  {
   "cell_type": "code",
   "execution_count": 250,
   "outputs": [
    {
     "name": "stderr",
     "output_type": "stream",
     "text": [
      "C:\\Users\\faresmakki\\AppData\\Local\\Temp\\ipykernel_748\\297939195.py:1: FutureWarning: A value is trying to be set on a copy of a DataFrame or Series through chained assignment using an inplace method.\n",
      "The behavior will change in pandas 3.0. This inplace method will never work because the intermediate object on which we are setting values always behaves as a copy.\n",
      "\n",
      "For example, when doing 'df[col].method(value, inplace=True)', try using 'df.method({col: value}, inplace=True)' or df[col] = df[col].method(value) instead, to perform the operation inplace on the original object.\n",
      "\n",
      "\n",
      "  df['Garden'].fillna(df['Garden'].mode()[0], inplace=True)\n",
      "C:\\Users\\faresmakki\\AppData\\Local\\Temp\\ipykernel_748\\297939195.py:3: FutureWarning: A value is trying to be set on a copy of a DataFrame or Series through chained assignment using an inplace method.\n",
      "The behavior will change in pandas 3.0. This inplace method will never work because the intermediate object on which we are setting values always behaves as a copy.\n",
      "\n",
      "For example, when doing 'df[col].method(value, inplace=True)', try using 'df.method({col: value}, inplace=True)' or df[col] = df[col].method(value) instead, to perform the operation inplace on the original object.\n",
      "\n",
      "\n",
      "  df_test['Garden'].fillna(df_test['Garden'].mode()[0], inplace=True)\n"
     ]
    }
   ],
   "source": [
    "df['Garden'].fillna(df['Garden'].mode()[0], inplace=True)\n",
    "#----------------------------------------------------\n",
    "df_test['Garden'].fillna(df_test['Garden'].mode()[0], inplace=True)\n"
   ],
   "metadata": {
    "collapsed": false,
    "ExecuteTime": {
     "end_time": "2024-11-24T00:24:47.801987300Z",
     "start_time": "2024-11-24T00:24:47.532732800Z"
    }
   },
   "id": "1b56951b8f6e0331"
  },
  {
   "cell_type": "code",
   "execution_count": 251,
   "outputs": [
    {
     "data": {
      "text/plain": "Garden    0\ndtype: int64"
     },
     "execution_count": 251,
     "metadata": {},
     "output_type": "execute_result"
    }
   ],
   "source": [
    "df[['Garden']].isnull().sum()\n"
   ],
   "metadata": {
    "collapsed": false,
    "ExecuteTime": {
     "end_time": "2024-11-24T00:24:47.802986900Z",
     "start_time": "2024-11-24T00:24:47.540160600Z"
    }
   },
   "id": "9dfbacf484c941ef"
  },
  {
   "cell_type": "code",
   "execution_count": 252,
   "outputs": [
    {
     "name": "stdout",
     "output_type": "stream",
     "text": [
      "<class 'pandas.core.frame.DataFrame'>\n",
      "Index: 4970 entries, 0 to 5011\n",
      "Data columns (total 12 columns):\n",
      " #   Column              Non-Null Count  Dtype  \n",
      "---  ------              --------------  -----  \n",
      " 0   YearOfObservation   4970 non-null   int64  \n",
      " 1   Insured_Period      4970 non-null   float64\n",
      " 2   Residential         4970 non-null   int64  \n",
      " 3   Building_Painted    4970 non-null   object \n",
      " 4   Building_Fenced     4970 non-null   object \n",
      " 5   Garden              4970 non-null   object \n",
      " 6   Settlement          4970 non-null   object \n",
      " 7   Building Dimension  4970 non-null   float64\n",
      " 8   Building_Type       4970 non-null   object \n",
      " 9   NumberOfWindows     4970 non-null   object \n",
      " 10  Geo_Code            4970 non-null   float64\n",
      " 11  Claim               4970 non-null   object \n",
      "dtypes: float64(3), int64(2), object(7)\n",
      "memory usage: 504.8+ KB\n"
     ]
    }
   ],
   "source": [
    "df.info()"
   ],
   "metadata": {
    "collapsed": false,
    "ExecuteTime": {
     "end_time": "2024-11-24T00:24:47.802986900Z",
     "start_time": "2024-11-24T00:24:47.548087600Z"
    }
   },
   "id": "943da298ea4183a2"
  },
  {
   "cell_type": "markdown",
   "source": [
    "# Building Dimention"
   ],
   "metadata": {
    "collapsed": false
   },
   "id": "83440a4f16d18006"
  },
  {
   "cell_type": "code",
   "execution_count": 253,
   "outputs": [
    {
     "data": {
      "text/plain": "      YearOfObservation  Insured_Period  Residential Building_Painted  \\\n0                  2012             1.0            1                N   \n1                  2012             1.0            0                N   \n2                  2013             1.0            1                V   \n3                  2016             0.5            0                N   \n4                  2012             1.0            0                N   \n...                 ...             ...          ...              ...   \n5007               2013             1.0            0                N   \n5008               2012             0.5            0                V   \n5009               2015             1.0            1                V   \n5010               2012             0.5            0                V   \n5011               2013             1.0            1                V   \n\n     Building_Fenced Garden Settlement  Building Dimension    Building_Type  \\\n0                  V      V          U         1240.000000      Wood-framed   \n1                  V      V          U          900.000000  Non-combustible   \n2                  N      O          R         4984.000000  Non-combustible   \n3                  V      V          U          600.000000      Wood-framed   \n4                  V      V          U          900.000000  Non-combustible   \n...              ...    ...        ...                 ...              ...   \n5007               V      V          U          550.000000         Ordinary   \n5008               N      O          R         1000.000000   Fire-resistive   \n5009               N      O          R          480.000000         Ordinary   \n5010               N      O          R          536.000000   Fire-resistive   \n5011               V      V          U         1878.310863      Wood-framed   \n\n     NumberOfWindows      Geo_Code Claim  \n0            without  75117.000000   non  \n1            without  62916.000000   non  \n2                  4  31149.000000   oui  \n3            without   6012.000000   oui  \n4            without  57631.000000   non  \n...              ...           ...   ...  \n5007         without  33063.000000   oui  \n5008               4  13004.000000   non  \n5009               3  94059.000000   non  \n5010               4  74243.000000   non  \n5011         without  50953.525864   non  \n\n[4970 rows x 12 columns]",
      "text/html": "<div>\n<style scoped>\n    .dataframe tbody tr th:only-of-type {\n        vertical-align: middle;\n    }\n\n    .dataframe tbody tr th {\n        vertical-align: top;\n    }\n\n    .dataframe thead th {\n        text-align: right;\n    }\n</style>\n<table border=\"1\" class=\"dataframe\">\n  <thead>\n    <tr style=\"text-align: right;\">\n      <th></th>\n      <th>YearOfObservation</th>\n      <th>Insured_Period</th>\n      <th>Residential</th>\n      <th>Building_Painted</th>\n      <th>Building_Fenced</th>\n      <th>Garden</th>\n      <th>Settlement</th>\n      <th>Building Dimension</th>\n      <th>Building_Type</th>\n      <th>NumberOfWindows</th>\n      <th>Geo_Code</th>\n      <th>Claim</th>\n    </tr>\n  </thead>\n  <tbody>\n    <tr>\n      <th>0</th>\n      <td>2012</td>\n      <td>1.0</td>\n      <td>1</td>\n      <td>N</td>\n      <td>V</td>\n      <td>V</td>\n      <td>U</td>\n      <td>1240.000000</td>\n      <td>Wood-framed</td>\n      <td>without</td>\n      <td>75117.000000</td>\n      <td>non</td>\n    </tr>\n    <tr>\n      <th>1</th>\n      <td>2012</td>\n      <td>1.0</td>\n      <td>0</td>\n      <td>N</td>\n      <td>V</td>\n      <td>V</td>\n      <td>U</td>\n      <td>900.000000</td>\n      <td>Non-combustible</td>\n      <td>without</td>\n      <td>62916.000000</td>\n      <td>non</td>\n    </tr>\n    <tr>\n      <th>2</th>\n      <td>2013</td>\n      <td>1.0</td>\n      <td>1</td>\n      <td>V</td>\n      <td>N</td>\n      <td>O</td>\n      <td>R</td>\n      <td>4984.000000</td>\n      <td>Non-combustible</td>\n      <td>4</td>\n      <td>31149.000000</td>\n      <td>oui</td>\n    </tr>\n    <tr>\n      <th>3</th>\n      <td>2016</td>\n      <td>0.5</td>\n      <td>0</td>\n      <td>N</td>\n      <td>V</td>\n      <td>V</td>\n      <td>U</td>\n      <td>600.000000</td>\n      <td>Wood-framed</td>\n      <td>without</td>\n      <td>6012.000000</td>\n      <td>oui</td>\n    </tr>\n    <tr>\n      <th>4</th>\n      <td>2012</td>\n      <td>1.0</td>\n      <td>0</td>\n      <td>N</td>\n      <td>V</td>\n      <td>V</td>\n      <td>U</td>\n      <td>900.000000</td>\n      <td>Non-combustible</td>\n      <td>without</td>\n      <td>57631.000000</td>\n      <td>non</td>\n    </tr>\n    <tr>\n      <th>...</th>\n      <td>...</td>\n      <td>...</td>\n      <td>...</td>\n      <td>...</td>\n      <td>...</td>\n      <td>...</td>\n      <td>...</td>\n      <td>...</td>\n      <td>...</td>\n      <td>...</td>\n      <td>...</td>\n      <td>...</td>\n    </tr>\n    <tr>\n      <th>5007</th>\n      <td>2013</td>\n      <td>1.0</td>\n      <td>0</td>\n      <td>N</td>\n      <td>V</td>\n      <td>V</td>\n      <td>U</td>\n      <td>550.000000</td>\n      <td>Ordinary</td>\n      <td>without</td>\n      <td>33063.000000</td>\n      <td>oui</td>\n    </tr>\n    <tr>\n      <th>5008</th>\n      <td>2012</td>\n      <td>0.5</td>\n      <td>0</td>\n      <td>V</td>\n      <td>N</td>\n      <td>O</td>\n      <td>R</td>\n      <td>1000.000000</td>\n      <td>Fire-resistive</td>\n      <td>4</td>\n      <td>13004.000000</td>\n      <td>non</td>\n    </tr>\n    <tr>\n      <th>5009</th>\n      <td>2015</td>\n      <td>1.0</td>\n      <td>1</td>\n      <td>V</td>\n      <td>N</td>\n      <td>O</td>\n      <td>R</td>\n      <td>480.000000</td>\n      <td>Ordinary</td>\n      <td>3</td>\n      <td>94059.000000</td>\n      <td>non</td>\n    </tr>\n    <tr>\n      <th>5010</th>\n      <td>2012</td>\n      <td>0.5</td>\n      <td>0</td>\n      <td>V</td>\n      <td>N</td>\n      <td>O</td>\n      <td>R</td>\n      <td>536.000000</td>\n      <td>Fire-resistive</td>\n      <td>4</td>\n      <td>74243.000000</td>\n      <td>non</td>\n    </tr>\n    <tr>\n      <th>5011</th>\n      <td>2013</td>\n      <td>1.0</td>\n      <td>1</td>\n      <td>V</td>\n      <td>V</td>\n      <td>V</td>\n      <td>U</td>\n      <td>1878.310863</td>\n      <td>Wood-framed</td>\n      <td>without</td>\n      <td>50953.525864</td>\n      <td>non</td>\n    </tr>\n  </tbody>\n</table>\n<p>4970 rows × 12 columns</p>\n</div>"
     },
     "execution_count": 253,
     "metadata": {},
     "output_type": "execute_result"
    }
   ],
   "source": [
    "df"
   ],
   "metadata": {
    "collapsed": false,
    "ExecuteTime": {
     "end_time": "2024-11-24T00:24:47.804514900Z",
     "start_time": "2024-11-24T00:24:47.560663700Z"
    }
   },
   "id": "b17d3ce8cd7dec13"
  },
  {
   "cell_type": "code",
   "execution_count": 254,
   "outputs": [
    {
     "data": {
      "text/plain": "<Figure size 1200x600 with 1 Axes>",
      "image/png": "[encoded data removed]"
     },
     "metadata": {},
     "output_type": "display_data"
    }
   ],
   "source": [
    "plt.figure(figsize=(12, 6))\n",
    "sns.boxplot(data=df,x=\"Building Dimension\",)\n",
    "plt.show()"
   ],
   "metadata": {
    "collapsed": false,
    "ExecuteTime": {
     "end_time": "2024-11-24T00:24:47.822555Z",
     "start_time": "2024-11-24T00:24:47.574742300Z"
    }
   },
   "id": "2a94e49e48f5ee37"
  },
  {
   "cell_type": "code",
   "execution_count": 255,
   "outputs": [
    {
     "data": {
      "text/plain": "(np.float64(-2076.625),\n np.float64(4874.375),\n np.float64(2267.75),\n np.float64(530.0),\n np.float64(1737.75),\n 392)"
     },
     "execution_count": 255,
     "metadata": {},
     "output_type": "execute_result"
    }
   ],
   "source": [
    "Q1 = df['Building Dimension'].quantile(0.25)\n",
    "Q3 = df['Building Dimension'].quantile(0.75)\n",
    "IQR = Q3 - Q1\n",
    "\n",
    "lower_bound = Q1 - 1.5 * IQR\n",
    "upper_bound = Q3 + 1.5 * IQR\n",
    "\n",
    "outliers = df[(df['Building Dimension'] < lower_bound) | (df['Building Dimension'] > upper_bound)]\n",
    "lower_bound,upper_bound,Q3 , Q1,IQR ,len(outliers)\n",
    "# len(outliers)#nombre des outliers391"
   ],
   "metadata": {
    "collapsed": false,
    "ExecuteTime": {
     "end_time": "2024-11-24T00:24:47.940251900Z",
     "start_time": "2024-11-24T00:24:47.744789600Z"
    }
   },
   "id": "4df3fa5a0a6cefdc"
  },
  {
   "cell_type": "code",
   "execution_count": 256,
   "outputs": [],
   "source": [
    "min_threshold = 100  # Define a realistic minimum for building dimensions\n",
    "df.loc[df['Building Dimension'] < min_threshold, 'Building Dimension'] = min_threshold\n",
    "#----------------------------------------------------\n",
    "df_test.loc[df_test['Building Dimension'] < min_threshold, 'Building Dimension'] = min_threshold"
   ],
   "metadata": {
    "collapsed": false,
    "ExecuteTime": {
     "end_time": "2024-11-24T00:24:47.940251900Z",
     "start_time": "2024-11-24T00:24:47.744789600Z"
    }
   },
   "id": "5a2f2a3a4e8fbaeb"
  },
  {
   "cell_type": "code",
   "execution_count": 257,
   "outputs": [],
   "source": [
    "upper_cap = df['Building Dimension'].quantile(0.995)  # Use the 99.5th percentile as cap\n",
    "df.loc[df['Building Dimension'] > upper_cap, 'Building Dimension'] = upper_cap\n",
    "#----------------------------------------------------\n",
    "df_test.loc[df_test['Building Dimension'] > upper_cap, 'Building Dimension'] = upper_cap\n"
   ],
   "metadata": {
    "collapsed": false,
    "ExecuteTime": {
     "end_time": "2024-11-24T00:24:47.940251900Z",
     "start_time": "2024-11-24T00:24:47.744789600Z"
    }
   },
   "id": "e31408079430fdc2"
  },
  {
   "cell_type": "code",
   "execution_count": 258,
   "outputs": [
    {
     "data": {
      "text/plain": "count     4970.000000\nmean      1868.261114\nstd       2189.810186\nmin        100.000000\n25%        530.000000\n50%       1100.000000\n75%       2267.750000\nmax      14388.750000\nName: Building Dimension, dtype: float64"
     },
     "execution_count": 258,
     "metadata": {},
     "output_type": "execute_result"
    }
   ],
   "source": [
    "df['Building Dimension'].describe() "
   ],
   "metadata": {
    "collapsed": false,
    "ExecuteTime": {
     "end_time": "2024-11-24T00:24:47.940251900Z",
     "start_time": "2024-11-24T00:24:47.744789600Z"
    }
   },
   "id": "59acbe974fd0af01"
  },
  {
   "cell_type": "code",
   "execution_count": 259,
   "outputs": [],
   "source": [
    "from sklearn.preprocessing import RobustScaler\n",
    "\n",
    "scaler = RobustScaler()\n",
    "df['Building Dimension'] = scaler.fit_transform(df[['Building Dimension']])\n",
    "#----------------------------------------------------\n",
    "df_test['Building Dimension'] = scaler.fit_transform(df_test[['Building Dimension']])\n"
   ],
   "metadata": {
    "collapsed": false,
    "ExecuteTime": {
     "end_time": "2024-11-24T00:24:47.940251900Z",
     "start_time": "2024-11-24T00:24:47.744789600Z"
    }
   },
   "id": "e2f253c9012faeb1"
  },
  {
   "cell_type": "code",
   "execution_count": 260,
   "outputs": [
    {
     "data": {
      "text/plain": "count    4970.000000\nmean        0.442101\nstd         1.260141\nmin        -0.575457\n25%        -0.328010\n50%         0.000000\n75%         0.671990\nmax         7.647101\nName: Building Dimension, dtype: float64"
     },
     "execution_count": 260,
     "metadata": {},
     "output_type": "execute_result"
    }
   ],
   "source": [
    "df['Building Dimension'].describe()"
   ],
   "metadata": {
    "collapsed": false,
    "ExecuteTime": {
     "end_time": "2024-11-24T00:24:47.941278300Z",
     "start_time": "2024-11-24T00:24:47.744789600Z"
    }
   },
   "id": "4b8cf7cb3afc23d9"
  },
  {
   "cell_type": "markdown",
   "source": [
    "# DataTransformation \n"
   ],
   "metadata": {
    "collapsed": false
   },
   "id": "99bed282a8306a5"
  },
  {
   "cell_type": "code",
   "execution_count": 261,
   "outputs": [],
   "source": [
    "\n",
    "ord_categories= [ [\"2012\", \"2013\", \"2014\", \"2015\", \"2016\"]]\n",
    "enc1 = OrdinalEncoder(categories=ord_categories)\n",
    "df[[\"YearOfObservation\"]]=enc1.fit_transform(\n",
    "df.loc[:,[\"YearOfObservation\"]])\n",
    "#----------------------------------------------------\n",
    "df_test[[\"YearOfObservation\"]]=enc1.fit_transform(\n",
    "df_test.loc[:,[\"YearOfObservation\"]])\n"
   ],
   "metadata": {
    "collapsed": false,
    "ExecuteTime": {
     "end_time": "2024-11-24T00:24:47.941278300Z",
     "start_time": "2024-11-24T00:24:47.744789600Z"
    }
   },
   "id": "3b733e5f9ee6e03"
  },
  {
   "cell_type": "code",
   "execution_count": 262,
   "outputs": [
    {
     "data": {
      "text/plain": "YearOfObservation\n0.0    1303\n1.0    1237\n2.0     967\n3.0     741\n4.0     722\nName: count, dtype: int64"
     },
     "execution_count": 262,
     "metadata": {},
     "output_type": "execute_result"
    }
   ],
   "source": [
    "df[\"YearOfObservation\"].value_counts()"
   ],
   "metadata": {
    "collapsed": false,
    "ExecuteTime": {
     "end_time": "2024-11-24T00:24:47.941278300Z",
     "start_time": "2024-11-24T00:24:47.744789600Z"
    }
   },
   "id": "8892b1af4a5ce37a"
  },
  {
   "cell_type": "markdown",
   "source": [
    "\n"
   ],
   "metadata": {
    "collapsed": false
   },
   "id": "da0c36601356b9a9"
  },
  {
   "cell_type": "code",
   "execution_count": 263,
   "outputs": [],
   "source": [
    "df=pd.get_dummies(df, columns=['Insured_Period', 'Garden', 'Building_Type',\"Settlement\",\"Building_Fenced\",\"Building_Painted\",\"Residential\"], dtype='int32')\n",
    "#----------------------------------------------------\n",
    "df_test=pd.get_dummies(df_test, columns=['Insured_Period', 'Garden', 'Building_Type',\"Settlement\",\"Building_Fenced\",\"Building_Painted\",\"Residential\"], dtype='int32')"
   ],
   "metadata": {
    "collapsed": false,
    "ExecuteTime": {
     "end_time": "2024-11-24T00:24:47.943268800Z",
     "start_time": "2024-11-24T00:24:47.745856600Z"
    }
   },
   "id": "ddc7a89ad364853e"
  },
  {
   "cell_type": "code",
   "execution_count": 264,
   "outputs": [
    {
     "data": {
      "text/plain": "      YearOfObservation  Building Dimension NumberOfWindows      Geo_Code  \\\n0                   0.0            0.080564         without  75117.000000   \n1                   0.0           -0.115091         without  62916.000000   \n2                   1.0            2.235074               4  31149.000000   \n3                   4.0           -0.287728         without   6012.000000   \n4                   0.0           -0.115091         without  57631.000000   \n...                 ...                 ...             ...           ...   \n5007                1.0           -0.316501         without  33063.000000   \n5008                0.0           -0.057546               4  13004.000000   \n5009                3.0           -0.356783               3  94059.000000   \n5010                0.0           -0.324558               4  74243.000000   \n5011                1.0            0.447884         without  50953.525864   \n\n     Claim  Insured_Period_0.5  Insured_Period_1.0  Garden_O  Garden_V  \\\n0      non                   0                   1         0         1   \n1      non                   0                   1         0         1   \n2      oui                   0                   1         1         0   \n3      oui                   1                   0         0         1   \n4      non                   0                   1         0         1   \n...    ...                 ...                 ...       ...       ...   \n5007   oui                   0                   1         0         1   \n5008   non                   1                   0         1         0   \n5009   non                   0                   1         1         0   \n5010   non                   1                   0         1         0   \n5011   non                   0                   1         0         1   \n\n      Building_Type_Fire-resistive  ...  Building_Type_Ordinary  \\\n0                                0  ...                       0   \n1                                0  ...                       0   \n2                                0  ...                       0   \n3                                0  ...                       0   \n4                                0  ...                       0   \n...                            ...  ...                     ...   \n5007                             0  ...                       1   \n5008                             1  ...                       0   \n5009                             0  ...                       1   \n5010                             1  ...                       0   \n5011                             0  ...                       0   \n\n      Building_Type_Wood-framed  Settlement_R  Settlement_U  \\\n0                             1             0             1   \n1                             0             0             1   \n2                             0             1             0   \n3                             1             0             1   \n4                             0             0             1   \n...                         ...           ...           ...   \n5007                          0             0             1   \n5008                          0             1             0   \n5009                          0             1             0   \n5010                          0             1             0   \n5011                          1             0             1   \n\n      Building_Fenced_N  Building_Fenced_V  Building_Painted_N  \\\n0                     0                  1                   1   \n1                     0                  1                   1   \n2                     1                  0                   0   \n3                     0                  1                   1   \n4                     0                  1                   1   \n...                 ...                ...                 ...   \n5007                  0                  1                   1   \n5008                  1                  0                   0   \n5009                  1                  0                   0   \n5010                  1                  0                   0   \n5011                  0                  1                   0   \n\n      Building_Painted_V  Residential_0  Residential_1  \n0                      0              0              1  \n1                      0              1              0  \n2                      1              0              1  \n3                      0              1              0  \n4                      0              1              0  \n...                  ...            ...            ...  \n5007                   0              1              0  \n5008                   1              1              0  \n5009                   1              0              1  \n5010                   1              1              0  \n5011                   1              0              1  \n\n[4970 rows x 21 columns]",
      "text/html": "<div>\n<style scoped>\n    .dataframe tbody tr th:only-of-type {\n        vertical-align: middle;\n    }\n\n    .dataframe tbody tr th {\n        vertical-align: top;\n    }\n\n    .dataframe thead th {\n        text-align: right;\n    }\n</style>\n<table border=\"1\" class=\"dataframe\">\n  <thead>\n    <tr style=\"text-align: right;\">\n      <th></th>\n      <th>YearOfObservation</th>\n      <th>Building Dimension</th>\n      <th>NumberOfWindows</th>\n      <th>Geo_Code</th>\n      <th>Claim</th>\n      <th>Insured_Period_0.5</th>\n      <th>Insured_Period_1.0</th>\n      <th>Garden_O</th>\n      <th>Garden_V</th>\n      <th>Building_Type_Fire-resistive</th>\n      <th>...</th>\n      <th>Building_Type_Ordinary</th>\n      <th>Building_Type_Wood-framed</th>\n      <th>Settlement_R</th>\n      <th>Settlement_U</th>\n      <th>Building_Fenced_N</th>\n      <th>Building_Fenced_V</th>\n      <th>Building_Painted_N</th>\n      <th>Building_Painted_V</th>\n      <th>Residential_0</th>\n      <th>Residential_1</th>\n    </tr>\n  </thead>\n  <tbody>\n    <tr>\n      <th>0</th>\n      <td>0.0</td>\n      <td>0.080564</td>\n      <td>without</td>\n      <td>75117.000000</td>\n      <td>non</td>\n      <td>0</td>\n      <td>1</td>\n      <td>0</td>\n      <td>1</td>\n      <td>0</td>\n      <td>...</td>\n      <td>0</td>\n      <td>1</td>\n      <td>0</td>\n      <td>1</td>\n      <td>0</td>\n      <td>1</td>\n      <td>1</td>\n      <td>0</td>\n      <td>0</td>\n      <td>1</td>\n    </tr>\n    <tr>\n      <th>1</th>\n      <td>0.0</td>\n      <td>-0.115091</td>\n      <td>without</td>\n      <td>62916.000000</td>\n      <td>non</td>\n      <td>0</td>\n      <td>1</td>\n      <td>0</td>\n      <td>1</td>\n      <td>0</td>\n      <td>...</td>\n      <td>0</td>\n      <td>0</td>\n      <td>0</td>\n      <td>1</td>\n      <td>0</td>\n      <td>1</td>\n      <td>1</td>\n      <td>0</td>\n      <td>1</td>\n      <td>0</td>\n    </tr>\n    <tr>\n      <th>2</th>\n      <td>1.0</td>\n      <td>2.235074</td>\n      <td>4</td>\n      <td>31149.000000</td>\n      <td>oui</td>\n      <td>0</td>\n      <td>1</td>\n      <td>1</td>\n      <td>0</td>\n      <td>0</td>\n      <td>...</td>\n      <td>0</td>\n      <td>0</td>\n      <td>1</td>\n      <td>0</td>\n      <td>1</td>\n      <td>0</td>\n      <td>0</td>\n      <td>1</td>\n      <td>0</td>\n      <td>1</td>\n    </tr>\n    <tr>\n      <th>3</th>\n      <td>4.0</td>\n      <td>-0.287728</td>\n      <td>without</td>\n      <td>6012.000000</td>\n      <td>oui</td>\n      <td>1</td>\n      <td>0</td>\n      <td>0</td>\n      <td>1</td>\n      <td>0</td>\n      <td>...</td>\n      <td>0</td>\n      <td>1</td>\n      <td>0</td>\n      <td>1</td>\n      <td>0</td>\n      <td>1</td>\n      <td>1</td>\n      <td>0</td>\n      <td>1</td>\n      <td>0</td>\n    </tr>\n    <tr>\n      <th>4</th>\n      <td>0.0</td>\n      <td>-0.115091</td>\n      <td>without</td>\n      <td>57631.000000</td>\n      <td>non</td>\n      <td>0</td>\n      <td>1</td>\n      <td>0</td>\n      <td>1</td>\n      <td>0</td>\n      <td>...</td>\n      <td>0</td>\n      <td>0</td>\n      <td>0</td>\n      <td>1</td>\n      <td>0</td>\n      <td>1</td>\n      <td>1</td>\n      <td>0</td>\n      <td>1</td>\n      <td>0</td>\n    </tr>\n    <tr>\n      <th>...</th>\n      <td>...</td>\n      <td>...</td>\n      <td>...</td>\n      <td>...</td>\n      <td>...</td>\n      <td>...</td>\n      <td>...</td>\n      <td>...</td>\n      <td>...</td>\n      <td>...</td>\n      <td>...</td>\n      <td>...</td>\n      <td>...</td>\n      <td>...</td>\n      <td>...</td>\n      <td>...</td>\n      <td>...</td>\n      <td>...</td>\n      <td>...</td>\n      <td>...</td>\n      <td>...</td>\n    </tr>\n    <tr>\n      <th>5007</th>\n      <td>1.0</td>\n      <td>-0.316501</td>\n      <td>without</td>\n      <td>33063.000000</td>\n      <td>oui</td>\n      <td>0</td>\n      <td>1</td>\n      <td>0</td>\n      <td>1</td>\n      <td>0</td>\n      <td>...</td>\n      <td>1</td>\n      <td>0</td>\n      <td>0</td>\n      <td>1</td>\n      <td>0</td>\n      <td>1</td>\n      <td>1</td>\n      <td>0</td>\n      <td>1</td>\n      <td>0</td>\n    </tr>\n    <tr>\n      <th>5008</th>\n      <td>0.0</td>\n      <td>-0.057546</td>\n      <td>4</td>\n      <td>13004.000000</td>\n      <td>non</td>\n      <td>1</td>\n      <td>0</td>\n      <td>1</td>\n      <td>0</td>\n      <td>1</td>\n      <td>...</td>\n      <td>0</td>\n      <td>0</td>\n      <td>1</td>\n      <td>0</td>\n      <td>1</td>\n      <td>0</td>\n      <td>0</td>\n      <td>1</td>\n      <td>1</td>\n      <td>0</td>\n    </tr>\n    <tr>\n      <th>5009</th>\n      <td>3.0</td>\n      <td>-0.356783</td>\n      <td>3</td>\n      <td>94059.000000</td>\n      <td>non</td>\n      <td>0</td>\n      <td>1</td>\n      <td>1</td>\n      <td>0</td>\n      <td>0</td>\n      <td>...</td>\n      <td>1</td>\n      <td>0</td>\n      <td>1</td>\n      <td>0</td>\n      <td>1</td>\n      <td>0</td>\n      <td>0</td>\n      <td>1</td>\n      <td>0</td>\n      <td>1</td>\n    </tr>\n    <tr>\n      <th>5010</th>\n      <td>0.0</td>\n      <td>-0.324558</td>\n      <td>4</td>\n      <td>74243.000000</td>\n      <td>non</td>\n      <td>1</td>\n      <td>0</td>\n      <td>1</td>\n      <td>0</td>\n      <td>1</td>\n      <td>...</td>\n      <td>0</td>\n      <td>0</td>\n      <td>1</td>\n      <td>0</td>\n      <td>1</td>\n      <td>0</td>\n      <td>0</td>\n      <td>1</td>\n      <td>1</td>\n      <td>0</td>\n    </tr>\n    <tr>\n      <th>5011</th>\n      <td>1.0</td>\n      <td>0.447884</td>\n      <td>without</td>\n      <td>50953.525864</td>\n      <td>non</td>\n      <td>0</td>\n      <td>1</td>\n      <td>0</td>\n      <td>1</td>\n      <td>0</td>\n      <td>...</td>\n      <td>0</td>\n      <td>1</td>\n      <td>0</td>\n      <td>1</td>\n      <td>0</td>\n      <td>1</td>\n      <td>0</td>\n      <td>1</td>\n      <td>0</td>\n      <td>1</td>\n    </tr>\n  </tbody>\n</table>\n<p>4970 rows × 21 columns</p>\n</div>"
     },
     "execution_count": 264,
     "metadata": {},
     "output_type": "execute_result"
    }
   ],
   "source": [
    "df"
   ],
   "metadata": {
    "collapsed": false,
    "ExecuteTime": {
     "end_time": "2024-11-24T00:24:47.963356900Z",
     "start_time": "2024-11-24T00:24:47.751570600Z"
    }
   },
   "id": "c3fc49b4668e7051"
  },
  {
   "cell_type": "code",
   "execution_count": 265,
   "outputs": [
    {
     "name": "stderr",
     "output_type": "stream",
     "text": [
      "C:\\Users\\faresmakki\\AppData\\Local\\Temp\\ipykernel_748\\2747190810.py:1: FutureWarning: A value is trying to be set on a copy of a DataFrame or Series through chained assignment using an inplace method.\n",
      "The behavior will change in pandas 3.0. This inplace method will never work because the intermediate object on which we are setting values always behaves as a copy.\n",
      "\n",
      "For example, when doing 'df[col].method(value, inplace=True)', try using 'df.method({col: value}, inplace=True)' or df[col] = df[col].method(value) instead, to perform the operation inplace on the original object.\n",
      "\n",
      "\n",
      "  df['NumberOfWindows'].replace(\"without\",0,inplace=True)\n",
      "C:\\Users\\faresmakki\\AppData\\Local\\Temp\\ipykernel_748\\2747190810.py:2: FutureWarning: A value is trying to be set on a copy of a DataFrame or Series through chained assignment using an inplace method.\n",
      "The behavior will change in pandas 3.0. This inplace method will never work because the intermediate object on which we are setting values always behaves as a copy.\n",
      "\n",
      "For example, when doing 'df[col].method(value, inplace=True)', try using 'df.method({col: value}, inplace=True)' or df[col] = df[col].method(value) instead, to perform the operation inplace on the original object.\n",
      "\n",
      "\n",
      "  df['NumberOfWindows'].replace(\">=10\",10,inplace=True)\n",
      "C:\\Users\\faresmakki\\AppData\\Local\\Temp\\ipykernel_748\\2747190810.py:5: FutureWarning: A value is trying to be set on a copy of a DataFrame or Series through chained assignment using an inplace method.\n",
      "The behavior will change in pandas 3.0. This inplace method will never work because the intermediate object on which we are setting values always behaves as a copy.\n",
      "\n",
      "For example, when doing 'df[col].method(value, inplace=True)', try using 'df.method({col: value}, inplace=True)' or df[col] = df[col].method(value) instead, to perform the operation inplace on the original object.\n",
      "\n",
      "\n",
      "  df_test['NumberOfWindows'].replace(\"without\",0,inplace=True)\n",
      "C:\\Users\\faresmakki\\AppData\\Local\\Temp\\ipykernel_748\\2747190810.py:6: FutureWarning: A value is trying to be set on a copy of a DataFrame or Series through chained assignment using an inplace method.\n",
      "The behavior will change in pandas 3.0. This inplace method will never work because the intermediate object on which we are setting values always behaves as a copy.\n",
      "\n",
      "For example, when doing 'df[col].method(value, inplace=True)', try using 'df.method({col: value}, inplace=True)' or df[col] = df[col].method(value) instead, to perform the operation inplace on the original object.\n",
      "\n",
      "\n",
      "  df_test['NumberOfWindows'].replace(\">=10\",10,inplace=True)\n"
     ]
    }
   ],
   "source": [
    "df['NumberOfWindows'].replace(\"without\",0,inplace=True)\n",
    "df['NumberOfWindows'].replace(\">=10\",10,inplace=True)\n",
    "df['NumberOfWindows'] = df['NumberOfWindows'].astype(int)\n",
    "#----------------------------------------------------\n",
    "df_test['NumberOfWindows'].replace(\"without\",0,inplace=True)\n",
    "df_test['NumberOfWindows'].replace(\">=10\",10,inplace=True)\n",
    "df_test['NumberOfWindows'] = df_test['NumberOfWindows'].astype(int)\n"
   ],
   "metadata": {
    "collapsed": false,
    "ExecuteTime": {
     "end_time": "2024-11-24T00:24:47.963356900Z",
     "start_time": "2024-11-24T00:24:47.771921400Z"
    }
   },
   "id": "8f6443938e1b8095"
  },
  {
   "cell_type": "code",
   "execution_count": 266,
   "outputs": [],
   "source": [
    "freq_encoding = df['Geo_Code'].value_counts()  # fequencyencoder insted od onehot encoder\n",
    "df['Geo_Code'] = df['Geo_Code'].map(freq_encoding)\n",
    "#----------------------------------------------------\n",
    "freq_encoding = df_test['Geo_Code'].value_counts()  # fequencyencoder insted od onehot encoder\n",
    "df_test['Geo_Code'] = df_test['Geo_Code'].map(freq_encoding)\n"
   ],
   "metadata": {
    "collapsed": false,
    "ExecuteTime": {
     "end_time": "2024-11-24T00:24:47.963356900Z",
     "start_time": "2024-11-24T00:24:47.780955900Z"
    }
   },
   "id": "35a4d9c0a27f63d2"
  },
  {
   "cell_type": "code",
   "execution_count": 267,
   "outputs": [
    {
     "name": "stdout",
     "output_type": "stream",
     "text": [
      "<class 'pandas.core.frame.DataFrame'>\n",
      "Index: 2142 entries, 0 to 2146\n",
      "Data columns (total 21 columns):\n",
      " #   Column                         Non-Null Count  Dtype  \n",
      "---  ------                         --------------  -----  \n",
      " 0   YearOfObservation              2142 non-null   float64\n",
      " 1   Building Dimension             2142 non-null   float64\n",
      " 2   NumberOfWindows                2142 non-null   int64  \n",
      " 3   Geo_Code                       2142 non-null   int64  \n",
      " 4   Claim                          2142 non-null   object \n",
      " 5   Insured_Period_0.5             2142 non-null   int32  \n",
      " 6   Insured_Period_1.0             2142 non-null   int32  \n",
      " 7   Garden_O                       2142 non-null   int32  \n",
      " 8   Garden_V                       2142 non-null   int32  \n",
      " 9   Building_Type_Fire-resistive   2142 non-null   int32  \n",
      " 10  Building_Type_Non-combustible  2142 non-null   int32  \n",
      " 11  Building_Type_Ordinary         2142 non-null   int32  \n",
      " 12  Building_Type_Wood-framed      2142 non-null   int32  \n",
      " 13  Settlement_R                   2142 non-null   int32  \n",
      " 14  Settlement_U                   2142 non-null   int32  \n",
      " 15  Building_Fenced_N              2142 non-null   int32  \n",
      " 16  Building_Fenced_V              2142 non-null   int32  \n",
      " 17  Building_Painted_N             2142 non-null   int32  \n",
      " 18  Building_Painted_V             2142 non-null   int32  \n",
      " 19  Residential_0                  2142 non-null   int32  \n",
      " 20  Residential_1                  2142 non-null   int32  \n",
      "dtypes: float64(2), int32(16), int64(2), object(1)\n",
      "memory usage: 234.3+ KB\n"
     ]
    }
   ],
   "source": [
    "df_test.info()\n"
   ],
   "metadata": {
    "collapsed": false,
    "ExecuteTime": {
     "end_time": "2024-11-24T00:24:47.963356900Z",
     "start_time": "2024-11-24T00:24:47.787992900Z"
    }
   },
   "id": "6300e81cfe462aef"
  },
  {
   "cell_type": "code",
   "execution_count": 267,
   "outputs": [],
   "source": [],
   "metadata": {
    "collapsed": false,
    "ExecuteTime": {
     "end_time": "2024-11-24T00:24:47.966891600Z",
     "start_time": "2024-11-24T00:24:47.797457800Z"
    }
   },
   "id": "bbdf923eb3ea477"
  },
  {
   "cell_type": "code",
   "execution_count": 268,
   "outputs": [
    {
     "data": {
      "text/plain": "      YearOfObservation  Building Dimension  NumberOfWindows  Geo_Code Claim  \\\n0                   0.0            0.080564                0        32   non   \n1                   0.0           -0.115091                0         3   non   \n2                   1.0            2.235074                4         1   oui   \n3                   4.0           -0.287728                0        25   oui   \n4                   0.0           -0.115091                0         2   non   \n...                 ...                 ...              ...       ...   ...   \n5007                1.0           -0.316501                0        96   oui   \n5008                0.0           -0.057546                4        19   non   \n5009                3.0           -0.356783                3         1   non   \n5010                0.0           -0.324558                4         5   non   \n5011                1.0            0.447884                0        79   non   \n\n      Insured_Period_0.5  Insured_Period_1.0  Garden_O  Garden_V  \\\n0                      0                   1         0         1   \n1                      0                   1         0         1   \n2                      0                   1         1         0   \n3                      1                   0         0         1   \n4                      0                   1         0         1   \n...                  ...                 ...       ...       ...   \n5007                   0                   1         0         1   \n5008                   1                   0         1         0   \n5009                   0                   1         1         0   \n5010                   1                   0         1         0   \n5011                   0                   1         0         1   \n\n      Building_Type_Fire-resistive  ...  Building_Type_Ordinary  \\\n0                                0  ...                       0   \n1                                0  ...                       0   \n2                                0  ...                       0   \n3                                0  ...                       0   \n4                                0  ...                       0   \n...                            ...  ...                     ...   \n5007                             0  ...                       1   \n5008                             1  ...                       0   \n5009                             0  ...                       1   \n5010                             1  ...                       0   \n5011                             0  ...                       0   \n\n      Building_Type_Wood-framed  Settlement_R  Settlement_U  \\\n0                             1             0             1   \n1                             0             0             1   \n2                             0             1             0   \n3                             1             0             1   \n4                             0             0             1   \n...                         ...           ...           ...   \n5007                          0             0             1   \n5008                          0             1             0   \n5009                          0             1             0   \n5010                          0             1             0   \n5011                          1             0             1   \n\n      Building_Fenced_N  Building_Fenced_V  Building_Painted_N  \\\n0                     0                  1                   1   \n1                     0                  1                   1   \n2                     1                  0                   0   \n3                     0                  1                   1   \n4                     0                  1                   1   \n...                 ...                ...                 ...   \n5007                  0                  1                   1   \n5008                  1                  0                   0   \n5009                  1                  0                   0   \n5010                  1                  0                   0   \n5011                  0                  1                   0   \n\n      Building_Painted_V  Residential_0  Residential_1  \n0                      0              0              1  \n1                      0              1              0  \n2                      1              0              1  \n3                      0              1              0  \n4                      0              1              0  \n...                  ...            ...            ...  \n5007                   0              1              0  \n5008                   1              1              0  \n5009                   1              0              1  \n5010                   1              1              0  \n5011                   1              0              1  \n\n[4970 rows x 21 columns]",
      "text/html": "<div>\n<style scoped>\n    .dataframe tbody tr th:only-of-type {\n        vertical-align: middle;\n    }\n\n    .dataframe tbody tr th {\n        vertical-align: top;\n    }\n\n    .dataframe thead th {\n        text-align: right;\n    }\n</style>\n<table border=\"1\" class=\"dataframe\">\n  <thead>\n    <tr style=\"text-align: right;\">\n      <th></th>\n      <th>YearOfObservation</th>\n      <th>Building Dimension</th>\n      <th>NumberOfWindows</th>\n      <th>Geo_Code</th>\n      <th>Claim</th>\n      <th>Insured_Period_0.5</th>\n      <th>Insured_Period_1.0</th>\n      <th>Garden_O</th>\n      <th>Garden_V</th>\n      <th>Building_Type_Fire-resistive</th>\n      <th>...</th>\n      <th>Building_Type_Ordinary</th>\n      <th>Building_Type_Wood-framed</th>\n      <th>Settlement_R</th>\n      <th>Settlement_U</th>\n      <th>Building_Fenced_N</th>\n      <th>Building_Fenced_V</th>\n      <th>Building_Painted_N</th>\n      <th>Building_Painted_V</th>\n      <th>Residential_0</th>\n      <th>Residential_1</th>\n    </tr>\n  </thead>\n  <tbody>\n    <tr>\n      <th>0</th>\n      <td>0.0</td>\n      <td>0.080564</td>\n      <td>0</td>\n      <td>32</td>\n      <td>non</td>\n      <td>0</td>\n      <td>1</td>\n      <td>0</td>\n      <td>1</td>\n      <td>0</td>\n      <td>...</td>\n      <td>0</td>\n      <td>1</td>\n      <td>0</td>\n      <td>1</td>\n      <td>0</td>\n      <td>1</td>\n      <td>1</td>\n      <td>0</td>\n      <td>0</td>\n      <td>1</td>\n    </tr>\n    <tr>\n      <th>1</th>\n      <td>0.0</td>\n      <td>-0.115091</td>\n      <td>0</td>\n      <td>3</td>\n      <td>non</td>\n      <td>0</td>\n      <td>1</td>\n      <td>0</td>\n      <td>1</td>\n      <td>0</td>\n      <td>...</td>\n      <td>0</td>\n      <td>0</td>\n      <td>0</td>\n      <td>1</td>\n      <td>0</td>\n      <td>1</td>\n      <td>1</td>\n      <td>0</td>\n      <td>1</td>\n      <td>0</td>\n    </tr>\n    <tr>\n      <th>2</th>\n      <td>1.0</td>\n      <td>2.235074</td>\n      <td>4</td>\n      <td>1</td>\n      <td>oui</td>\n      <td>0</td>\n      <td>1</td>\n      <td>1</td>\n      <td>0</td>\n      <td>0</td>\n      <td>...</td>\n      <td>0</td>\n      <td>0</td>\n      <td>1</td>\n      <td>0</td>\n      <td>1</td>\n      <td>0</td>\n      <td>0</td>\n      <td>1</td>\n      <td>0</td>\n      <td>1</td>\n    </tr>\n    <tr>\n      <th>3</th>\n      <td>4.0</td>\n      <td>-0.287728</td>\n      <td>0</td>\n      <td>25</td>\n      <td>oui</td>\n      <td>1</td>\n      <td>0</td>\n      <td>0</td>\n      <td>1</td>\n      <td>0</td>\n      <td>...</td>\n      <td>0</td>\n      <td>1</td>\n      <td>0</td>\n      <td>1</td>\n      <td>0</td>\n      <td>1</td>\n      <td>1</td>\n      <td>0</td>\n      <td>1</td>\n      <td>0</td>\n    </tr>\n    <tr>\n      <th>4</th>\n      <td>0.0</td>\n      <td>-0.115091</td>\n      <td>0</td>\n      <td>2</td>\n      <td>non</td>\n      <td>0</td>\n      <td>1</td>\n      <td>0</td>\n      <td>1</td>\n      <td>0</td>\n      <td>...</td>\n      <td>0</td>\n      <td>0</td>\n      <td>0</td>\n      <td>1</td>\n      <td>0</td>\n      <td>1</td>\n      <td>1</td>\n      <td>0</td>\n      <td>1</td>\n      <td>0</td>\n    </tr>\n    <tr>\n      <th>...</th>\n      <td>...</td>\n      <td>...</td>\n      <td>...</td>\n      <td>...</td>\n      <td>...</td>\n      <td>...</td>\n      <td>...</td>\n      <td>...</td>\n      <td>...</td>\n      <td>...</td>\n      <td>...</td>\n      <td>...</td>\n      <td>...</td>\n      <td>...</td>\n      <td>...</td>\n      <td>...</td>\n      <td>...</td>\n      <td>...</td>\n      <td>...</td>\n      <td>...</td>\n      <td>...</td>\n    </tr>\n    <tr>\n      <th>5007</th>\n      <td>1.0</td>\n      <td>-0.316501</td>\n      <td>0</td>\n      <td>96</td>\n      <td>oui</td>\n      <td>0</td>\n      <td>1</td>\n      <td>0</td>\n      <td>1</td>\n      <td>0</td>\n      <td>...</td>\n      <td>1</td>\n      <td>0</td>\n      <td>0</td>\n      <td>1</td>\n      <td>0</td>\n      <td>1</td>\n      <td>1</td>\n      <td>0</td>\n      <td>1</td>\n      <td>0</td>\n    </tr>\n    <tr>\n      <th>5008</th>\n      <td>0.0</td>\n      <td>-0.057546</td>\n      <td>4</td>\n      <td>19</td>\n      <td>non</td>\n      <td>1</td>\n      <td>0</td>\n      <td>1</td>\n      <td>0</td>\n      <td>1</td>\n      <td>...</td>\n      <td>0</td>\n      <td>0</td>\n      <td>1</td>\n      <td>0</td>\n      <td>1</td>\n      <td>0</td>\n      <td>0</td>\n      <td>1</td>\n      <td>1</td>\n      <td>0</td>\n    </tr>\n    <tr>\n      <th>5009</th>\n      <td>3.0</td>\n      <td>-0.356783</td>\n      <td>3</td>\n      <td>1</td>\n      <td>non</td>\n      <td>0</td>\n      <td>1</td>\n      <td>1</td>\n      <td>0</td>\n      <td>0</td>\n      <td>...</td>\n      <td>1</td>\n      <td>0</td>\n      <td>1</td>\n      <td>0</td>\n      <td>1</td>\n      <td>0</td>\n      <td>0</td>\n      <td>1</td>\n      <td>0</td>\n      <td>1</td>\n    </tr>\n    <tr>\n      <th>5010</th>\n      <td>0.0</td>\n      <td>-0.324558</td>\n      <td>4</td>\n      <td>5</td>\n      <td>non</td>\n      <td>1</td>\n      <td>0</td>\n      <td>1</td>\n      <td>0</td>\n      <td>1</td>\n      <td>...</td>\n      <td>0</td>\n      <td>0</td>\n      <td>1</td>\n      <td>0</td>\n      <td>1</td>\n      <td>0</td>\n      <td>0</td>\n      <td>1</td>\n      <td>1</td>\n      <td>0</td>\n    </tr>\n    <tr>\n      <th>5011</th>\n      <td>1.0</td>\n      <td>0.447884</td>\n      <td>0</td>\n      <td>79</td>\n      <td>non</td>\n      <td>0</td>\n      <td>1</td>\n      <td>0</td>\n      <td>1</td>\n      <td>0</td>\n      <td>...</td>\n      <td>0</td>\n      <td>1</td>\n      <td>0</td>\n      <td>1</td>\n      <td>0</td>\n      <td>1</td>\n      <td>0</td>\n      <td>1</td>\n      <td>0</td>\n      <td>1</td>\n    </tr>\n  </tbody>\n</table>\n<p>4970 rows × 21 columns</p>\n</div>"
     },
     "execution_count": 268,
     "metadata": {},
     "output_type": "execute_result"
    }
   ],
   "source": [
    "df"
   ],
   "metadata": {
    "collapsed": false,
    "ExecuteTime": {
     "end_time": "2024-11-24T00:24:47.995967100Z",
     "start_time": "2024-11-24T00:24:47.800980500Z"
    }
   },
   "id": "12290d7e0f6ac21e"
  },
  {
   "cell_type": "markdown",
   "source": [
    "# reduction des dementionaliter"
   ],
   "metadata": {
    "collapsed": false
   },
   "id": "7bd202233c6654ff"
  },
  {
   "cell_type": "code",
   "execution_count": 269,
   "outputs": [],
   "source": [
    "from sklearn.preprocessing import LabelEncoder\n",
    "\n",
    "X = df.drop('Claim', axis=1)  \n",
    "y = df['Claim']\n",
    "\n",
    "le = LabelEncoder()\n",
    "y_encoded = le.fit_transform(y)\n",
    "#----------------------------------------------------\n",
    "X_test = df_test.drop('Claim', axis=1)\n",
    "y_test = df_test['Claim']\n",
    "\n",
    "y_test_encoded = le.fit_transform(y_test)\n"
   ],
   "metadata": {
    "collapsed": false,
    "ExecuteTime": {
     "end_time": "2024-11-24T00:24:48.009504900Z",
     "start_time": "2024-11-24T00:24:47.822555Z"
    }
   },
   "id": "ef32d3d0ace7f6b1"
  },
  {
   "cell_type": "code",
   "execution_count": 270,
   "outputs": [],
   "source": [
    "from sklearn.ensemble import RandomForestRegressor\n",
    "\n",
    "rf = RandomForestRegressor()\n",
    "rf.fit(X, y_encoded)\n",
    "\n",
    "# Get feature importances\n",
    "feature_importances = pd.Series(rf.feature_importances_, index=X.columns)\n",
    "important_features = feature_importances.nlargest(10).index  # Adjust 10 to the number of features you want to keep\n",
    "X_reduced= X[important_features]\n",
    "#----------------------------------------------------\n",
    "X_test_reduced= X_test[important_features]"
   ],
   "metadata": {
    "collapsed": false,
    "ExecuteTime": {
     "end_time": "2024-11-24T00:24:49.300452200Z",
     "start_time": "2024-11-24T00:24:47.830277900Z"
    }
   },
   "id": "569086db4ac2c9a4"
  },
  {
   "cell_type": "code",
   "execution_count": 271,
   "outputs": [
    {
     "data": {
      "text/plain": "      Building Dimension  Geo_Code  YearOfObservation  NumberOfWindows  \\\n0               0.080564        32                0.0                0   \n1              -0.115091         3                0.0                0   \n2               2.235074         1                1.0                4   \n3              -0.287728        25                4.0                0   \n4              -0.115091         2                0.0                0   \n...                  ...       ...                ...              ...   \n5007           -0.316501        96                1.0                0   \n5008           -0.057546        19                0.0                4   \n5009           -0.356783         1                3.0                3   \n5010           -0.324558         5                0.0                4   \n5011            0.447884        79                1.0                0   \n\n      Building_Type_Non-combustible  Residential_1  Residential_0  \\\n0                                 0              1              0   \n1                                 1              0              1   \n2                                 1              1              0   \n3                                 0              0              1   \n4                                 1              0              1   \n...                             ...            ...            ...   \n5007                              0              0              1   \n5008                              0              0              1   \n5009                              0              1              0   \n5010                              0              0              1   \n5011                              0              1              0   \n\n      Building_Type_Wood-framed  Building_Type_Ordinary  Insured_Period_0.5  \n0                             1                       0                   0  \n1                             0                       0                   0  \n2                             0                       0                   0  \n3                             1                       0                   1  \n4                             0                       0                   0  \n...                         ...                     ...                 ...  \n5007                          0                       1                   0  \n5008                          0                       0                   1  \n5009                          0                       1                   0  \n5010                          0                       0                   1  \n5011                          1                       0                   0  \n\n[4970 rows x 10 columns]",
      "text/html": "<div>\n<style scoped>\n    .dataframe tbody tr th:only-of-type {\n        vertical-align: middle;\n    }\n\n    .dataframe tbody tr th {\n        vertical-align: top;\n    }\n\n    .dataframe thead th {\n        text-align: right;\n    }\n</style>\n<table border=\"1\" class=\"dataframe\">\n  <thead>\n    <tr style=\"text-align: right;\">\n      <th></th>\n      <th>Building Dimension</th>\n      <th>Geo_Code</th>\n      <th>YearOfObservation</th>\n      <th>NumberOfWindows</th>\n      <th>Building_Type_Non-combustible</th>\n      <th>Residential_1</th>\n      <th>Residential_0</th>\n      <th>Building_Type_Wood-framed</th>\n      <th>Building_Type_Ordinary</th>\n      <th>Insured_Period_0.5</th>\n    </tr>\n  </thead>\n  <tbody>\n    <tr>\n      <th>0</th>\n      <td>0.080564</td>\n      <td>32</td>\n      <td>0.0</td>\n      <td>0</td>\n      <td>0</td>\n      <td>1</td>\n      <td>0</td>\n      <td>1</td>\n      <td>0</td>\n      <td>0</td>\n    </tr>\n    <tr>\n      <th>1</th>\n      <td>-0.115091</td>\n      <td>3</td>\n      <td>0.0</td>\n      <td>0</td>\n      <td>1</td>\n      <td>0</td>\n      <td>1</td>\n      <td>0</td>\n      <td>0</td>\n      <td>0</td>\n    </tr>\n    <tr>\n      <th>2</th>\n      <td>2.235074</td>\n      <td>1</td>\n      <td>1.0</td>\n      <td>4</td>\n      <td>1</td>\n      <td>1</td>\n      <td>0</td>\n      <td>0</td>\n      <td>0</td>\n      <td>0</td>\n    </tr>\n    <tr>\n      <th>3</th>\n      <td>-0.287728</td>\n      <td>25</td>\n      <td>4.0</td>\n      <td>0</td>\n      <td>0</td>\n      <td>0</td>\n      <td>1</td>\n      <td>1</td>\n      <td>0</td>\n      <td>1</td>\n    </tr>\n    <tr>\n      <th>4</th>\n      <td>-0.115091</td>\n      <td>2</td>\n      <td>0.0</td>\n      <td>0</td>\n      <td>1</td>\n      <td>0</td>\n      <td>1</td>\n      <td>0</td>\n      <td>0</td>\n      <td>0</td>\n    </tr>\n    <tr>\n      <th>...</th>\n      <td>...</td>\n      <td>...</td>\n      <td>...</td>\n      <td>...</td>\n      <td>...</td>\n      <td>...</td>\n      <td>...</td>\n      <td>...</td>\n      <td>...</td>\n      <td>...</td>\n    </tr>\n    <tr>\n      <th>5007</th>\n      <td>-0.316501</td>\n      <td>96</td>\n      <td>1.0</td>\n      <td>0</td>\n      <td>0</td>\n      <td>0</td>\n      <td>1</td>\n      <td>0</td>\n      <td>1</td>\n      <td>0</td>\n    </tr>\n    <tr>\n      <th>5008</th>\n      <td>-0.057546</td>\n      <td>19</td>\n      <td>0.0</td>\n      <td>4</td>\n      <td>0</td>\n      <td>0</td>\n      <td>1</td>\n      <td>0</td>\n      <td>0</td>\n      <td>1</td>\n    </tr>\n    <tr>\n      <th>5009</th>\n      <td>-0.356783</td>\n      <td>1</td>\n      <td>3.0</td>\n      <td>3</td>\n      <td>0</td>\n      <td>1</td>\n      <td>0</td>\n      <td>0</td>\n      <td>1</td>\n      <td>0</td>\n    </tr>\n    <tr>\n      <th>5010</th>\n      <td>-0.324558</td>\n      <td>5</td>\n      <td>0.0</td>\n      <td>4</td>\n      <td>0</td>\n      <td>0</td>\n      <td>1</td>\n      <td>0</td>\n      <td>0</td>\n      <td>1</td>\n    </tr>\n    <tr>\n      <th>5011</th>\n      <td>0.447884</td>\n      <td>79</td>\n      <td>1.0</td>\n      <td>0</td>\n      <td>0</td>\n      <td>1</td>\n      <td>0</td>\n      <td>1</td>\n      <td>0</td>\n      <td>0</td>\n    </tr>\n  </tbody>\n</table>\n<p>4970 rows × 10 columns</p>\n</div>"
     },
     "execution_count": 271,
     "metadata": {},
     "output_type": "execute_result"
    }
   ],
   "source": [
    "X_reduced"
   ],
   "metadata": {
    "collapsed": false,
    "ExecuteTime": {
     "end_time": "2024-11-24T00:24:49.312123700Z",
     "start_time": "2024-11-24T00:24:49.301457700Z"
    }
   },
   "id": "65ceedcf6a599fbb"
  },
  {
   "cell_type": "code",
   "execution_count": 272,
   "outputs": [
    {
     "name": "stdout",
     "output_type": "stream",
     "text": [
      "<class 'pandas.core.frame.DataFrame'>\n",
      "Index: 2142 entries, 0 to 2146\n",
      "Data columns (total 10 columns):\n",
      " #   Column                         Non-Null Count  Dtype  \n",
      "---  ------                         --------------  -----  \n",
      " 0   Building Dimension             2142 non-null   float64\n",
      " 1   Geo_Code                       2142 non-null   int64  \n",
      " 2   YearOfObservation              2142 non-null   float64\n",
      " 3   NumberOfWindows                2142 non-null   int64  \n",
      " 4   Building_Type_Non-combustible  2142 non-null   int32  \n",
      " 5   Residential_1                  2142 non-null   int32  \n",
      " 6   Residential_0                  2142 non-null   int32  \n",
      " 7   Building_Type_Wood-framed      2142 non-null   int32  \n",
      " 8   Building_Type_Ordinary         2142 non-null   int32  \n",
      " 9   Insured_Period_0.5             2142 non-null   int32  \n",
      "dtypes: float64(2), int32(6), int64(2)\n",
      "memory usage: 133.9 KB\n"
     ]
    }
   ],
   "source": [
    "X_test_reduced.info()"
   ],
   "metadata": {
    "collapsed": false,
    "ExecuteTime": {
     "end_time": "2024-11-24T00:24:49.328558100Z",
     "start_time": "2024-11-24T00:24:49.312123700Z"
    }
   },
   "id": "ff02204fdc1aaed8"
  },
  {
   "cell_type": "code",
   "execution_count": 273,
   "outputs": [
    {
     "name": "stdout",
     "output_type": "stream",
     "text": [
      "<class 'pandas.core.frame.DataFrame'>\n",
      "Index: 2142 entries, 0 to 2146\n",
      "Data columns (total 10 columns):\n",
      " #   Column                         Non-Null Count  Dtype  \n",
      "---  ------                         --------------  -----  \n",
      " 0   Building Dimension             2142 non-null   float64\n",
      " 1   Geo_Code                       2142 non-null   int64  \n",
      " 2   YearOfObservation              2142 non-null   float64\n",
      " 3   NumberOfWindows                2142 non-null   int64  \n",
      " 4   Building_Type_Non-combustible  2142 non-null   int32  \n",
      " 5   Residential_1                  2142 non-null   int32  \n",
      " 6   Residential_0                  2142 non-null   int32  \n",
      " 7   Building_Type_Wood-framed      2142 non-null   int32  \n",
      " 8   Building_Type_Ordinary         2142 non-null   int32  \n",
      " 9   Insured_Period_0.5             2142 non-null   int32  \n",
      "dtypes: float64(2), int32(6), int64(2)\n",
      "memory usage: 133.9 KB\n"
     ]
    }
   ],
   "source": [
    "X_test_reduced.info()"
   ],
   "metadata": {
    "collapsed": false,
    "ExecuteTime": {
     "end_time": "2024-11-24T00:24:49.366722Z",
     "start_time": "2024-11-24T00:24:49.323362900Z"
    }
   },
   "id": "80a7e8406826b5f3"
  },
  {
   "cell_type": "markdown",
   "source": [
    "# use similar weight"
   ],
   "metadata": {
    "collapsed": false
   },
   "id": "8786dff63c668cf"
  },
  {
   "cell_type": "code",
   "execution_count": 274,
   "outputs": [
    {
     "name": "stdout",
     "output_type": "stream",
     "text": [
      "Fold 1\n"
     ]
    },
    {
     "name": "stderr",
     "output_type": "stream",
     "text": [
      "C:\\Users\\faresmakki\\pythonProject\\Lib\\site-packages\\sklearn\\base.py:486: UserWarning: X has feature names, but SVC was fitted without feature names\n",
      "  warnings.warn(\n",
      "C:\\Users\\faresmakki\\pythonProject\\Lib\\site-packages\\sklearn\\base.py:486: UserWarning: X has feature names, but SVC was fitted without feature names\n",
      "  warnings.warn(\n",
      "C:\\Users\\faresmakki\\pythonProject\\Lib\\site-packages\\imblearn\\ensemble\\_forest.py:577: FutureWarning: The default of `sampling_strategy` will change from `'auto'` to `'all'` in version 0.13. This change will follow the implementation proposed in the original paper. Set to `'all'` to silence this warning and adopt the future behaviour.\n",
      "  warn(\n",
      "C:\\Users\\faresmakki\\pythonProject\\Lib\\site-packages\\imblearn\\ensemble\\_forest.py:589: FutureWarning: The default of `replacement` will change from `False` to `True` in version 0.13. This change will follow the implementation proposed in the original paper. Set to `True` to silence this warning and adopt the future behaviour.\n",
      "  warn(\n",
      "C:\\Users\\faresmakki\\pythonProject\\Lib\\site-packages\\imblearn\\ensemble\\_forest.py:601: FutureWarning: The default of `bootstrap` will change from `True` to `False` in version 0.13. This change will follow the implementation proposed in the original paper. Set to `False` to silence this warning and adopt the future behaviour.\n",
      "  warn(\n",
      "C:\\Users\\faresmakki\\pythonProject\\Lib\\site-packages\\sklearn\\base.py:486: UserWarning: X has feature names, but BalancedRandomForestClassifier was fitted without feature names\n",
      "  warnings.warn(\n",
      "C:\\Users\\faresmakki\\pythonProject\\Lib\\site-packages\\sklearn\\base.py:486: UserWarning: X has feature names, but BalancedRandomForestClassifier was fitted without feature names\n",
      "  warnings.warn(\n",
      "C:\\Users\\faresmakki\\pythonProject\\Lib\\site-packages\\sklearn\\base.py:486: UserWarning: X has feature names, but LogisticRegression was fitted without feature names\n",
      "  warnings.warn(\n",
      "C:\\Users\\faresmakki\\pythonProject\\Lib\\site-packages\\sklearn\\base.py:486: UserWarning: X has feature names, but LogisticRegression was fitted without feature names\n",
      "  warnings.warn(\n"
     ]
    },
    {
     "name": "stdout",
     "output_type": "stream",
     "text": [
      "Fold 2\n"
     ]
    },
    {
     "name": "stderr",
     "output_type": "stream",
     "text": [
      "C:\\Users\\faresmakki\\pythonProject\\Lib\\site-packages\\sklearn\\base.py:486: UserWarning: X has feature names, but SVC was fitted without feature names\n",
      "  warnings.warn(\n",
      "C:\\Users\\faresmakki\\pythonProject\\Lib\\site-packages\\sklearn\\base.py:486: UserWarning: X has feature names, but SVC was fitted without feature names\n",
      "  warnings.warn(\n",
      "C:\\Users\\faresmakki\\pythonProject\\Lib\\site-packages\\imblearn\\ensemble\\_forest.py:577: FutureWarning: The default of `sampling_strategy` will change from `'auto'` to `'all'` in version 0.13. This change will follow the implementation proposed in the original paper. Set to `'all'` to silence this warning and adopt the future behaviour.\n",
      "  warn(\n",
      "C:\\Users\\faresmakki\\pythonProject\\Lib\\site-packages\\imblearn\\ensemble\\_forest.py:589: FutureWarning: The default of `replacement` will change from `False` to `True` in version 0.13. This change will follow the implementation proposed in the original paper. Set to `True` to silence this warning and adopt the future behaviour.\n",
      "  warn(\n",
      "C:\\Users\\faresmakki\\pythonProject\\Lib\\site-packages\\imblearn\\ensemble\\_forest.py:601: FutureWarning: The default of `bootstrap` will change from `True` to `False` in version 0.13. This change will follow the implementation proposed in the original paper. Set to `False` to silence this warning and adopt the future behaviour.\n",
      "  warn(\n",
      "C:\\Users\\faresmakki\\pythonProject\\Lib\\site-packages\\sklearn\\base.py:486: UserWarning: X has feature names, but BalancedRandomForestClassifier was fitted without feature names\n",
      "  warnings.warn(\n",
      "C:\\Users\\faresmakki\\pythonProject\\Lib\\site-packages\\sklearn\\base.py:486: UserWarning: X has feature names, but BalancedRandomForestClassifier was fitted without feature names\n",
      "  warnings.warn(\n",
      "C:\\Users\\faresmakki\\pythonProject\\Lib\\site-packages\\sklearn\\base.py:486: UserWarning: X has feature names, but LogisticRegression was fitted without feature names\n",
      "  warnings.warn(\n",
      "C:\\Users\\faresmakki\\pythonProject\\Lib\\site-packages\\sklearn\\base.py:486: UserWarning: X has feature names, but LogisticRegression was fitted without feature names\n",
      "  warnings.warn(\n"
     ]
    },
    {
     "name": "stdout",
     "output_type": "stream",
     "text": [
      "Fold 3\n"
     ]
    },
    {
     "name": "stderr",
     "output_type": "stream",
     "text": [
      "C:\\Users\\faresmakki\\pythonProject\\Lib\\site-packages\\sklearn\\base.py:486: UserWarning: X has feature names, but SVC was fitted without feature names\n",
      "  warnings.warn(\n",
      "C:\\Users\\faresmakki\\pythonProject\\Lib\\site-packages\\sklearn\\base.py:486: UserWarning: X has feature names, but SVC was fitted without feature names\n",
      "  warnings.warn(\n",
      "C:\\Users\\faresmakki\\pythonProject\\Lib\\site-packages\\imblearn\\ensemble\\_forest.py:577: FutureWarning: The default of `sampling_strategy` will change from `'auto'` to `'all'` in version 0.13. This change will follow the implementation proposed in the original paper. Set to `'all'` to silence this warning and adopt the future behaviour.\n",
      "  warn(\n",
      "C:\\Users\\faresmakki\\pythonProject\\Lib\\site-packages\\imblearn\\ensemble\\_forest.py:589: FutureWarning: The default of `replacement` will change from `False` to `True` in version 0.13. This change will follow the implementation proposed in the original paper. Set to `True` to silence this warning and adopt the future behaviour.\n",
      "  warn(\n",
      "C:\\Users\\faresmakki\\pythonProject\\Lib\\site-packages\\imblearn\\ensemble\\_forest.py:601: FutureWarning: The default of `bootstrap` will change from `True` to `False` in version 0.13. This change will follow the implementation proposed in the original paper. Set to `False` to silence this warning and adopt the future behaviour.\n",
      "  warn(\n",
      "C:\\Users\\faresmakki\\pythonProject\\Lib\\site-packages\\sklearn\\base.py:486: UserWarning: X has feature names, but BalancedRandomForestClassifier was fitted without feature names\n",
      "  warnings.warn(\n",
      "C:\\Users\\faresmakki\\pythonProject\\Lib\\site-packages\\sklearn\\base.py:486: UserWarning: X has feature names, but BalancedRandomForestClassifier was fitted without feature names\n",
      "  warnings.warn(\n",
      "C:\\Users\\faresmakki\\pythonProject\\Lib\\site-packages\\sklearn\\base.py:486: UserWarning: X has feature names, but LogisticRegression was fitted without feature names\n",
      "  warnings.warn(\n",
      "C:\\Users\\faresmakki\\pythonProject\\Lib\\site-packages\\sklearn\\base.py:486: UserWarning: X has feature names, but LogisticRegression was fitted without feature names\n",
      "  warnings.warn(\n"
     ]
    },
    {
     "name": "stdout",
     "output_type": "stream",
     "text": [
      "Fold 4\n"
     ]
    },
    {
     "name": "stderr",
     "output_type": "stream",
     "text": [
      "C:\\Users\\faresmakki\\pythonProject\\Lib\\site-packages\\sklearn\\base.py:486: UserWarning: X has feature names, but SVC was fitted without feature names\n",
      "  warnings.warn(\n",
      "C:\\Users\\faresmakki\\pythonProject\\Lib\\site-packages\\sklearn\\base.py:486: UserWarning: X has feature names, but SVC was fitted without feature names\n",
      "  warnings.warn(\n",
      "C:\\Users\\faresmakki\\pythonProject\\Lib\\site-packages\\imblearn\\ensemble\\_forest.py:577: FutureWarning: The default of `sampling_strategy` will change from `'auto'` to `'all'` in version 0.13. This change will follow the implementation proposed in the original paper. Set to `'all'` to silence this warning and adopt the future behaviour.\n",
      "  warn(\n",
      "C:\\Users\\faresmakki\\pythonProject\\Lib\\site-packages\\imblearn\\ensemble\\_forest.py:589: FutureWarning: The default of `replacement` will change from `False` to `True` in version 0.13. This change will follow the implementation proposed in the original paper. Set to `True` to silence this warning and adopt the future behaviour.\n",
      "  warn(\n",
      "C:\\Users\\faresmakki\\pythonProject\\Lib\\site-packages\\imblearn\\ensemble\\_forest.py:601: FutureWarning: The default of `bootstrap` will change from `True` to `False` in version 0.13. This change will follow the implementation proposed in the original paper. Set to `False` to silence this warning and adopt the future behaviour.\n",
      "  warn(\n",
      "C:\\Users\\faresmakki\\pythonProject\\Lib\\site-packages\\sklearn\\base.py:486: UserWarning: X has feature names, but BalancedRandomForestClassifier was fitted without feature names\n",
      "  warnings.warn(\n",
      "C:\\Users\\faresmakki\\pythonProject\\Lib\\site-packages\\sklearn\\base.py:486: UserWarning: X has feature names, but BalancedRandomForestClassifier was fitted without feature names\n",
      "  warnings.warn(\n",
      "C:\\Users\\faresmakki\\pythonProject\\Lib\\site-packages\\sklearn\\linear_model\\_logistic.py:469: ConvergenceWarning: lbfgs failed to converge (status=1):\n",
      "STOP: TOTAL NO. of ITERATIONS REACHED LIMIT.\n",
      "\n",
      "Increase the number of iterations (max_iter) or scale the data as shown in:\n",
      "    https://scikit-learn.org/stable/modules/preprocessing.html\n",
      "Please also refer to the documentation for alternative solver options:\n",
      "    https://scikit-learn.org/stable/modules/linear_model.html#logistic-regression\n",
      "  n_iter_i = _check_optimize_result(\n",
      "C:\\Users\\faresmakki\\pythonProject\\Lib\\site-packages\\sklearn\\base.py:486: UserWarning: X has feature names, but LogisticRegression was fitted without feature names\n",
      "  warnings.warn(\n",
      "C:\\Users\\faresmakki\\pythonProject\\Lib\\site-packages\\sklearn\\base.py:486: UserWarning: X has feature names, but LogisticRegression was fitted without feature names\n",
      "  warnings.warn(\n"
     ]
    },
    {
     "name": "stdout",
     "output_type": "stream",
     "text": [
      "Fold 5\n"
     ]
    },
    {
     "name": "stderr",
     "output_type": "stream",
     "text": [
      "C:\\Users\\faresmakki\\pythonProject\\Lib\\site-packages\\sklearn\\base.py:486: UserWarning: X has feature names, but SVC was fitted without feature names\n",
      "  warnings.warn(\n",
      "C:\\Users\\faresmakki\\pythonProject\\Lib\\site-packages\\sklearn\\base.py:486: UserWarning: X has feature names, but SVC was fitted without feature names\n",
      "  warnings.warn(\n",
      "C:\\Users\\faresmakki\\pythonProject\\Lib\\site-packages\\imblearn\\ensemble\\_forest.py:577: FutureWarning: The default of `sampling_strategy` will change from `'auto'` to `'all'` in version 0.13. This change will follow the implementation proposed in the original paper. Set to `'all'` to silence this warning and adopt the future behaviour.\n",
      "  warn(\n",
      "C:\\Users\\faresmakki\\pythonProject\\Lib\\site-packages\\imblearn\\ensemble\\_forest.py:589: FutureWarning: The default of `replacement` will change from `False` to `True` in version 0.13. This change will follow the implementation proposed in the original paper. Set to `True` to silence this warning and adopt the future behaviour.\n",
      "  warn(\n",
      "C:\\Users\\faresmakki\\pythonProject\\Lib\\site-packages\\imblearn\\ensemble\\_forest.py:601: FutureWarning: The default of `bootstrap` will change from `True` to `False` in version 0.13. This change will follow the implementation proposed in the original paper. Set to `False` to silence this warning and adopt the future behaviour.\n",
      "  warn(\n",
      "C:\\Users\\faresmakki\\pythonProject\\Lib\\site-packages\\sklearn\\base.py:486: UserWarning: X has feature names, but BalancedRandomForestClassifier was fitted without feature names\n",
      "  warnings.warn(\n",
      "C:\\Users\\faresmakki\\pythonProject\\Lib\\site-packages\\sklearn\\base.py:486: UserWarning: X has feature names, but BalancedRandomForestClassifier was fitted without feature names\n",
      "  warnings.warn(\n",
      "C:\\Users\\faresmakki\\pythonProject\\Lib\\site-packages\\sklearn\\base.py:486: UserWarning: X has feature names, but LogisticRegression was fitted without feature names\n",
      "  warnings.warn(\n",
      "C:\\Users\\faresmakki\\pythonProject\\Lib\\site-packages\\sklearn\\base.py:486: UserWarning: X has feature names, but LogisticRegression was fitted without feature names\n",
      "  warnings.warn(\n"
     ]
    },
    {
     "name": "stdout",
     "output_type": "stream",
     "text": [
      "Fold 6\n"
     ]
    },
    {
     "name": "stderr",
     "output_type": "stream",
     "text": [
      "C:\\Users\\faresmakki\\pythonProject\\Lib\\site-packages\\sklearn\\base.py:486: UserWarning: X has feature names, but SVC was fitted without feature names\n",
      "  warnings.warn(\n",
      "C:\\Users\\faresmakki\\pythonProject\\Lib\\site-packages\\sklearn\\base.py:486: UserWarning: X has feature names, but SVC was fitted without feature names\n",
      "  warnings.warn(\n",
      "C:\\Users\\faresmakki\\pythonProject\\Lib\\site-packages\\imblearn\\ensemble\\_forest.py:577: FutureWarning: The default of `sampling_strategy` will change from `'auto'` to `'all'` in version 0.13. This change will follow the implementation proposed in the original paper. Set to `'all'` to silence this warning and adopt the future behaviour.\n",
      "  warn(\n",
      "C:\\Users\\faresmakki\\pythonProject\\Lib\\site-packages\\imblearn\\ensemble\\_forest.py:589: FutureWarning: The default of `replacement` will change from `False` to `True` in version 0.13. This change will follow the implementation proposed in the original paper. Set to `True` to silence this warning and adopt the future behaviour.\n",
      "  warn(\n",
      "C:\\Users\\faresmakki\\pythonProject\\Lib\\site-packages\\imblearn\\ensemble\\_forest.py:601: FutureWarning: The default of `bootstrap` will change from `True` to `False` in version 0.13. This change will follow the implementation proposed in the original paper. Set to `False` to silence this warning and adopt the future behaviour.\n",
      "  warn(\n",
      "C:\\Users\\faresmakki\\pythonProject\\Lib\\site-packages\\sklearn\\base.py:486: UserWarning: X has feature names, but BalancedRandomForestClassifier was fitted without feature names\n",
      "  warnings.warn(\n",
      "C:\\Users\\faresmakki\\pythonProject\\Lib\\site-packages\\sklearn\\base.py:486: UserWarning: X has feature names, but BalancedRandomForestClassifier was fitted without feature names\n",
      "  warnings.warn(\n",
      "C:\\Users\\faresmakki\\pythonProject\\Lib\\site-packages\\sklearn\\linear_model\\_logistic.py:469: ConvergenceWarning: lbfgs failed to converge (status=1):\n",
      "STOP: TOTAL NO. of ITERATIONS REACHED LIMIT.\n",
      "\n",
      "Increase the number of iterations (max_iter) or scale the data as shown in:\n",
      "    https://scikit-learn.org/stable/modules/preprocessing.html\n",
      "Please also refer to the documentation for alternative solver options:\n",
      "    https://scikit-learn.org/stable/modules/linear_model.html#logistic-regression\n",
      "  n_iter_i = _check_optimize_result(\n",
      "C:\\Users\\faresmakki\\pythonProject\\Lib\\site-packages\\sklearn\\base.py:486: UserWarning: X has feature names, but LogisticRegression was fitted without feature names\n",
      "  warnings.warn(\n",
      "C:\\Users\\faresmakki\\pythonProject\\Lib\\site-packages\\sklearn\\base.py:486: UserWarning: X has feature names, but LogisticRegression was fitted without feature names\n",
      "  warnings.warn(\n"
     ]
    },
    {
     "name": "stdout",
     "output_type": "stream",
     "text": [
      "Fold 7\n"
     ]
    },
    {
     "name": "stderr",
     "output_type": "stream",
     "text": [
      "C:\\Users\\faresmakki\\pythonProject\\Lib\\site-packages\\sklearn\\base.py:486: UserWarning: X has feature names, but SVC was fitted without feature names\n",
      "  warnings.warn(\n",
      "C:\\Users\\faresmakki\\pythonProject\\Lib\\site-packages\\sklearn\\base.py:486: UserWarning: X has feature names, but SVC was fitted without feature names\n",
      "  warnings.warn(\n",
      "C:\\Users\\faresmakki\\pythonProject\\Lib\\site-packages\\imblearn\\ensemble\\_forest.py:577: FutureWarning: The default of `sampling_strategy` will change from `'auto'` to `'all'` in version 0.13. This change will follow the implementation proposed in the original paper. Set to `'all'` to silence this warning and adopt the future behaviour.\n",
      "  warn(\n",
      "C:\\Users\\faresmakki\\pythonProject\\Lib\\site-packages\\imblearn\\ensemble\\_forest.py:589: FutureWarning: The default of `replacement` will change from `False` to `True` in version 0.13. This change will follow the implementation proposed in the original paper. Set to `True` to silence this warning and adopt the future behaviour.\n",
      "  warn(\n",
      "C:\\Users\\faresmakki\\pythonProject\\Lib\\site-packages\\imblearn\\ensemble\\_forest.py:601: FutureWarning: The default of `bootstrap` will change from `True` to `False` in version 0.13. This change will follow the implementation proposed in the original paper. Set to `False` to silence this warning and adopt the future behaviour.\n",
      "  warn(\n",
      "C:\\Users\\faresmakki\\pythonProject\\Lib\\site-packages\\sklearn\\base.py:486: UserWarning: X has feature names, but BalancedRandomForestClassifier was fitted without feature names\n",
      "  warnings.warn(\n",
      "C:\\Users\\faresmakki\\pythonProject\\Lib\\site-packages\\sklearn\\base.py:486: UserWarning: X has feature names, but BalancedRandomForestClassifier was fitted without feature names\n",
      "  warnings.warn(\n",
      "C:\\Users\\faresmakki\\pythonProject\\Lib\\site-packages\\sklearn\\linear_model\\_logistic.py:469: ConvergenceWarning: lbfgs failed to converge (status=1):\n",
      "STOP: TOTAL NO. of ITERATIONS REACHED LIMIT.\n",
      "\n",
      "Increase the number of iterations (max_iter) or scale the data as shown in:\n",
      "    https://scikit-learn.org/stable/modules/preprocessing.html\n",
      "Please also refer to the documentation for alternative solver options:\n",
      "    https://scikit-learn.org/stable/modules/linear_model.html#logistic-regression\n",
      "  n_iter_i = _check_optimize_result(\n",
      "C:\\Users\\faresmakki\\pythonProject\\Lib\\site-packages\\sklearn\\base.py:486: UserWarning: X has feature names, but LogisticRegression was fitted without feature names\n",
      "  warnings.warn(\n",
      "C:\\Users\\faresmakki\\pythonProject\\Lib\\site-packages\\sklearn\\base.py:486: UserWarning: X has feature names, but LogisticRegression was fitted without feature names\n",
      "  warnings.warn(\n"
     ]
    },
    {
     "name": "stdout",
     "output_type": "stream",
     "text": [
      "Fold 8\n"
     ]
    },
    {
     "name": "stderr",
     "output_type": "stream",
     "text": [
      "C:\\Users\\faresmakki\\pythonProject\\Lib\\site-packages\\sklearn\\base.py:486: UserWarning: X has feature names, but SVC was fitted without feature names\n",
      "  warnings.warn(\n",
      "C:\\Users\\faresmakki\\pythonProject\\Lib\\site-packages\\sklearn\\base.py:486: UserWarning: X has feature names, but SVC was fitted without feature names\n",
      "  warnings.warn(\n",
      "C:\\Users\\faresmakki\\pythonProject\\Lib\\site-packages\\imblearn\\ensemble\\_forest.py:577: FutureWarning: The default of `sampling_strategy` will change from `'auto'` to `'all'` in version 0.13. This change will follow the implementation proposed in the original paper. Set to `'all'` to silence this warning and adopt the future behaviour.\n",
      "  warn(\n",
      "C:\\Users\\faresmakki\\pythonProject\\Lib\\site-packages\\imblearn\\ensemble\\_forest.py:589: FutureWarning: The default of `replacement` will change from `False` to `True` in version 0.13. This change will follow the implementation proposed in the original paper. Set to `True` to silence this warning and adopt the future behaviour.\n",
      "  warn(\n",
      "C:\\Users\\faresmakki\\pythonProject\\Lib\\site-packages\\imblearn\\ensemble\\_forest.py:601: FutureWarning: The default of `bootstrap` will change from `True` to `False` in version 0.13. This change will follow the implementation proposed in the original paper. Set to `False` to silence this warning and adopt the future behaviour.\n",
      "  warn(\n",
      "C:\\Users\\faresmakki\\pythonProject\\Lib\\site-packages\\sklearn\\base.py:486: UserWarning: X has feature names, but BalancedRandomForestClassifier was fitted without feature names\n",
      "  warnings.warn(\n",
      "C:\\Users\\faresmakki\\pythonProject\\Lib\\site-packages\\sklearn\\base.py:486: UserWarning: X has feature names, but BalancedRandomForestClassifier was fitted without feature names\n",
      "  warnings.warn(\n",
      "C:\\Users\\faresmakki\\pythonProject\\Lib\\site-packages\\sklearn\\base.py:486: UserWarning: X has feature names, but LogisticRegression was fitted without feature names\n",
      "  warnings.warn(\n",
      "C:\\Users\\faresmakki\\pythonProject\\Lib\\site-packages\\sklearn\\base.py:486: UserWarning: X has feature names, but LogisticRegression was fitted without feature names\n",
      "  warnings.warn(\n"
     ]
    },
    {
     "name": "stdout",
     "output_type": "stream",
     "text": [
      "Fold 9\n"
     ]
    },
    {
     "name": "stderr",
     "output_type": "stream",
     "text": [
      "C:\\Users\\faresmakki\\pythonProject\\Lib\\site-packages\\sklearn\\base.py:486: UserWarning: X has feature names, but SVC was fitted without feature names\n",
      "  warnings.warn(\n",
      "C:\\Users\\faresmakki\\pythonProject\\Lib\\site-packages\\sklearn\\base.py:486: UserWarning: X has feature names, but SVC was fitted without feature names\n",
      "  warnings.warn(\n",
      "C:\\Users\\faresmakki\\pythonProject\\Lib\\site-packages\\imblearn\\ensemble\\_forest.py:577: FutureWarning: The default of `sampling_strategy` will change from `'auto'` to `'all'` in version 0.13. This change will follow the implementation proposed in the original paper. Set to `'all'` to silence this warning and adopt the future behaviour.\n",
      "  warn(\n",
      "C:\\Users\\faresmakki\\pythonProject\\Lib\\site-packages\\imblearn\\ensemble\\_forest.py:589: FutureWarning: The default of `replacement` will change from `False` to `True` in version 0.13. This change will follow the implementation proposed in the original paper. Set to `True` to silence this warning and adopt the future behaviour.\n",
      "  warn(\n",
      "C:\\Users\\faresmakki\\pythonProject\\Lib\\site-packages\\imblearn\\ensemble\\_forest.py:601: FutureWarning: The default of `bootstrap` will change from `True` to `False` in version 0.13. This change will follow the implementation proposed in the original paper. Set to `False` to silence this warning and adopt the future behaviour.\n",
      "  warn(\n",
      "C:\\Users\\faresmakki\\pythonProject\\Lib\\site-packages\\sklearn\\base.py:486: UserWarning: X has feature names, but BalancedRandomForestClassifier was fitted without feature names\n",
      "  warnings.warn(\n",
      "C:\\Users\\faresmakki\\pythonProject\\Lib\\site-packages\\sklearn\\base.py:486: UserWarning: X has feature names, but BalancedRandomForestClassifier was fitted without feature names\n",
      "  warnings.warn(\n",
      "C:\\Users\\faresmakki\\pythonProject\\Lib\\site-packages\\sklearn\\linear_model\\_logistic.py:469: ConvergenceWarning: lbfgs failed to converge (status=1):\n",
      "STOP: TOTAL NO. of ITERATIONS REACHED LIMIT.\n",
      "\n",
      "Increase the number of iterations (max_iter) or scale the data as shown in:\n",
      "    https://scikit-learn.org/stable/modules/preprocessing.html\n",
      "Please also refer to the documentation for alternative solver options:\n",
      "    https://scikit-learn.org/stable/modules/linear_model.html#logistic-regression\n",
      "  n_iter_i = _check_optimize_result(\n",
      "C:\\Users\\faresmakki\\pythonProject\\Lib\\site-packages\\sklearn\\base.py:486: UserWarning: X has feature names, but LogisticRegression was fitted without feature names\n",
      "  warnings.warn(\n",
      "C:\\Users\\faresmakki\\pythonProject\\Lib\\site-packages\\sklearn\\base.py:486: UserWarning: X has feature names, but LogisticRegression was fitted without feature names\n",
      "  warnings.warn(\n"
     ]
    },
    {
     "name": "stdout",
     "output_type": "stream",
     "text": [
      "Fold 10\n"
     ]
    },
    {
     "name": "stderr",
     "output_type": "stream",
     "text": [
      "C:\\Users\\faresmakki\\pythonProject\\Lib\\site-packages\\sklearn\\base.py:486: UserWarning: X has feature names, but SVC was fitted without feature names\n",
      "  warnings.warn(\n",
      "C:\\Users\\faresmakki\\pythonProject\\Lib\\site-packages\\sklearn\\base.py:486: UserWarning: X has feature names, but SVC was fitted without feature names\n",
      "  warnings.warn(\n",
      "C:\\Users\\faresmakki\\pythonProject\\Lib\\site-packages\\imblearn\\ensemble\\_forest.py:577: FutureWarning: The default of `sampling_strategy` will change from `'auto'` to `'all'` in version 0.13. This change will follow the implementation proposed in the original paper. Set to `'all'` to silence this warning and adopt the future behaviour.\n",
      "  warn(\n",
      "C:\\Users\\faresmakki\\pythonProject\\Lib\\site-packages\\imblearn\\ensemble\\_forest.py:589: FutureWarning: The default of `replacement` will change from `False` to `True` in version 0.13. This change will follow the implementation proposed in the original paper. Set to `True` to silence this warning and adopt the future behaviour.\n",
      "  warn(\n",
      "C:\\Users\\faresmakki\\pythonProject\\Lib\\site-packages\\imblearn\\ensemble\\_forest.py:601: FutureWarning: The default of `bootstrap` will change from `True` to `False` in version 0.13. This change will follow the implementation proposed in the original paper. Set to `False` to silence this warning and adopt the future behaviour.\n",
      "  warn(\n"
     ]
    },
    {
     "name": "stdout",
     "output_type": "stream",
     "text": [
      "\n",
      "Summary of Results:\n",
      "SVM: Avg F1-Score = 0.41, Avg Precision = 0.38, Avg Recall = 0.45, Avg ROC-AUC = 0.68, Avg Accuracy = 0.71\n",
      "Random Forest: Avg F1-Score = 0.44, Avg Precision = 0.35, Avg Recall = 0.60, Avg ROC-AUC = 0.67, Avg Accuracy = 0.65\n",
      "Logistic Regression: Avg F1-Score = 0.46, Avg Precision = 0.39, Avg Recall = 0.56, Avg ROC-AUC = 0.70, Avg Accuracy = 0.70\n",
      "\n",
      "Summary of Results Test:\n",
      "SVM: Avg F1-Score = 0.40, Avg Precision = 0.44, Avg Recall = 0.36, Avg ROC-AUC = 0.69, Avg Accuracy = 0.74\n",
      "Random Forest: Avg F1-Score = 0.46, Avg Precision = 0.37, Avg Recall = 0.58, Avg ROC-AUC = 0.68, Avg Accuracy = 0.67\n",
      "Logistic Regression: Avg F1-Score = 0.47, Avg Precision = 0.41, Avg Recall = 0.55, Avg ROC-AUC = 0.71, Avg Accuracy = 0.70\n"
     ]
    },
    {
     "name": "stderr",
     "output_type": "stream",
     "text": [
      "C:\\Users\\faresmakki\\pythonProject\\Lib\\site-packages\\sklearn\\base.py:486: UserWarning: X has feature names, but BalancedRandomForestClassifier was fitted without feature names\n",
      "  warnings.warn(\n",
      "C:\\Users\\faresmakki\\pythonProject\\Lib\\site-packages\\sklearn\\base.py:486: UserWarning: X has feature names, but BalancedRandomForestClassifier was fitted without feature names\n",
      "  warnings.warn(\n",
      "C:\\Users\\faresmakki\\pythonProject\\Lib\\site-packages\\sklearn\\base.py:486: UserWarning: X has feature names, but LogisticRegression was fitted without feature names\n",
      "  warnings.warn(\n",
      "C:\\Users\\faresmakki\\pythonProject\\Lib\\site-packages\\sklearn\\base.py:486: UserWarning: X has feature names, but LogisticRegression was fitted without feature names\n",
      "  warnings.warn(\n"
     ]
    }
   ],
   "source": [
    "from sklearn.model_selection import StratifiedKFold\n",
    "from sklearn.ensemble import RandomForestClassifier\n",
    "from sklearn.linear_model import LogisticRegression\n",
    "from sklearn.svm import SVC\n",
    "from sklearn.metrics import classification_report, roc_auc_score, accuracy_score, precision_score, recall_score\n",
    "import numpy as np\n",
    "from imblearn.ensemble import BalancedRandomForestClassifier\n",
    "\n",
    "\n",
    "kf = StratifiedKFold(n_splits=10, shuffle=True, random_state=42)\n",
    "\n",
    "models = {\n",
    "    \"SVM\": SVC(probability=True, class_weight='balanced', random_state=42),\n",
    "    \"Random Forest\": BalancedRandomForestClassifier(class_weight='balanced', random_state=42),\n",
    "    \"Logistic Regression\": LogisticRegression(class_weight='balanced', random_state=42),\n",
    "}\n",
    "\n",
    "results = {model_name: [] for model_name in models.keys()}\n",
    "#----------------------------------------------------\n",
    "results_test = {model_name: [] for model_name in models.keys()}\n",
    "\n",
    "X_reduced_np = X_reduced.values\n",
    "y_encoded_np = y_encoded\n",
    "#----------------------------------------------------\n",
    "X_test_reduced_np = X_test_reduced.values\n",
    "y_test_encoded_np = y_test_encoded\n",
    "\n",
    "for fold, (train_idx, test_idx) in enumerate(kf.split(X_reduced_np, y_encoded_np)):\n",
    "    X_train, X_test = X_reduced_np[train_idx], X_reduced_np[test_idx]\n",
    "    y_train, y_test = y_encoded_np[train_idx], y_encoded_np[test_idx]\n",
    "    \n",
    "    for model_name, model in models.items():\n",
    "        model.fit(X_train, y_train)  \n",
    "        y_pred = model.predict(X_test)  \n",
    "        y_proba = model.predict_proba(X_test)[:, 1]  \n",
    "        #----------------------------------------------------\n",
    "        y_pred_test = model.predict(X_test_reduced)\n",
    "        y_proba_test = model.predict_proba(X_test_reduced)[:, 1]\n",
    "        \n",
    "        \n",
    "        report = classification_report(y_test, y_pred, output_dict=True)\n",
    "        auc = roc_auc_score(y_test, y_proba)\n",
    "        accuracy = accuracy_score(y_test, y_pred)\n",
    "        precision = precision_score(y_test, y_pred, pos_label=1)\n",
    "        recall = recall_score(y_test, y_pred, pos_label=1)\n",
    "        #----------------------------------------------------\n",
    "        report_test = classification_report(y_test_encoded, y_pred_test, output_dict=True)\n",
    "        auc_test = roc_auc_score(y_test_encoded, y_proba_test)\n",
    "        accuracy_test = accuracy_score(y_test_encoded, y_pred_test)\n",
    "        precision_test = precision_score(y_test_encoded, y_pred_test, pos_label=1)\n",
    "        recall_test = recall_score(y_test_encoded, y_pred_test, pos_label=1)\n",
    "        \n",
    "        \n",
    "        \n",
    "        results[model_name].append({\n",
    "            \"fold\": fold+1,\n",
    "            \"f1_score\": report['1']['f1-score'],\n",
    "            \"precision\": precision,\n",
    "            \"recall\": recall,\n",
    "            \"roc_auc\": auc,\n",
    "            \"accuracy\": accuracy\n",
    "        })\n",
    "        #----------------------------------------------------\n",
    "        results_test[model_name].append({\n",
    "            \"fold\": fold+1,\n",
    "            \"f1_score\": report_test['1']['f1-score'],\n",
    "            \"precision\": precision_test,\n",
    "            \"recall\": recall_test,\n",
    "            \"roc_auc\": auc_test,\n",
    "            \"accuracy\": accuracy_test\n",
    "        })\n",
    "        \n",
    "        \n",
    "      \n",
    "# Summarize results\n",
    "print(\"\\nSummary of Results:\")\n",
    "for model_name, metrics in results.items():\n",
    "    avg_f1 = np.mean([m['f1_score'] for m in metrics])\n",
    "    avg_precision = np.mean([m['precision'] for m in metrics])\n",
    "    avg_recall = np.mean([m['recall'] for m in metrics])\n",
    "    avg_auc = np.mean([m['roc_auc'] for m in metrics])\n",
    "    avg_acc = np.mean([m['accuracy'] for m in metrics])\n",
    "    print(f\"{model_name}: \"\n",
    "          f\"Avg F1-Score = {avg_f1:.2f}, \"\n",
    "          f\"Avg Precision = {avg_precision:.2f}, \"\n",
    "          f\"Avg Recall = {avg_recall:.2f}, \"\n",
    "          f\"Avg ROC-AUC = {avg_auc:.2f}, \"\n",
    "          f\"Avg Accuracy = {avg_acc:.2f}\")\n",
    "#----------------------------------------------------\n",
    "print(\"\\nSummary of Results Test:\")\n",
    "for model_name, metrics in results_test.items():\n",
    "    avg_f1 = np.mean([m['f1_score'] for m in metrics])\n",
    "    avg_precision = np.mean([m['precision'] for m in metrics])\n",
    "    avg_recall = np.mean([m['recall'] for m in metrics])\n",
    "    avg_auc = np.mean([m['roc_auc'] for m in metrics])\n",
    "    avg_acc = np.mean([m['accuracy'] for m in metrics])\n",
    "    print(f\"{model_name}: \"\n",
    "          f\"Avg F1-Score = {avg_f1:.2f}, \"\n",
    "          f\"Avg Precision = {avg_precision:.2f}, \"\n",
    "          f\"Avg Recall = {avg_recall:.2f}, \"\n",
    "          f\"Avg ROC-AUC = {avg_auc:.2f}, \"\n",
    "          f\"Avg Accuracy = {avg_acc:.2f}\")\n"
   ],
   "metadata": {
    "collapsed": false,
    "ExecuteTime": {
     "end_time": "2024-11-24T00:25:45.385114600Z",
     "start_time": "2024-11-24T00:24:49.338097900Z"
    }
   },
   "id": "566643af4c24b597"
  },
  {
   "cell_type": "markdown",
   "source": [
    "# overSimpling"
   ],
   "metadata": {
    "collapsed": false
   },
   "id": "b35736b5f7a0dfb5"
  },
  {
   "cell_type": "code",
   "execution_count": 275,
   "outputs": [
    {
     "name": "stderr",
     "output_type": "stream",
     "text": [
      "C:\\Users\\faresmakki\\pythonProject\\Lib\\site-packages\\imblearn\\ensemble\\_forest.py:577: FutureWarning: The default of `sampling_strategy` will change from `'auto'` to `'all'` in version 0.13. This change will follow the implementation proposed in the original paper. Set to `'all'` to silence this warning and adopt the future behaviour.\n",
      "  warn(\n",
      "C:\\Users\\faresmakki\\pythonProject\\Lib\\site-packages\\imblearn\\ensemble\\_forest.py:589: FutureWarning: The default of `replacement` will change from `False` to `True` in version 0.13. This change will follow the implementation proposed in the original paper. Set to `True` to silence this warning and adopt the future behaviour.\n",
      "  warn(\n",
      "C:\\Users\\faresmakki\\pythonProject\\Lib\\site-packages\\imblearn\\ensemble\\_forest.py:601: FutureWarning: The default of `bootstrap` will change from `True` to `False` in version 0.13. This change will follow the implementation proposed in the original paper. Set to `False` to silence this warning and adopt the future behaviour.\n",
      "  warn(\n",
      "C:\\Users\\faresmakki\\pythonProject\\Lib\\site-packages\\imblearn\\ensemble\\_forest.py:577: FutureWarning: The default of `sampling_strategy` will change from `'auto'` to `'all'` in version 0.13. This change will follow the implementation proposed in the original paper. Set to `'all'` to silence this warning and adopt the future behaviour.\n",
      "  warn(\n",
      "C:\\Users\\faresmakki\\pythonProject\\Lib\\site-packages\\imblearn\\ensemble\\_forest.py:589: FutureWarning: The default of `replacement` will change from `False` to `True` in version 0.13. This change will follow the implementation proposed in the original paper. Set to `True` to silence this warning and adopt the future behaviour.\n",
      "  warn(\n",
      "C:\\Users\\faresmakki\\pythonProject\\Lib\\site-packages\\imblearn\\ensemble\\_forest.py:601: FutureWarning: The default of `bootstrap` will change from `True` to `False` in version 0.13. This change will follow the implementation proposed in the original paper. Set to `False` to silence this warning and adopt the future behaviour.\n",
      "  warn(\n",
      "C:\\Users\\faresmakki\\pythonProject\\Lib\\site-packages\\imblearn\\ensemble\\_forest.py:577: FutureWarning: The default of `sampling_strategy` will change from `'auto'` to `'all'` in version 0.13. This change will follow the implementation proposed in the original paper. Set to `'all'` to silence this warning and adopt the future behaviour.\n",
      "  warn(\n",
      "C:\\Users\\faresmakki\\pythonProject\\Lib\\site-packages\\imblearn\\ensemble\\_forest.py:589: FutureWarning: The default of `replacement` will change from `False` to `True` in version 0.13. This change will follow the implementation proposed in the original paper. Set to `True` to silence this warning and adopt the future behaviour.\n",
      "  warn(\n",
      "C:\\Users\\faresmakki\\pythonProject\\Lib\\site-packages\\imblearn\\ensemble\\_forest.py:601: FutureWarning: The default of `bootstrap` will change from `True` to `False` in version 0.13. This change will follow the implementation proposed in the original paper. Set to `False` to silence this warning and adopt the future behaviour.\n",
      "  warn(\n",
      "C:\\Users\\faresmakki\\pythonProject\\Lib\\site-packages\\imblearn\\ensemble\\_forest.py:577: FutureWarning: The default of `sampling_strategy` will change from `'auto'` to `'all'` in version 0.13. This change will follow the implementation proposed in the original paper. Set to `'all'` to silence this warning and adopt the future behaviour.\n",
      "  warn(\n",
      "C:\\Users\\faresmakki\\pythonProject\\Lib\\site-packages\\imblearn\\ensemble\\_forest.py:589: FutureWarning: The default of `replacement` will change from `False` to `True` in version 0.13. This change will follow the implementation proposed in the original paper. Set to `True` to silence this warning and adopt the future behaviour.\n",
      "  warn(\n",
      "C:\\Users\\faresmakki\\pythonProject\\Lib\\site-packages\\imblearn\\ensemble\\_forest.py:601: FutureWarning: The default of `bootstrap` will change from `True` to `False` in version 0.13. This change will follow the implementation proposed in the original paper. Set to `False` to silence this warning and adopt the future behaviour.\n",
      "  warn(\n",
      "C:\\Users\\faresmakki\\pythonProject\\Lib\\site-packages\\imblearn\\ensemble\\_forest.py:577: FutureWarning: The default of `sampling_strategy` will change from `'auto'` to `'all'` in version 0.13. This change will follow the implementation proposed in the original paper. Set to `'all'` to silence this warning and adopt the future behaviour.\n",
      "  warn(\n",
      "C:\\Users\\faresmakki\\pythonProject\\Lib\\site-packages\\imblearn\\ensemble\\_forest.py:589: FutureWarning: The default of `replacement` will change from `False` to `True` in version 0.13. This change will follow the implementation proposed in the original paper. Set to `True` to silence this warning and adopt the future behaviour.\n",
      "  warn(\n",
      "C:\\Users\\faresmakki\\pythonProject\\Lib\\site-packages\\imblearn\\ensemble\\_forest.py:601: FutureWarning: The default of `bootstrap` will change from `True` to `False` in version 0.13. This change will follow the implementation proposed in the original paper. Set to `False` to silence this warning and adopt the future behaviour.\n",
      "  warn(\n",
      "C:\\Users\\faresmakki\\pythonProject\\Lib\\site-packages\\imblearn\\ensemble\\_forest.py:577: FutureWarning: The default of `sampling_strategy` will change from `'auto'` to `'all'` in version 0.13. This change will follow the implementation proposed in the original paper. Set to `'all'` to silence this warning and adopt the future behaviour.\n",
      "  warn(\n",
      "C:\\Users\\faresmakki\\pythonProject\\Lib\\site-packages\\imblearn\\ensemble\\_forest.py:589: FutureWarning: The default of `replacement` will change from `False` to `True` in version 0.13. This change will follow the implementation proposed in the original paper. Set to `True` to silence this warning and adopt the future behaviour.\n",
      "  warn(\n",
      "C:\\Users\\faresmakki\\pythonProject\\Lib\\site-packages\\imblearn\\ensemble\\_forest.py:601: FutureWarning: The default of `bootstrap` will change from `True` to `False` in version 0.13. This change will follow the implementation proposed in the original paper. Set to `False` to silence this warning and adopt the future behaviour.\n",
      "  warn(\n",
      "C:\\Users\\faresmakki\\pythonProject\\Lib\\site-packages\\imblearn\\ensemble\\_forest.py:577: FutureWarning: The default of `sampling_strategy` will change from `'auto'` to `'all'` in version 0.13. This change will follow the implementation proposed in the original paper. Set to `'all'` to silence this warning and adopt the future behaviour.\n",
      "  warn(\n",
      "C:\\Users\\faresmakki\\pythonProject\\Lib\\site-packages\\imblearn\\ensemble\\_forest.py:589: FutureWarning: The default of `replacement` will change from `False` to `True` in version 0.13. This change will follow the implementation proposed in the original paper. Set to `True` to silence this warning and adopt the future behaviour.\n",
      "  warn(\n",
      "C:\\Users\\faresmakki\\pythonProject\\Lib\\site-packages\\imblearn\\ensemble\\_forest.py:601: FutureWarning: The default of `bootstrap` will change from `True` to `False` in version 0.13. This change will follow the implementation proposed in the original paper. Set to `False` to silence this warning and adopt the future behaviour.\n",
      "  warn(\n",
      "C:\\Users\\faresmakki\\pythonProject\\Lib\\site-packages\\imblearn\\ensemble\\_forest.py:577: FutureWarning: The default of `sampling_strategy` will change from `'auto'` to `'all'` in version 0.13. This change will follow the implementation proposed in the original paper. Set to `'all'` to silence this warning and adopt the future behaviour.\n",
      "  warn(\n",
      "C:\\Users\\faresmakki\\pythonProject\\Lib\\site-packages\\imblearn\\ensemble\\_forest.py:589: FutureWarning: The default of `replacement` will change from `False` to `True` in version 0.13. This change will follow the implementation proposed in the original paper. Set to `True` to silence this warning and adopt the future behaviour.\n",
      "  warn(\n",
      "C:\\Users\\faresmakki\\pythonProject\\Lib\\site-packages\\imblearn\\ensemble\\_forest.py:601: FutureWarning: The default of `bootstrap` will change from `True` to `False` in version 0.13. This change will follow the implementation proposed in the original paper. Set to `False` to silence this warning and adopt the future behaviour.\n",
      "  warn(\n",
      "C:\\Users\\faresmakki\\pythonProject\\Lib\\site-packages\\imblearn\\ensemble\\_forest.py:577: FutureWarning: The default of `sampling_strategy` will change from `'auto'` to `'all'` in version 0.13. This change will follow the implementation proposed in the original paper. Set to `'all'` to silence this warning and adopt the future behaviour.\n",
      "  warn(\n",
      "C:\\Users\\faresmakki\\pythonProject\\Lib\\site-packages\\imblearn\\ensemble\\_forest.py:589: FutureWarning: The default of `replacement` will change from `False` to `True` in version 0.13. This change will follow the implementation proposed in the original paper. Set to `True` to silence this warning and adopt the future behaviour.\n",
      "  warn(\n",
      "C:\\Users\\faresmakki\\pythonProject\\Lib\\site-packages\\imblearn\\ensemble\\_forest.py:601: FutureWarning: The default of `bootstrap` will change from `True` to `False` in version 0.13. This change will follow the implementation proposed in the original paper. Set to `False` to silence this warning and adopt the future behaviour.\n",
      "  warn(\n",
      "C:\\Users\\faresmakki\\pythonProject\\Lib\\site-packages\\imblearn\\ensemble\\_forest.py:577: FutureWarning: The default of `sampling_strategy` will change from `'auto'` to `'all'` in version 0.13. This change will follow the implementation proposed in the original paper. Set to `'all'` to silence this warning and adopt the future behaviour.\n",
      "  warn(\n",
      "C:\\Users\\faresmakki\\pythonProject\\Lib\\site-packages\\imblearn\\ensemble\\_forest.py:589: FutureWarning: The default of `replacement` will change from `False` to `True` in version 0.13. This change will follow the implementation proposed in the original paper. Set to `True` to silence this warning and adopt the future behaviour.\n",
      "  warn(\n",
      "C:\\Users\\faresmakki\\pythonProject\\Lib\\site-packages\\imblearn\\ensemble\\_forest.py:601: FutureWarning: The default of `bootstrap` will change from `True` to `False` in version 0.13. This change will follow the implementation proposed in the original paper. Set to `False` to silence this warning and adopt the future behaviour.\n",
      "  warn(\n"
     ]
    },
    {
     "name": "stdout",
     "output_type": "stream",
     "text": [
      "Logistic Regression with Oversampling - Average Recall across folds: 0.5495496207332491\n",
      "Logistic Regression with Oversampling - Average Accuracy across folds: 0.6979879275653923\n",
      "Logistic Regression with Oversampling - Average Precision across folds: 0.38272812910516857\n",
      "Logistic Regression with Oversampling - Average F1 Score across folds: 0.4505088009191926\n",
      "Balanced Random Forest Classifier with Oversampling - Average Recall across folds: 0.33900916561314787\n",
      "Balanced Random Forest Classifier with Oversampling - Average Accuracy across folds: 0.7321931589537224\n",
      "Balanced Random Forest Classifier with Oversampling - Average Precision across folds: 0.39548597216652714\n",
      "Balanced Random Forest Classifier with Oversampling - Average F1 Score across folds: 0.36387930311152356\n",
      "SVM with Oversampling - Average Recall across folds: 0.46570006321112506\n",
      "SVM with Oversampling - Average Accuracy across folds: 0.7175050301810865\n",
      "SVM with Oversampling - Average Precision across folds: 0.3927759210620224\n",
      "SVM with Oversampling - Average F1 Score across folds: 0.42581731937614736\n",
      "Logistic Regression with Oversampling Test - Average Recall across folds: 0.5452755905511811\n",
      "Logistic Regression with Oversampling Test - Average Accuracy across folds: 0.7054621848739495\n",
      "Logistic Regression with Oversampling Test - Average Precision across folds: 0.40937599331179675\n",
      "Logistic Regression with Oversampling Test - Average F1 Score across folds: 0.4675430711545842\n",
      "Balanced Random Forest Classifier with Oversampling Test - Average Recall across folds: 0.3025590551181102\n",
      "Balanced Random Forest Classifier with Oversampling Test - Average Accuracy across folds: 0.7361811391223156\n",
      "Balanced Random Forest Classifier with Oversampling Test - Average Precision across folds: 0.4216882330136813\n",
      "Balanced Random Forest Classifier with Oversampling Test - Average F1 Score across folds: 0.3522713969608691\n",
      "SVM with Oversampling Test - Average Recall across folds: 0.37893700787401585\n",
      "SVM with Oversampling Test - Average Accuracy across folds: 0.7430438842203548\n",
      "SVM with Oversampling Test - Average Precision across folds: 0.4509572634308091\n",
      "SVM with Oversampling Test - Average F1 Score across folds: 0.41153845641123865\n"
     ]
    }
   ],
   "source": [
    "#Duplication\n",
    "from imblearn.over_sampling import RandomOverSampler\n",
    "from sklearn.model_selection import StratifiedKFold\n",
    "from sklearn.metrics import precision_score, recall_score, accuracy_score, f1_score\n",
    "from sklearn.linear_model import LogisticRegression\n",
    "from sklearn.ensemble import RandomForestClassifier\n",
    "from imblearn.ensemble import BalancedRandomForestClassifier\n",
    "from sklearn.svm import SVC\n",
    "\n",
    "\n",
    "X_reduced = X_reduced.to_numpy() if hasattr(X_reduced, 'to_numpy') else X_reduced\n",
    "y_encoded = y_encoded.to_numpy() if hasattr(y_encoded, 'to_numpy') else y_encoded\n",
    "#----------------------------------------------------\n",
    "X_test_reduced = X_test_reduced.to_numpy() if hasattr(X_test_reduced, 'to_numpy') else X_test_reduced\n",
    "y_test_encoded = y_test_encoded.to_numpy() if hasattr(y_test_encoded, 'to_numpy') else y_test_encoded\n",
    "n_splits = 10\n",
    "kf = StratifiedKFold(n_splits=n_splits, shuffle=True, random_state=42)\n",
    "\n",
    "lr_metrics = {'recall': [], 'accuracy': [], 'precision': [], 'f1': []}\n",
    "brf_metrics = {'recall': [], 'accuracy': [], 'precision': [], 'f1': []}\n",
    "svm_metrics = {'recall': [], 'accuracy': [], 'precision': [], 'f1': []}\n",
    "#----------------------------------------------------\n",
    "lr_metrics_test = {'recall': [], 'accuracy': [], 'precision': [], 'f1': []}\n",
    "brf_metrics_test = {'recall': [], 'accuracy': [], 'precision': [], 'f1': []}\n",
    "svm_metrics_test = {'recall': [], 'accuracy': [], 'precision': [], 'f1': []}\n",
    "\n",
    "oversampler = RandomOverSampler(sampling_strategy='auto', random_state=42)\n",
    "\n",
    "for train_index, valid_index in kf.split(X_reduced, y_encoded):\n",
    "    \n",
    "    X_train, X_valid = X_reduced[train_index], X_reduced[valid_index]\n",
    "    y_train, y_valid = y_encoded[train_index], y_encoded[valid_index]\n",
    "\n",
    "\n",
    "    X_train_resampled, y_train_resampled = oversampler.fit_resample(X_train, y_train)\n",
    "\n",
    "\n",
    "    lr_model = LogisticRegression(random_state=42, class_weight='balanced', max_iter=20000)\n",
    "    lr_model.fit(X_train_resampled, y_train_resampled)\n",
    "    lr_pred = lr_model.predict(X_valid)\n",
    "    #----------------------------------------------------\n",
    "    lr_pred_test = lr_model.predict(X_test_reduced)\n",
    "    \n",
    "    lr_metrics['recall'].append(recall_score(y_valid, lr_pred, pos_label=1))\n",
    "    lr_metrics['accuracy'].append(accuracy_score(y_valid, lr_pred))\n",
    "    lr_metrics['precision'].append(precision_score(y_valid, lr_pred, pos_label=1))\n",
    "    lr_metrics['f1'].append(f1_score(y_valid, lr_pred, pos_label=1))\n",
    "    #----------------------------------------------------\n",
    "    lr_metrics_test['recall'].append(recall_score(y_test_encoded, lr_pred_test, pos_label=1))\n",
    "    lr_metrics_test['accuracy'].append(accuracy_score(y_test_encoded, lr_pred_test))\n",
    "    lr_metrics_test['precision'].append(precision_score(y_test_encoded, lr_pred_test, pos_label=1))\n",
    "    lr_metrics_test['f1'].append(f1_score(y_test_encoded, lr_pred_test, pos_label=1))\n",
    "\n",
    "\n",
    "    brf_model = BalancedRandomForestClassifier(random_state=42)\n",
    "    brf_model.fit(X_train_resampled, y_train_resampled)\n",
    "    brf_pred = brf_model.predict(X_valid)\n",
    "    #----------------------------------------------------\n",
    "    brf_pred_test = brf_model.predict(X_test_reduced)\n",
    "    \n",
    "    brf_metrics['recall'].append(recall_score(y_valid, brf_pred, pos_label=1))\n",
    "    brf_metrics['accuracy'].append(accuracy_score(y_valid, brf_pred))\n",
    "    brf_metrics['precision'].append(precision_score(y_valid, brf_pred, pos_label=1))\n",
    "    brf_metrics['f1'].append(f1_score(y_valid, brf_pred, pos_label=1))\n",
    "    #----------------------------------------------------\n",
    "    brf_metrics_test['recall'].append(recall_score(y_test_encoded, brf_pred_test, pos_label=1))\n",
    "    brf_metrics_test['accuracy'].append(accuracy_score(y_test_encoded, brf_pred_test))\n",
    "    brf_metrics_test['precision'].append(precision_score(y_test_encoded, brf_pred_test, pos_label=1))\n",
    "    brf_metrics_test['f1'].append(f1_score(y_test_encoded, brf_pred_test, pos_label=1))\n",
    "\n",
    "    svm_model = SVC(class_weight='balanced', kernel=\"rbf\", max_iter=20000)\n",
    "    svm_model.fit(X_train_resampled, y_train_resampled)\n",
    "    svm_pred = svm_model.predict(X_valid)\n",
    "    #----------------------------------------------------\n",
    "    svm_pred_test = svm_model.predict(X_test_reduced)\n",
    "    \n",
    "    svm_metrics['recall'].append(recall_score(y_valid, svm_pred, pos_label=1))\n",
    "    svm_metrics['accuracy'].append(accuracy_score(y_valid, svm_pred))\n",
    "    svm_metrics['precision'].append(precision_score(y_valid, svm_pred, pos_label=1))\n",
    "    svm_metrics['f1'].append(f1_score(y_valid, svm_pred, pos_label=1))\n",
    "    #----------------------------------------------------\n",
    "    svm_metrics_test['recall'].append(recall_score(y_test_encoded, svm_pred_test, pos_label=1))\n",
    "    svm_metrics_test['accuracy'].append(accuracy_score(y_test_encoded, svm_pred_test))\n",
    "    svm_metrics_test['precision'].append(precision_score(y_test_encoded, svm_pred_test, pos_label=1))\n",
    "    svm_metrics_test['f1'].append(f1_score(y_test_encoded, svm_pred_test, pos_label=1))\n",
    "\n",
    "def print_avg_metrics(model_name, metrics):\n",
    "    print(f\"{model_name} - Average Recall across folds:\", sum(metrics['recall']) / n_splits)\n",
    "    print(f\"{model_name} - Average Accuracy across folds:\", sum(metrics['accuracy']) / n_splits)\n",
    "    print(f\"{model_name} - Average Precision across folds:\", sum(metrics['precision']) / n_splits)\n",
    "    print(f\"{model_name} - Average F1 Score across folds:\", sum(metrics['f1']) / n_splits)\n",
    "#----------------------------------------------------\n",
    "    \n",
    "print_avg_metrics(\"Logistic Regression with Oversampling\", lr_metrics)\n",
    "print_avg_metrics(\"Balanced Random Forest Classifier with Oversampling\", brf_metrics)\n",
    "print_avg_metrics(\"SVM with Oversampling\", svm_metrics)\n",
    "#----------------------------------------------------\n",
    "print_avg_metrics(\"Logistic Regression with Oversampling Test\", lr_metrics_test)\n",
    "print_avg_metrics(\"Balanced Random Forest Classifier with Oversampling Test\", brf_metrics_test)\n",
    "print_avg_metrics(\"SVM with Oversampling Test\", svm_metrics_test)\n"
   ],
   "metadata": {
    "collapsed": false,
    "ExecuteTime": {
     "end_time": "2024-11-24T00:26:18.228306300Z",
     "start_time": "2024-11-24T00:25:45.394646800Z"
    }
   },
   "id": "3e30a7de17a893bc"
  },
  {
   "cell_type": "code",
   "execution_count": null,
   "outputs": [],
   "source": [
    "#Generation\n",
    "from imblearn.over_sampling import SMOTE\n",
    "from sklearn.model_selection import StratifiedKFold\n",
    "from sklearn.metrics import precision_score, recall_score, accuracy_score, f1_score\n",
    "from sklearn.linear_model import LogisticRegression\n",
    "from sklearn.ensemble import RandomForestClassifier\n",
    "from imblearn.ensemble import BalancedRandomForestClassifier\n",
    "from sklearn.svm import SVC\n",
    "\n",
    "n_splits = 10\n",
    "kf = StratifiedKFold(n_splits=n_splits, shuffle=True, random_state=42)\n",
    "\n",
    "lr_metrics = {'recall': [], 'accuracy': [], 'precision': [], 'f1': []}\n",
    "brf_metrics = {'recall': [], 'accuracy': [], 'precision': [], 'f1': []}\n",
    "svm_metrics = {'recall': [], 'accuracy': [], 'precision': [], 'f1': []}\n",
    "#----------------------------------------------------\n",
    "lr_metrics_test = {'recall': [], 'accuracy': [], 'precision': [], 'f1': []}\n",
    "brf_metrics_test = {'recall': [], 'accuracy': [], 'precision': [], 'f1': []}\n",
    "svm_metrics_test = {'recall': [], 'accuracy': [], 'precision': [], 'f1': []}\n",
    "smote = SMOTE(sampling_strategy='auto', random_state=42)\n",
    "\n",
    "for train_index, valid_index in kf.split(X_reduced, y_encoded):\n",
    "    X_train, X_valid = X_reduced[train_index], X_reduced[valid_index]\n",
    "    y_train, y_valid = y_encoded[train_index], y_encoded[valid_index]\n",
    "\n",
    "    X_train_resampled, y_train_resampled = smote.fit_resample(X_train, y_train)\n",
    "    \n",
    "    lr_model = LogisticRegression(random_state=42, class_weight='balanced', max_iter=20000)\n",
    "    lr_model.fit(X_train_resampled, y_train_resampled)\n",
    "    lr_pred = lr_model.predict(X_valid)\n",
    "    #----------------------------------------------------\n",
    "    lr_pred_test = lr_model.predict(X_test_reduced)\n",
    "    \n",
    "    lr_metrics['recall'].append(recall_score(y_valid, lr_pred, pos_label=1))\n",
    "    lr_metrics['accuracy'].append(accuracy_score(y_valid, lr_pred))\n",
    "    lr_metrics['precision'].append(precision_score(y_valid, lr_pred, pos_label=1))\n",
    "    lr_metrics['f1'].append(f1_score(y_valid, lr_pred, pos_label=1))\n",
    "    #----------------------------------------------------\n",
    "    lr_metrics_test['recall'].append(recall_score(y_test_encoded, lr_pred_test, pos_label=1))\n",
    "    lr_metrics_test['accuracy'].append(accuracy_score(y_test_encoded, lr_pred_test))\n",
    "    lr_metrics_test['precision'].append(precision_score(y_test_encoded, lr_pred_test, pos_label=1))\n",
    "    lr_metrics_test['f1'].append(f1_score(y_test_encoded, lr_pred_test, pos_label=1))\n",
    "    brf_model = BalancedRandomForestClassifier(random_state=42)\n",
    "    brf_model.fit(X_train_resampled, y_train_resampled)\n",
    "    brf_pred = brf_model.predict(X_valid)\n",
    "    #----------------------------------------------------\n",
    "    brf_pred_test = brf_model.predict(X_test_reduced)\n",
    "    \n",
    "    brf_metrics['recall'].append(recall_score(y_valid, brf_pred, pos_label=1))\n",
    "    brf_metrics['accuracy'].append(accuracy_score(y_valid, brf_pred))\n",
    "    brf_metrics['precision'].append(precision_score(y_valid, brf_pred, pos_label=1))\n",
    "    brf_metrics['f1'].append(f1_score(y_valid, brf_pred, pos_label=1))\n",
    "#----------------------------------------------------\n",
    "    brf_metrics_test['recall'].append(recall_score(y_test_encoded, brf_pred_test, pos_label=1))\n",
    "    brf_metrics_test['accuracy'].append(accuracy_score(y_test_encoded, brf_pred_test))\n",
    "    brf_metrics_test['precision'].append(precision_score(y_test_encoded, brf_pred_test, pos_label=1))\n",
    "    brf_metrics_test['f1'].append(f1_score(y_test_encoded, brf_pred_test, pos_label=1))\n",
    "    svm_model = SVC(class_weight='balanced', kernel=\"rbf\", max_iter=20000)\n",
    "    svm_model.fit(X_train_resampled, y_train_resampled)\n",
    "    svm_pred = svm_model.predict(X_valid)\n",
    "    #----------------------------------------------------\n",
    "    svm_pred_test = svm_model.predict(X_test_reduced)\n",
    "    \n",
    "    \n",
    "    svm_metrics['recall'].append(recall_score(y_valid, svm_pred, pos_label=1))\n",
    "    svm_metrics['accuracy'].append(accuracy_score(y_valid, svm_pred))\n",
    "    svm_metrics['precision'].append(precision_score(y_valid, svm_pred, pos_label=1))\n",
    "    svm_metrics['f1'].append(f1_score(y_valid, svm_pred, pos_label=1))\n",
    "    #----------------------------------------------------\n",
    "    svm_metrics_test['recall'].append(recall_score(y_test_encoded, svm_pred_test, pos_label=1))\n",
    "    svm_metrics_test['accuracy'].append(accuracy_score(y_test_encoded, svm_pred_test))\n",
    "    svm_metrics_test['precision'].append(precision_score(y_test_encoded, svm_pred_test, pos_label=1))\n",
    "    svm_metrics_test['f1'].append(f1_score(y_test_encoded, svm_pred_test, pos_label=1))\n",
    "\n",
    "def print_avg_metrics(model_name, metrics):\n",
    "    print(f\"{model_name} - Average Recall across folds:\", sum(metrics['recall']) / n_splits)\n",
    "    print(f\"{model_name} - Average Accuracy across folds:\", sum(metrics['accuracy']) / n_splits)\n",
    "    print(f\"{model_name} - Average Precision across folds:\", sum(metrics['precision']) / n_splits)\n",
    "    print(f\"{model_name} - Average F1 Score across folds:\", sum(metrics['f1']) / n_splits)\n",
    "\n",
    "print_avg_metrics(\"Logistic Regression with SMOTE\", lr_metrics)\n",
    "print_avg_metrics(\"Balanced Random Forest Classifier with SMOTE\", brf_metrics)\n",
    "print_avg_metrics(\"SVM with SMOTE\", svm_metrics)\n",
    "#----------------------------------------------------\n",
    "print_avg_metrics(\"Logistic Regression with SMOTE Test\", lr_metrics_test)\n",
    "print_avg_metrics(\"Balanced Random Forest Classifier with SMOTE Test\", brf_metrics_test)\n",
    "print_avg_metrics(\"SVM with SMOTE Test\", svm_metrics_test)"
   ],
   "metadata": {
    "collapsed": false
   },
   "id": "c59fb46377b05bcb"
  },
  {
   "cell_type": "markdown",
   "source": [
    "# under simpling"
   ],
   "metadata": {
    "collapsed": false
   },
   "id": "7c52a09f7c020a95"
  },
  {
   "cell_type": "code",
   "execution_count": 276,
   "outputs": [
    {
     "name": "stderr",
     "output_type": "stream",
     "text": [
      "C:\\Users\\faresmakki\\pythonProject\\Lib\\site-packages\\imblearn\\ensemble\\_forest.py:577: FutureWarning: The default of `sampling_strategy` will change from `'auto'` to `'all'` in version 0.13. This change will follow the implementation proposed in the original paper. Set to `'all'` to silence this warning and adopt the future behaviour.\n",
      "  warn(\n",
      "C:\\Users\\faresmakki\\pythonProject\\Lib\\site-packages\\imblearn\\ensemble\\_forest.py:589: FutureWarning: The default of `replacement` will change from `False` to `True` in version 0.13. This change will follow the implementation proposed in the original paper. Set to `True` to silence this warning and adopt the future behaviour.\n",
      "  warn(\n",
      "C:\\Users\\faresmakki\\pythonProject\\Lib\\site-packages\\imblearn\\ensemble\\_forest.py:601: FutureWarning: The default of `bootstrap` will change from `True` to `False` in version 0.13. This change will follow the implementation proposed in the original paper. Set to `False` to silence this warning and adopt the future behaviour.\n",
      "  warn(\n",
      "C:\\Users\\faresmakki\\pythonProject\\Lib\\site-packages\\imblearn\\ensemble\\_forest.py:577: FutureWarning: The default of `sampling_strategy` will change from `'auto'` to `'all'` in version 0.13. This change will follow the implementation proposed in the original paper. Set to `'all'` to silence this warning and adopt the future behaviour.\n",
      "  warn(\n",
      "C:\\Users\\faresmakki\\pythonProject\\Lib\\site-packages\\imblearn\\ensemble\\_forest.py:589: FutureWarning: The default of `replacement` will change from `False` to `True` in version 0.13. This change will follow the implementation proposed in the original paper. Set to `True` to silence this warning and adopt the future behaviour.\n",
      "  warn(\n",
      "C:\\Users\\faresmakki\\pythonProject\\Lib\\site-packages\\imblearn\\ensemble\\_forest.py:601: FutureWarning: The default of `bootstrap` will change from `True` to `False` in version 0.13. This change will follow the implementation proposed in the original paper. Set to `False` to silence this warning and adopt the future behaviour.\n",
      "  warn(\n",
      "C:\\Users\\faresmakki\\pythonProject\\Lib\\site-packages\\imblearn\\ensemble\\_forest.py:577: FutureWarning: The default of `sampling_strategy` will change from `'auto'` to `'all'` in version 0.13. This change will follow the implementation proposed in the original paper. Set to `'all'` to silence this warning and adopt the future behaviour.\n",
      "  warn(\n",
      "C:\\Users\\faresmakki\\pythonProject\\Lib\\site-packages\\imblearn\\ensemble\\_forest.py:589: FutureWarning: The default of `replacement` will change from `False` to `True` in version 0.13. This change will follow the implementation proposed in the original paper. Set to `True` to silence this warning and adopt the future behaviour.\n",
      "  warn(\n",
      "C:\\Users\\faresmakki\\pythonProject\\Lib\\site-packages\\imblearn\\ensemble\\_forest.py:601: FutureWarning: The default of `bootstrap` will change from `True` to `False` in version 0.13. This change will follow the implementation proposed in the original paper. Set to `False` to silence this warning and adopt the future behaviour.\n",
      "  warn(\n",
      "C:\\Users\\faresmakki\\pythonProject\\Lib\\site-packages\\imblearn\\ensemble\\_forest.py:577: FutureWarning: The default of `sampling_strategy` will change from `'auto'` to `'all'` in version 0.13. This change will follow the implementation proposed in the original paper. Set to `'all'` to silence this warning and adopt the future behaviour.\n",
      "  warn(\n",
      "C:\\Users\\faresmakki\\pythonProject\\Lib\\site-packages\\imblearn\\ensemble\\_forest.py:589: FutureWarning: The default of `replacement` will change from `False` to `True` in version 0.13. This change will follow the implementation proposed in the original paper. Set to `True` to silence this warning and adopt the future behaviour.\n",
      "  warn(\n",
      "C:\\Users\\faresmakki\\pythonProject\\Lib\\site-packages\\imblearn\\ensemble\\_forest.py:601: FutureWarning: The default of `bootstrap` will change from `True` to `False` in version 0.13. This change will follow the implementation proposed in the original paper. Set to `False` to silence this warning and adopt the future behaviour.\n",
      "  warn(\n",
      "C:\\Users\\faresmakki\\pythonProject\\Lib\\site-packages\\imblearn\\ensemble\\_forest.py:577: FutureWarning: The default of `sampling_strategy` will change from `'auto'` to `'all'` in version 0.13. This change will follow the implementation proposed in the original paper. Set to `'all'` to silence this warning and adopt the future behaviour.\n",
      "  warn(\n",
      "C:\\Users\\faresmakki\\pythonProject\\Lib\\site-packages\\imblearn\\ensemble\\_forest.py:589: FutureWarning: The default of `replacement` will change from `False` to `True` in version 0.13. This change will follow the implementation proposed in the original paper. Set to `True` to silence this warning and adopt the future behaviour.\n",
      "  warn(\n",
      "C:\\Users\\faresmakki\\pythonProject\\Lib\\site-packages\\imblearn\\ensemble\\_forest.py:601: FutureWarning: The default of `bootstrap` will change from `True` to `False` in version 0.13. This change will follow the implementation proposed in the original paper. Set to `False` to silence this warning and adopt the future behaviour.\n",
      "  warn(\n",
      "C:\\Users\\faresmakki\\pythonProject\\Lib\\site-packages\\imblearn\\ensemble\\_forest.py:577: FutureWarning: The default of `sampling_strategy` will change from `'auto'` to `'all'` in version 0.13. This change will follow the implementation proposed in the original paper. Set to `'all'` to silence this warning and adopt the future behaviour.\n",
      "  warn(\n",
      "C:\\Users\\faresmakki\\pythonProject\\Lib\\site-packages\\imblearn\\ensemble\\_forest.py:589: FutureWarning: The default of `replacement` will change from `False` to `True` in version 0.13. This change will follow the implementation proposed in the original paper. Set to `True` to silence this warning and adopt the future behaviour.\n",
      "  warn(\n",
      "C:\\Users\\faresmakki\\pythonProject\\Lib\\site-packages\\imblearn\\ensemble\\_forest.py:601: FutureWarning: The default of `bootstrap` will change from `True` to `False` in version 0.13. This change will follow the implementation proposed in the original paper. Set to `False` to silence this warning and adopt the future behaviour.\n",
      "  warn(\n",
      "C:\\Users\\faresmakki\\pythonProject\\Lib\\site-packages\\imblearn\\ensemble\\_forest.py:577: FutureWarning: The default of `sampling_strategy` will change from `'auto'` to `'all'` in version 0.13. This change will follow the implementation proposed in the original paper. Set to `'all'` to silence this warning and adopt the future behaviour.\n",
      "  warn(\n",
      "C:\\Users\\faresmakki\\pythonProject\\Lib\\site-packages\\imblearn\\ensemble\\_forest.py:589: FutureWarning: The default of `replacement` will change from `False` to `True` in version 0.13. This change will follow the implementation proposed in the original paper. Set to `True` to silence this warning and adopt the future behaviour.\n",
      "  warn(\n",
      "C:\\Users\\faresmakki\\pythonProject\\Lib\\site-packages\\imblearn\\ensemble\\_forest.py:601: FutureWarning: The default of `bootstrap` will change from `True` to `False` in version 0.13. This change will follow the implementation proposed in the original paper. Set to `False` to silence this warning and adopt the future behaviour.\n",
      "  warn(\n",
      "C:\\Users\\faresmakki\\pythonProject\\Lib\\site-packages\\imblearn\\ensemble\\_forest.py:577: FutureWarning: The default of `sampling_strategy` will change from `'auto'` to `'all'` in version 0.13. This change will follow the implementation proposed in the original paper. Set to `'all'` to silence this warning and adopt the future behaviour.\n",
      "  warn(\n",
      "C:\\Users\\faresmakki\\pythonProject\\Lib\\site-packages\\imblearn\\ensemble\\_forest.py:589: FutureWarning: The default of `replacement` will change from `False` to `True` in version 0.13. This change will follow the implementation proposed in the original paper. Set to `True` to silence this warning and adopt the future behaviour.\n",
      "  warn(\n",
      "C:\\Users\\faresmakki\\pythonProject\\Lib\\site-packages\\imblearn\\ensemble\\_forest.py:601: FutureWarning: The default of `bootstrap` will change from `True` to `False` in version 0.13. This change will follow the implementation proposed in the original paper. Set to `False` to silence this warning and adopt the future behaviour.\n",
      "  warn(\n",
      "C:\\Users\\faresmakki\\pythonProject\\Lib\\site-packages\\imblearn\\ensemble\\_forest.py:577: FutureWarning: The default of `sampling_strategy` will change from `'auto'` to `'all'` in version 0.13. This change will follow the implementation proposed in the original paper. Set to `'all'` to silence this warning and adopt the future behaviour.\n",
      "  warn(\n",
      "C:\\Users\\faresmakki\\pythonProject\\Lib\\site-packages\\imblearn\\ensemble\\_forest.py:589: FutureWarning: The default of `replacement` will change from `False` to `True` in version 0.13. This change will follow the implementation proposed in the original paper. Set to `True` to silence this warning and adopt the future behaviour.\n",
      "  warn(\n",
      "C:\\Users\\faresmakki\\pythonProject\\Lib\\site-packages\\imblearn\\ensemble\\_forest.py:601: FutureWarning: The default of `bootstrap` will change from `True` to `False` in version 0.13. This change will follow the implementation proposed in the original paper. Set to `False` to silence this warning and adopt the future behaviour.\n",
      "  warn(\n",
      "C:\\Users\\faresmakki\\pythonProject\\Lib\\site-packages\\imblearn\\ensemble\\_forest.py:577: FutureWarning: The default of `sampling_strategy` will change from `'auto'` to `'all'` in version 0.13. This change will follow the implementation proposed in the original paper. Set to `'all'` to silence this warning and adopt the future behaviour.\n",
      "  warn(\n",
      "C:\\Users\\faresmakki\\pythonProject\\Lib\\site-packages\\imblearn\\ensemble\\_forest.py:589: FutureWarning: The default of `replacement` will change from `False` to `True` in version 0.13. This change will follow the implementation proposed in the original paper. Set to `True` to silence this warning and adopt the future behaviour.\n",
      "  warn(\n",
      "C:\\Users\\faresmakki\\pythonProject\\Lib\\site-packages\\imblearn\\ensemble\\_forest.py:601: FutureWarning: The default of `bootstrap` will change from `True` to `False` in version 0.13. This change will follow the implementation proposed in the original paper. Set to `False` to silence this warning and adopt the future behaviour.\n",
      "  warn(\n"
     ]
    },
    {
     "name": "stdout",
     "output_type": "stream",
     "text": [
      "Logistic Regression with Undersampling - Average Recall across folds: 0.5638353350189634\n",
      "Logistic Regression with Undersampling - Average Accuracy across folds: 0.6981891348088531\n",
      "Logistic Regression with Undersampling - Average Precision across folds: 0.38480382227217996\n",
      "Logistic Regression with Undersampling - Average F1 Score across folds: 0.45694365844371776\n",
      "Balanced Random Forest Classifier with Undersampling - Average Recall across folds: 0.6012642225031606\n",
      "Balanced Random Forest Classifier with Undersampling - Average Accuracy across folds: 0.6189134808853118\n",
      "Balanced Random Forest Classifier with Undersampling - Average Precision across folds: 0.3182674687665621\n",
      "Balanced Random Forest Classifier with Undersampling - Average F1 Score across folds: 0.41598855489022857\n",
      "SVM with Undersampling - Average Recall across folds: 0.43002528445006327\n",
      "SVM with Undersampling - Average Accuracy across folds: 0.7090543259557344\n",
      "SVM with Undersampling - Average Precision across folds: 0.3738935721193874\n",
      "SVM with Undersampling - Average F1 Score across folds: 0.398766668663329\n",
      "Logistic Regression with Undersampling Test - Average Recall across folds: 0.5596456692913386\n",
      "Logistic Regression with Undersampling Test - Average Accuracy across folds: 0.7003267973856209\n",
      "Logistic Regression with Undersampling Test - Average Precision across folds: 0.40489213985412986\n",
      "Logistic Regression with Undersampling Test - Average F1 Score across folds: 0.46971407859750086\n",
      "Balanced Random Forest Classifier with Undersampling Test - Average Recall across folds: 0.6049212598425197\n",
      "Balanced Random Forest Classifier with Undersampling Test - Average Accuracy across folds: 0.6452380952380953\n",
      "Balanced Random Forest Classifier with Undersampling Test - Average Precision across folds: 0.3548336798211026\n",
      "Balanced Random Forest Classifier with Undersampling Test - Average F1 Score across folds: 0.447201972690067\n",
      "SVM with Undersampling Test - Average Recall across folds: 0.3338582677165354\n",
      "SVM with Undersampling Test - Average Accuracy across folds: 0.7360877684407096\n",
      "SVM with Undersampling Test - Average Precision across folds: 0.42858298359548525\n",
      "SVM with Undersampling Test - Average F1 Score across folds: 0.37475442790504865\n"
     ]
    }
   ],
   "source": [
    "from imblearn.under_sampling import RandomUnderSampler\n",
    "from sklearn.model_selection import StratifiedKFold\n",
    "from sklearn.metrics import precision_score, recall_score, accuracy_score, f1_score\n",
    "from sklearn.linear_model import LogisticRegression\n",
    "from sklearn.ensemble import RandomForestClassifier\n",
    "from imblearn.ensemble import BalancedRandomForestClassifier\n",
    "from sklearn.svm import SVC\n",
    "\n",
    "\n",
    "n_splits = 10\n",
    "kf = StratifiedKFold(n_splits=n_splits, shuffle=True, random_state=42)\n",
    "\n",
    "# Define metrics storage\n",
    "lr_metrics = {'recall': [], 'accuracy': [], 'precision': [], 'f1': []}\n",
    "brf_metrics = {'recall': [], 'accuracy': [], 'precision': [], 'f1': []}\n",
    "svm_metrics = {'recall': [], 'accuracy': [], 'precision': [], 'f1': []}\n",
    "#----------------------------------------------------\n",
    "lr_metrics_test = {'recall': [], 'accuracy': [], 'precision': [], 'f1': []}\n",
    "brf_metrics_test = {'recall': [], 'accuracy': [], 'precision': [], 'f1': []}\n",
    "svm_metrics_test = {'recall': [], 'accuracy': [], 'precision': [], 'f1': []}\n",
    "\n",
    "undersampler = RandomUnderSampler(sampling_strategy='auto', random_state=42)\n",
    "\n",
    "for train_index, valid_index in kf.split(X_reduced, y_encoded):\n",
    "\n",
    "    X_train, X_valid = X_reduced[train_index], X_reduced[valid_index]\n",
    "    y_train, y_valid = y_encoded[train_index], y_encoded[valid_index]\n",
    "\n",
    "\n",
    "    X_train_resampled, y_train_resampled = undersampler.fit_resample(X_train, y_train)\n",
    "\n",
    "\n",
    "    lr_model = LogisticRegression(random_state=42, class_weight='balanced', max_iter=20000)\n",
    "    lr_model.fit(X_train_resampled, y_train_resampled)\n",
    "    lr_pred = lr_model.predict(X_valid)\n",
    "    #----------------------------------------------------\n",
    "    lr_pred_test = lr_model.predict(X_test_reduced)\n",
    "    \n",
    "    lr_metrics['recall'].append(recall_score(y_valid, lr_pred, pos_label=1))\n",
    "    lr_metrics['accuracy'].append(accuracy_score(y_valid, lr_pred))\n",
    "    lr_metrics['precision'].append(precision_score(y_valid, lr_pred, pos_label=1))\n",
    "    lr_metrics['f1'].append(f1_score(y_valid, lr_pred, pos_label=1))\n",
    "    #----------------------------------------------------\n",
    "    lr_metrics_test['recall'].append(recall_score(y_test_encoded, lr_pred_test, pos_label=1))\n",
    "    lr_metrics_test['accuracy'].append(accuracy_score(y_test_encoded, lr_pred_test))\n",
    "    lr_metrics_test['precision'].append(precision_score(y_test_encoded, lr_pred_test, pos_label=1))\n",
    "    lr_metrics_test['f1'].append(f1_score(y_test_encoded, lr_pred_test, pos_label=1))\n",
    "    \n",
    "\n",
    "    brf_model = BalancedRandomForestClassifier(random_state=42)\n",
    "    brf_model.fit(X_train_resampled, y_train_resampled)\n",
    "    brf_pred = brf_model.predict(X_valid)\n",
    "    #----------------------------------------------------\n",
    "    brf_pred_test = brf_model.predict(X_test_reduced)\n",
    "    \n",
    "    \n",
    "    brf_metrics['recall'].append(recall_score(y_valid, brf_pred, pos_label=1))\n",
    "    brf_metrics['accuracy'].append(accuracy_score(y_valid, brf_pred))\n",
    "    brf_metrics['precision'].append(precision_score(y_valid, brf_pred, pos_label=1))\n",
    "    brf_metrics['f1'].append(f1_score(y_valid, brf_pred, pos_label=1))\n",
    "    #----------------------------------------------------\n",
    "    brf_metrics_test['recall'].append(recall_score(y_test_encoded, brf_pred_test, pos_label=1))\n",
    "    brf_metrics_test['accuracy'].append(accuracy_score(y_test_encoded, brf_pred_test))\n",
    "    brf_metrics_test['precision'].append(precision_score(y_test_encoded, brf_pred_test, pos_label=1))\n",
    "    brf_metrics_test['f1'].append(f1_score(y_test_encoded, brf_pred_test, pos_label=1))\n",
    "    \n",
    "\n",
    "    svm_model = SVC(class_weight='balanced', kernel=\"rbf\", max_iter=20000)\n",
    "    svm_model.fit(X_train_resampled, y_train_resampled)\n",
    "    svm_pred = svm_model.predict(X_valid)\n",
    "    #----------------------------------------------------\n",
    "    svm_pred_test = svm_model.predict(X_test_reduced)\n",
    "    \n",
    "    svm_metrics['recall'].append(recall_score(y_valid, svm_pred, pos_label=1))\n",
    "    svm_metrics['accuracy'].append(accuracy_score(y_valid, svm_pred))\n",
    "    svm_metrics['precision'].append(precision_score(y_valid, svm_pred, pos_label=1))\n",
    "    svm_metrics['f1'].append(f1_score(y_valid, svm_pred, pos_label=1))\n",
    "    #----------------------------------------------------\n",
    "    svm_metrics_test['recall'].append(recall_score(y_test_encoded, svm_pred_test, pos_label=1))\n",
    "    svm_metrics_test['accuracy'].append(accuracy_score(y_test_encoded, svm_pred_test))\n",
    "    svm_metrics_test['precision'].append(precision_score(y_test_encoded, svm_pred_test, pos_label=1))\n",
    "    svm_metrics_test['f1'].append(f1_score(y_test_encoded, svm_pred_test, pos_label=1))\n",
    "\n",
    "\n",
    "def print_avg_metrics(model_name, metrics):\n",
    "    print(f\"{model_name} - Average Recall across folds:\", sum(metrics['recall']) / n_splits)\n",
    "    print(f\"{model_name} - Average Accuracy across folds:\", sum(metrics['accuracy']) / n_splits)\n",
    "    print(f\"{model_name} - Average Precision across folds:\", sum(metrics['precision']) / n_splits)\n",
    "    print(f\"{model_name} - Average F1 Score across folds:\", sum(metrics['f1']) / n_splits)\n",
    "\n",
    "print_avg_metrics(\"Logistic Regression with Undersampling\", lr_metrics)\n",
    "print_avg_metrics(\"Balanced Random Forest Classifier with Undersampling\", brf_metrics)\n",
    "print_avg_metrics(\"SVM with Undersampling\", svm_metrics)\n",
    "#----------------------------------------------------\n",
    "print_avg_metrics(\"Logistic Regression with Undersampling Test\", lr_metrics_test)\n",
    "print_avg_metrics(\"Balanced Random Forest Classifier with Undersampling Test\", brf_metrics_test)\n",
    "print_avg_metrics(\"SVM with Undersampling Test\", svm_metrics_test)\n"
   ],
   "metadata": {
    "collapsed": false,
    "ExecuteTime": {
     "end_time": "2024-11-24T00:26:28.792381Z",
     "start_time": "2024-11-24T00:26:18.234315100Z"
    }
   },
   "id": "3a6cedc705fbfb9b"
  },
  {
   "cell_type": "code",
   "execution_count": 277,
   "outputs": [
    {
     "name": "stdout",
     "output_type": "stream",
     "text": [
      "Balanced Bagging Classifier with Logistic Regression - Average Recall across folds: 0.5602639064475348\n",
      "Balanced Bagging Classifier with Logistic Regression - Average Accuracy across folds: 0.7012072434607646\n",
      "Balanced Bagging Classifier with Logistic Regression - Average Precision across folds: 0.3883154672781258\n",
      "Balanced Bagging Classifier with Logistic Regression - Average F1 Score across folds: 0.45807073893621875\n",
      "Balanced Bagging Classifier with Random Forest - Average Recall across folds: 0.5825142225031605\n",
      "Balanced Bagging Classifier with Random Forest - Average Accuracy across folds: 0.6758551307847083\n",
      "Balanced Bagging Classifier with Random Forest - Average Precision across folds: 0.3642189485397561\n",
      "Balanced Bagging Classifier with Random Forest - Average F1 Score across folds: 0.44757273623748406\n",
      "Balanced Bagging Classifier with SVM - Average Recall across folds: 0.4139380530973451\n",
      "Balanced Bagging Classifier with SVM - Average Accuracy across folds: 0.7106639839034206\n",
      "Balanced Bagging Classifier with SVM - Average Precision across folds: 0.37271725321506727\n",
      "Balanced Bagging Classifier with SVM - Average F1 Score across folds: 0.3915353533891278\n",
      "Balanced Bagging Classifier with Logistic Regression Test - Average Recall across folds: 0.5482283464566928\n",
      "Balanced Bagging Classifier with Logistic Regression Test - Average Accuracy across folds: 0.7043884220354808\n",
      "Balanced Bagging Classifier with Logistic Regression Test - Average Precision across folds: 0.40832116576580313\n",
      "Balanced Bagging Classifier with Logistic Regression Test - Average F1 Score across folds: 0.46794093766881983\n",
      "Balanced Bagging Classifier with Random Forest Test - Average Recall across folds: 0.5677165354330709\n",
      "Balanced Bagging Classifier with Random Forest Test - Average Accuracy across folds: 0.688608776844071\n",
      "Balanced Bagging Classifier with Random Forest Test - Average Precision across folds: 0.3920476911468287\n",
      "Balanced Bagging Classifier with Random Forest Test - Average F1 Score across folds: 0.4637499309273735\n",
      "Balanced Bagging Classifier with SVM Test - Average Recall across folds: 0.3275590551181101\n",
      "Balanced Bagging Classifier with SVM Test - Average Accuracy across folds: 0.7362278244631186\n",
      "Balanced Bagging Classifier with SVM Test - Average Precision across folds: 0.4270839905170217\n",
      "Balanced Bagging Classifier with SVM Test - Average F1 Score across folds: 0.37065327031492357\n"
     ]
    }
   ],
   "source": [
    "from imblearn.ensemble import BalancedBaggingClassifier\n",
    "from sklearn.model_selection import StratifiedKFold\n",
    "from sklearn.metrics import precision_score, recall_score, accuracy_score, f1_score\n",
    "from sklearn.linear_model import LogisticRegression\n",
    "from sklearn.ensemble import RandomForestClassifier\n",
    "from sklearn.svm import SVC\n",
    "\n",
    "\n",
    "n_splits = 10\n",
    "kf = StratifiedKFold(n_splits=n_splits, shuffle=True, random_state=42)\n",
    "\n",
    "\n",
    "bbc_lr_metrics = {'recall': [], 'accuracy': [], 'precision': [], 'f1': []}\n",
    "bbc_rf_metrics = {'recall': [], 'accuracy': [], 'precision': [], 'f1': []}\n",
    "bbc_svm_metrics = {'recall': [], 'accuracy': [], 'precision': [], 'f1': []}\n",
    "#----------------------------------------------------\n",
    "bbc_lr_metrics_test = {'recall': [], 'accuracy': [], 'precision': [], 'f1': []}\n",
    "bbc_rf_metrics_test = {'recall': [], 'accuracy': [], 'precision': [], 'f1': []}\n",
    "bbc_svm_metrics_test = {'recall': [], 'accuracy': [], 'precision': [], 'f1': []}\n",
    "\n",
    "\n",
    "for train_index, valid_index in kf.split(X_reduced, y_encoded):\n",
    "\n",
    "    X_train, X_valid = X_reduced[train_index], X_reduced[valid_index]\n",
    "    y_train, y_valid = y_encoded[train_index], y_encoded[valid_index]\n",
    "\n",
    "\n",
    "    bbc_lr = BalancedBaggingClassifier(\n",
    "        estimator=LogisticRegression(max_iter=20000),\n",
    "        sampling_strategy='auto',\n",
    "        replacement=True,\n",
    "        random_state=42\n",
    "    )\n",
    "    bbc_lr.fit(X_train, y_train)\n",
    "    bbc_lr_pred = bbc_lr.predict(X_valid)\n",
    "#----------------------------------------------------\n",
    "    bbc_lr_pred_test = bbc_lr.predict(X_test_reduced)\n",
    "    \n",
    "    bbc_lr_metrics['recall'].append(recall_score(y_valid, bbc_lr_pred, pos_label=1))\n",
    "    bbc_lr_metrics['accuracy'].append(accuracy_score(y_valid, bbc_lr_pred))\n",
    "    bbc_lr_metrics['precision'].append(precision_score(y_valid, bbc_lr_pred, pos_label=1))\n",
    "    bbc_lr_metrics['f1'].append(f1_score(y_valid, bbc_lr_pred, pos_label=1))\n",
    "#----------------------------------------------------\n",
    "    bbc_lr_metrics_test['recall'].append(recall_score(y_test_encoded, bbc_lr_pred_test, pos_label=1))\n",
    "    bbc_lr_metrics_test['accuracy'].append(accuracy_score(y_test_encoded, bbc_lr_pred_test))\n",
    "    bbc_lr_metrics_test['precision'].append(precision_score(y_test_encoded, bbc_lr_pred_test, pos_label=1))\n",
    "    bbc_lr_metrics_test['f1'].append(f1_score(y_test_encoded, bbc_lr_pred_test, pos_label=1))\n",
    "    \n",
    "\n",
    "    bbc_rf = BalancedBaggingClassifier(\n",
    "        estimator=RandomForestClassifier(random_state=42),\n",
    "        sampling_strategy='auto',\n",
    "        replacement=True,\n",
    "        random_state=42\n",
    "    )\n",
    "    bbc_rf.fit(X_train, y_train)\n",
    "    bbc_rf_pred = bbc_rf.predict(X_valid)\n",
    "#----------------------------------------------------\n",
    "    bbc_rf_pred_test = bbc_rf.predict(X_test_reduced)\n",
    "\n",
    "    bbc_rf_metrics['recall'].append(recall_score(y_valid, bbc_rf_pred, pos_label=1))\n",
    "    bbc_rf_metrics['accuracy'].append(accuracy_score(y_valid, bbc_rf_pred))\n",
    "    bbc_rf_metrics['precision'].append(precision_score(y_valid, bbc_rf_pred, pos_label=1))\n",
    "    bbc_rf_metrics['f1'].append(f1_score(y_valid, bbc_rf_pred, pos_label=1))\n",
    "#----------------------------------------------------\n",
    "    bbc_rf_metrics_test['recall'].append(recall_score(y_test_encoded, bbc_rf_pred_test, pos_label=1))\n",
    "    bbc_rf_metrics_test['accuracy'].append(accuracy_score(y_test_encoded, bbc_rf_pred_test))\n",
    "    bbc_rf_metrics_test['precision'].append(precision_score(y_test_encoded, bbc_rf_pred_test, pos_label=1))\n",
    "    bbc_rf_metrics_test['f1'].append(f1_score(y_test_encoded, bbc_rf_pred_test, pos_label=1))\n",
    "    \n",
    "\n",
    "    bbc_svm = BalancedBaggingClassifier(\n",
    "        estimator=SVC(kernel=\"rbf\", max_iter=20000),\n",
    "        sampling_strategy='auto',\n",
    "        replacement=True,\n",
    "        random_state=42\n",
    "    )\n",
    "    bbc_svm.fit(X_train, y_train)\n",
    "    bbc_svm_pred = bbc_svm.predict(X_valid)\n",
    "#----------------------------------------------------\n",
    "    bbc_svm_pred_test = bbc_svm.predict(X_test_reduced)\n",
    "    \n",
    "\n",
    "    bbc_svm_metrics['recall'].append(recall_score(y_valid, bbc_svm_pred, pos_label=1))\n",
    "    bbc_svm_metrics['accuracy'].append(accuracy_score(y_valid, bbc_svm_pred))\n",
    "    bbc_svm_metrics['precision'].append(precision_score(y_valid, bbc_svm_pred, pos_label=1))\n",
    "    bbc_svm_metrics['f1'].append(f1_score(y_valid, bbc_svm_pred, pos_label=1))\n",
    "    #----------------------------------------------------\n",
    "    bbc_svm_metrics_test['recall'].append(recall_score(y_test_encoded, bbc_svm_pred_test, pos_label=1))\n",
    "    bbc_svm_metrics_test['accuracy'].append(accuracy_score(y_test_encoded, bbc_svm_pred_test))\n",
    "    bbc_svm_metrics_test['precision'].append(precision_score(y_test_encoded, bbc_svm_pred_test, pos_label=1))\n",
    "    bbc_svm_metrics_test['f1'].append(f1_score(y_test_encoded, bbc_svm_pred_test, pos_label=1))\n",
    "\n",
    "\n",
    "def print_avg_metrics(model_name, metrics):\n",
    "    print(f\"{model_name} - Average Recall across folds:\", sum(metrics['recall']) / n_splits)\n",
    "    print(f\"{model_name} - Average Accuracy across folds:\", sum(metrics['accuracy']) / n_splits)\n",
    "    print(f\"{model_name} - Average Precision across folds:\", sum(metrics['precision']) / n_splits)\n",
    "    print(f\"{model_name} - Average F1 Score across folds:\", sum(metrics['f1']) / n_splits)\n",
    "\n",
    "# Print average results\n",
    "print_avg_metrics(\"Balanced Bagging Classifier with Logistic Regression\", bbc_lr_metrics)\n",
    "print_avg_metrics(\"Balanced Bagging Classifier with Random Forest\", bbc_rf_metrics)\n",
    "print_avg_metrics(\"Balanced Bagging Classifier with SVM\", bbc_svm_metrics)\n",
    "#----------------------------------------------------\n",
    "print_avg_metrics(\"Balanced Bagging Classifier with Logistic Regression Test\", bbc_lr_metrics_test)\n",
    "print_avg_metrics(\"Balanced Bagging Classifier with Random Forest Test\", bbc_rf_metrics_test)\n",
    "print_avg_metrics(\"Balanced Bagging Classifier with SVM Test\", bbc_svm_metrics_test)\n",
    "\n"
   ],
   "metadata": {
    "collapsed": false,
    "ExecuteTime": {
     "end_time": "2024-11-24T00:28:12.727297700Z",
     "start_time": "2024-11-24T00:26:28.801909100Z"
    }
   },
   "id": "82b6180d555b11d1"
  },
  {
   "cell_type": "code",
   "execution_count": 277,
   "outputs": [],
   "source": [],
   "metadata": {
    "collapsed": false,
    "ExecuteTime": {
     "end_time": "2024-11-24T00:28:12.727297700Z",
     "start_time": "2024-11-24T00:27:43.322609900Z"
    }
   },
   "id": "7ee858fc7b6f2a68"
  }
 ],
 "metadata": {
  "kernelspec": {
   "display_name": "Python 3",
   "language": "python",
   "name": "python3"
  },
  "language_info": {
   "codemirror_mode": {
    "name": "ipython",
    "version": 2
   },
   "file_extension": ".py",
   "mimetype": "text/x-python",
   "name": "python",
   "nbconvert_exporter": "python",
   "pygments_lexer": "ipython2",
   "version": "2.7.6"
  }
 },
 "nbformat": 4,
 "nbformat_minor": 5
}
